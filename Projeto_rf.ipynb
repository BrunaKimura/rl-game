{
 "cells": [
  {
   "cell_type": "code",
   "execution_count": 1,
   "metadata": {},
   "outputs": [
    {
     "name": "stderr",
     "output_type": "stream",
     "text": [
      "Using TensorFlow backend.\n"
     ]
    }
   ],
   "source": [
    "import numpy as np\n",
    "import gym\n",
    "import tensorflow as tf\n",
    "\n",
    "from keras.models import Sequential\n",
    "from keras.layers import Dense, Activation, Flatten\n",
    "from keras.optimizers import Adam\n",
    "\n",
    "from rl.agents.dqn import DQNAgent\n",
    "from rl.policy import EpsGreedyQPolicy\n",
    "from rl.memory import SequentialMemory"
   ]
  },
  {
   "cell_type": "code",
   "execution_count": 2,
   "metadata": {},
   "outputs": [
    {
     "data": {
      "text/plain": [
       "'1.13.1'"
      ]
     },
     "execution_count": 2,
     "metadata": {},
     "output_type": "execute_result"
    }
   ],
   "source": [
    "tf.__version__"
   ]
  },
  {
   "cell_type": "code",
   "execution_count": 3,
   "metadata": {},
   "outputs": [],
   "source": [
    "ENV_NAME = 'CartPole-v0'\n",
    "\n",
    "# Get the environment and extract the number of actions available in the Cartpole problem\n",
    "env = gym.make(ENV_NAME)\n",
    "np.random.seed(123)\n",
    "env.seed(123)\n",
    "nb_actions = env.action_space.n"
   ]
  },
  {
   "cell_type": "code",
   "execution_count": 4,
   "metadata": {},
   "outputs": [
    {
     "name": "stdout",
     "output_type": "stream",
     "text": [
      "WARNING:tensorflow:From /home/bruna/.local/lib/python3.6/site-packages/tensorflow/python/framework/op_def_library.py:263: colocate_with (from tensorflow.python.framework.ops) is deprecated and will be removed in a future version.\n",
      "Instructions for updating:\n",
      "Colocations handled automatically by placer.\n",
      "_________________________________________________________________\n",
      "Layer (type)                 Output Shape              Param #   \n",
      "=================================================================\n",
      "flatten_1 (Flatten)          (None, 4)                 0         \n",
      "_________________________________________________________________\n",
      "dense_1 (Dense)              (None, 16)                80        \n",
      "_________________________________________________________________\n",
      "activation_1 (Activation)    (None, 16)                0         \n",
      "_________________________________________________________________\n",
      "dense_2 (Dense)              (None, 2)                 34        \n",
      "_________________________________________________________________\n",
      "activation_2 (Activation)    (None, 2)                 0         \n",
      "=================================================================\n",
      "Total params: 114\n",
      "Trainable params: 114\n",
      "Non-trainable params: 0\n",
      "_________________________________________________________________\n",
      "None\n"
     ]
    }
   ],
   "source": [
    "model = Sequential()\n",
    "model.add(Flatten(input_shape=(1,) + env.observation_space.shape))\n",
    "model.add(Dense(16))\n",
    "model.add(Activation('relu'))\n",
    "model.add(Dense(nb_actions))\n",
    "model.add(Activation('linear'))\n",
    "print(model.summary())"
   ]
  },
  {
   "cell_type": "code",
   "execution_count": 5,
   "metadata": {},
   "outputs": [
    {
     "data": {
      "text/plain": [
       "<keras.engine.sequential.Sequential at 0x7fcde7c98d68>"
      ]
     },
     "execution_count": 5,
     "metadata": {},
     "output_type": "execute_result"
    }
   ],
   "source": [
    "model"
   ]
  },
  {
   "cell_type": "code",
   "execution_count": 6,
   "metadata": {
    "scrolled": true
   },
   "outputs": [
    {
     "name": "stdout",
     "output_type": "stream",
     "text": [
      "Training for 50000 steps ...\n",
      "WARNING:tensorflow:From /home/bruna/.local/lib/python3.6/site-packages/tensorflow/python/ops/math_ops.py:3066: to_int32 (from tensorflow.python.ops.math_ops) is deprecated and will be removed in a future version.\n",
      "Instructions for updating:\n",
      "Use tf.cast instead.\n"
     ]
    },
    {
     "name": "stderr",
     "output_type": "stream",
     "text": [
      "/home/bruna/.local/lib/python3.6/site-packages/rl/memory.py:39: UserWarning: Not enough entries to sample without replacement. Consider increasing your warm-up phase to avoid oversampling!\n",
      "  warnings.warn('Not enough entries to sample without replacement. Consider increasing your warm-up phase to avoid oversampling!')\n"
     ]
    },
    {
     "name": "stdout",
     "output_type": "stream",
     "text": [
      "    79/50000: episode: 1, duration: 1.420s, episode steps: 79, steps per second: 56, episode reward: 79.000, mean reward: 1.000 [1.000, 1.000], mean action: 0.519 [0.000, 1.000], mean observation: 0.060 [-0.402, 0.722], loss: 0.427881, mean_absolute_error: 0.495522, mean_q: 0.052736\n",
      "   113/50000: episode: 2, duration: 0.088s, episode steps: 34, steps per second: 387, episode reward: 34.000, mean reward: 1.000 [1.000, 1.000], mean action: 0.529 [0.000, 1.000], mean observation: 0.151 [-0.159, 0.753], loss: 0.348403, mean_absolute_error: 0.444050, mean_q: 0.194054\n",
      "   163/50000: episode: 3, duration: 0.145s, episode steps: 50, steps per second: 344, episode reward: 50.000, mean reward: 1.000 [1.000, 1.000], mean action: 0.520 [0.000, 1.000], mean observation: 0.082 [-0.295, 0.778], loss: 0.315736, mean_absolute_error: 0.466378, mean_q: 0.320439\n",
      "   197/50000: episode: 4, duration: 0.086s, episode steps: 34, steps per second: 394, episode reward: 34.000, mean reward: 1.000 [1.000, 1.000], mean action: 0.529 [0.000, 1.000], mean observation: 0.081 [-0.228, 0.770], loss: 0.274430, mean_absolute_error: 0.497494, mean_q: 0.469857\n",
      "   254/50000: episode: 5, duration: 0.154s, episode steps: 57, steps per second: 370, episode reward: 57.000, mean reward: 1.000 [1.000, 1.000], mean action: 0.509 [0.000, 1.000], mean observation: 0.024 [-0.394, 0.788], loss: 0.231104, mean_absolute_error: 0.555089, mean_q: 0.665655\n",
      "   288/50000: episode: 6, duration: 0.091s, episode steps: 34, steps per second: 373, episode reward: 34.000, mean reward: 1.000 [1.000, 1.000], mean action: 0.500 [0.000, 1.000], mean observation: 0.093 [-0.207, 0.836], loss: 0.190205, mean_absolute_error: 0.629925, mean_q: 0.886602\n",
      "   324/50000: episode: 7, duration: 0.115s, episode steps: 36, steps per second: 314, episode reward: 36.000, mean reward: 1.000 [1.000, 1.000], mean action: 0.500 [0.000, 1.000], mean observation: 0.066 [-0.363, 0.943], loss: 0.150982, mean_absolute_error: 0.697125, mean_q: 1.101239\n",
      "   359/50000: episode: 8, duration: 0.125s, episode steps: 35, steps per second: 279, episode reward: 35.000, mean reward: 1.000 [1.000, 1.000], mean action: 0.514 [0.000, 1.000], mean observation: 0.071 [-0.225, 0.871], loss: 0.117005, mean_absolute_error: 0.775316, mean_q: 1.337210\n",
      "   381/50000: episode: 9, duration: 0.059s, episode steps: 22, steps per second: 374, episode reward: 22.000, mean reward: 1.000 [1.000, 1.000], mean action: 0.500 [0.000, 1.000], mean observation: 0.106 [-0.350, 0.881], loss: 0.100618, mean_absolute_error: 0.864367, mean_q: 1.545670\n",
      "   401/50000: episode: 10, duration: 0.064s, episode steps: 20, steps per second: 310, episode reward: 20.000, mean reward: 1.000 [1.000, 1.000], mean action: 0.500 [0.000, 1.000], mean observation: 0.082 [-0.413, 0.874], loss: 0.094527, mean_absolute_error: 0.939601, mean_q: 1.718805\n",
      "   423/50000: episode: 11, duration: 0.065s, episode steps: 22, steps per second: 338, episode reward: 22.000, mean reward: 1.000 [1.000, 1.000], mean action: 0.500 [0.000, 1.000], mean observation: 0.078 [-0.616, 0.942], loss: 0.086562, mean_absolute_error: 1.005274, mean_q: 1.900313\n",
      "   443/50000: episode: 12, duration: 0.070s, episode steps: 20, steps per second: 284, episode reward: 20.000, mean reward: 1.000 [1.000, 1.000], mean action: 0.450 [0.000, 1.000], mean observation: 0.087 [-0.558, 1.174], loss: 0.082812, mean_absolute_error: 1.082330, mean_q: 2.071266\n",
      "   468/50000: episode: 13, duration: 0.089s, episode steps: 25, steps per second: 281, episode reward: 25.000, mean reward: 1.000 [1.000, 1.000], mean action: 0.480 [0.000, 1.000], mean observation: 0.080 [-0.369, 1.017], loss: 0.101101, mean_absolute_error: 1.199997, mean_q: 2.286397\n",
      "   492/50000: episode: 14, duration: 0.093s, episode steps: 24, steps per second: 258, episode reward: 24.000, mean reward: 1.000 [1.000, 1.000], mean action: 0.458 [0.000, 1.000], mean observation: 0.078 [-0.396, 1.106], loss: 0.094989, mean_absolute_error: 1.278231, mean_q: 2.460514\n",
      "   505/50000: episode: 15, duration: 0.049s, episode steps: 13, steps per second: 266, episode reward: 13.000, mean reward: 1.000 [1.000, 1.000], mean action: 0.385 [0.000, 1.000], mean observation: 0.094 [-0.790, 1.260], loss: 0.120483, mean_absolute_error: 1.365457, mean_q: 2.626038\n",
      "   517/50000: episode: 16, duration: 0.050s, episode steps: 12, steps per second: 240, episode reward: 12.000, mean reward: 1.000 [1.000, 1.000], mean action: 0.417 [0.000, 1.000], mean observation: 0.114 [-0.776, 1.266], loss: 0.110725, mean_absolute_error: 1.415760, mean_q: 2.741098\n",
      "   536/50000: episode: 17, duration: 0.082s, episode steps: 19, steps per second: 231, episode reward: 19.000, mean reward: 1.000 [1.000, 1.000], mean action: 0.421 [0.000, 1.000], mean observation: 0.071 [-0.587, 1.286], loss: 0.153776, mean_absolute_error: 1.481976, mean_q: 2.843082\n",
      "   554/50000: episode: 18, duration: 0.063s, episode steps: 18, steps per second: 286, episode reward: 18.000, mean reward: 1.000 [1.000, 1.000], mean action: 0.444 [0.000, 1.000], mean observation: 0.079 [-0.609, 1.188], loss: 0.175469, mean_absolute_error: 1.576352, mean_q: 3.031463\n",
      "   572/50000: episode: 19, duration: 0.060s, episode steps: 18, steps per second: 300, episode reward: 18.000, mean reward: 1.000 [1.000, 1.000], mean action: 0.389 [0.000, 1.000], mean observation: 0.100 [-0.771, 1.537], loss: 0.139279, mean_absolute_error: 1.637133, mean_q: 3.178285\n",
      "   584/50000: episode: 20, duration: 0.039s, episode steps: 12, steps per second: 306, episode reward: 12.000, mean reward: 1.000 [1.000, 1.000], mean action: 0.333 [0.000, 1.000], mean observation: 0.111 [-0.787, 1.463], loss: 0.185084, mean_absolute_error: 1.712580, mean_q: 3.353317\n",
      "   595/50000: episode: 21, duration: 0.039s, episode steps: 11, steps per second: 284, episode reward: 11.000, mean reward: 1.000 [1.000, 1.000], mean action: 0.364 [0.000, 1.000], mean observation: 0.146 [-0.771, 1.480], loss: 0.220892, mean_absolute_error: 1.781430, mean_q: 3.447915\n",
      "   607/50000: episode: 22, duration: 0.058s, episode steps: 12, steps per second: 208, episode reward: 12.000, mean reward: 1.000 [1.000, 1.000], mean action: 0.333 [0.000, 1.000], mean observation: 0.113 [-0.805, 1.493], loss: 0.237045, mean_absolute_error: 1.843077, mean_q: 3.565414\n",
      "   619/50000: episode: 23, duration: 0.043s, episode steps: 12, steps per second: 281, episode reward: 12.000, mean reward: 1.000 [1.000, 1.000], mean action: 0.417 [0.000, 1.000], mean observation: 0.120 [-0.562, 1.218], loss: 0.254744, mean_absolute_error: 1.870952, mean_q: 3.592890\n",
      "   632/50000: episode: 24, duration: 0.054s, episode steps: 13, steps per second: 239, episode reward: 13.000, mean reward: 1.000 [1.000, 1.000], mean action: 0.385 [0.000, 1.000], mean observation: 0.110 [-0.585, 1.213], loss: 0.364854, mean_absolute_error: 1.956430, mean_q: 3.713881\n",
      "   648/50000: episode: 25, duration: 0.062s, episode steps: 16, steps per second: 259, episode reward: 16.000, mean reward: 1.000 [1.000, 1.000], mean action: 0.375 [0.000, 1.000], mean observation: 0.067 [-0.808, 1.463], loss: 0.270248, mean_absolute_error: 2.000254, mean_q: 3.822145\n",
      "   658/50000: episode: 26, duration: 0.036s, episode steps: 10, steps per second: 275, episode reward: 10.000, mean reward: 1.000 [1.000, 1.000], mean action: 0.300 [0.000, 1.000], mean observation: 0.120 [-0.776, 1.493], loss: 0.192878, mean_absolute_error: 2.022945, mean_q: 3.958974\n",
      "   672/50000: episode: 27, duration: 0.038s, episode steps: 14, steps per second: 370, episode reward: 14.000, mean reward: 1.000 [1.000, 1.000], mean action: 0.357 [0.000, 1.000], mean observation: 0.075 [-0.802, 1.405], loss: 0.352493, mean_absolute_error: 2.119370, mean_q: 4.114494\n",
      "   687/50000: episode: 28, duration: 0.040s, episode steps: 15, steps per second: 371, episode reward: 15.000, mean reward: 1.000 [1.000, 1.000], mean action: 0.400 [0.000, 1.000], mean observation: 0.076 [-0.649, 1.284], loss: 0.348951, mean_absolute_error: 2.167585, mean_q: 4.178965\n",
      "   702/50000: episode: 29, duration: 0.041s, episode steps: 15, steps per second: 370, episode reward: 15.000, mean reward: 1.000 [1.000, 1.000], mean action: 0.400 [0.000, 1.000], mean observation: 0.123 [-0.735, 1.282], loss: 0.509851, mean_absolute_error: 2.276139, mean_q: 4.259662\n"
     ]
    },
    {
     "name": "stdout",
     "output_type": "stream",
     "text": [
      "   718/50000: episode: 30, duration: 0.042s, episode steps: 16, steps per second: 380, episode reward: 16.000, mean reward: 1.000 [1.000, 1.000], mean action: 0.438 [0.000, 1.000], mean observation: 0.104 [-0.557, 1.253], loss: 0.378808, mean_absolute_error: 2.313636, mean_q: 4.356735\n",
      "   736/50000: episode: 31, duration: 0.058s, episode steps: 18, steps per second: 309, episode reward: 18.000, mean reward: 1.000 [1.000, 1.000], mean action: 0.444 [0.000, 1.000], mean observation: 0.071 [-0.630, 1.190], loss: 0.443225, mean_absolute_error: 2.389580, mean_q: 4.505213\n",
      "   749/50000: episode: 32, duration: 0.037s, episode steps: 13, steps per second: 356, episode reward: 13.000, mean reward: 1.000 [1.000, 1.000], mean action: 0.462 [0.000, 1.000], mean observation: 0.084 [-0.641, 1.169], loss: 0.330261, mean_absolute_error: 2.385354, mean_q: 4.616232\n",
      "   765/50000: episode: 33, duration: 0.051s, episode steps: 16, steps per second: 315, episode reward: 16.000, mean reward: 1.000 [1.000, 1.000], mean action: 0.438 [0.000, 1.000], mean observation: 0.101 [-0.759, 1.187], loss: 0.483778, mean_absolute_error: 2.501276, mean_q: 4.775843\n",
      "   779/50000: episode: 34, duration: 0.038s, episode steps: 14, steps per second: 369, episode reward: 14.000, mean reward: 1.000 [1.000, 1.000], mean action: 0.429 [0.000, 1.000], mean observation: 0.111 [-0.549, 1.227], loss: 0.454071, mean_absolute_error: 2.546514, mean_q: 4.855073\n",
      "   791/50000: episode: 35, duration: 0.047s, episode steps: 12, steps per second: 255, episode reward: 12.000, mean reward: 1.000 [1.000, 1.000], mean action: 0.417 [0.000, 1.000], mean observation: 0.111 [-0.622, 1.239], loss: 0.355229, mean_absolute_error: 2.561301, mean_q: 4.954964\n",
      "   808/50000: episode: 36, duration: 0.062s, episode steps: 17, steps per second: 275, episode reward: 17.000, mean reward: 1.000 [1.000, 1.000], mean action: 0.412 [0.000, 1.000], mean observation: 0.077 [-0.624, 1.266], loss: 0.419653, mean_absolute_error: 2.651214, mean_q: 5.169590\n",
      "   822/50000: episode: 37, duration: 0.042s, episode steps: 14, steps per second: 334, episode reward: 14.000, mean reward: 1.000 [1.000, 1.000], mean action: 0.357 [0.000, 1.000], mean observation: 0.094 [-0.967, 1.633], loss: 0.421236, mean_absolute_error: 2.705509, mean_q: 5.307236\n",
      "   833/50000: episode: 38, duration: 0.032s, episode steps: 11, steps per second: 341, episode reward: 11.000, mean reward: 1.000 [1.000, 1.000], mean action: 0.273 [0.000, 1.000], mean observation: 0.117 [-0.967, 1.779], loss: 0.700993, mean_absolute_error: 2.790959, mean_q: 5.398985\n",
      "   847/50000: episode: 39, duration: 0.037s, episode steps: 14, steps per second: 377, episode reward: 14.000, mean reward: 1.000 [1.000, 1.000], mean action: 0.357 [0.000, 1.000], mean observation: 0.093 [-0.795, 1.447], loss: 0.707498, mean_absolute_error: 2.862352, mean_q: 5.438702\n",
      "   858/50000: episode: 40, duration: 0.035s, episode steps: 11, steps per second: 318, episode reward: 11.000, mean reward: 1.000 [1.000, 1.000], mean action: 0.364 [0.000, 1.000], mean observation: 0.107 [-0.802, 1.402], loss: 0.444290, mean_absolute_error: 2.858248, mean_q: 5.497121\n",
      "   869/50000: episode: 41, duration: 0.039s, episode steps: 11, steps per second: 280, episode reward: 11.000, mean reward: 1.000 [1.000, 1.000], mean action: 0.364 [0.000, 1.000], mean observation: 0.131 [-0.597, 1.259], loss: 0.632022, mean_absolute_error: 2.927075, mean_q: 5.620837\n",
      "   881/50000: episode: 42, duration: 0.034s, episode steps: 12, steps per second: 353, episode reward: 12.000, mean reward: 1.000 [1.000, 1.000], mean action: 0.333 [0.000, 1.000], mean observation: 0.095 [-0.841, 1.492], loss: 0.544741, mean_absolute_error: 2.972620, mean_q: 5.730441\n",
      "   891/50000: episode: 43, duration: 0.033s, episode steps: 10, steps per second: 302, episode reward: 10.000, mean reward: 1.000 [1.000, 1.000], mean action: 0.400 [0.000, 1.000], mean observation: 0.142 [-0.747, 1.332], loss: 0.532516, mean_absolute_error: 3.001768, mean_q: 5.831625\n",
      "   904/50000: episode: 44, duration: 0.036s, episode steps: 13, steps per second: 363, episode reward: 13.000, mean reward: 1.000 [1.000, 1.000], mean action: 0.385 [0.000, 1.000], mean observation: 0.112 [-0.750, 1.376], loss: 0.680981, mean_absolute_error: 3.078836, mean_q: 5.900457\n",
      "   918/50000: episode: 45, duration: 0.041s, episode steps: 14, steps per second: 345, episode reward: 14.000, mean reward: 1.000 [1.000, 1.000], mean action: 0.429 [0.000, 1.000], mean observation: 0.114 [-0.746, 1.325], loss: 0.486523, mean_absolute_error: 3.090524, mean_q: 5.990443\n",
      "   929/50000: episode: 46, duration: 0.045s, episode steps: 11, steps per second: 244, episode reward: 11.000, mean reward: 1.000 [1.000, 1.000], mean action: 0.364 [0.000, 1.000], mean observation: 0.142 [-0.749, 1.300], loss: 1.502119, mean_absolute_error: 3.329146, mean_q: 6.095665\n",
      "   942/50000: episode: 47, duration: 0.041s, episode steps: 13, steps per second: 318, episode reward: 13.000, mean reward: 1.000 [1.000, 1.000], mean action: 0.385 [0.000, 1.000], mean observation: 0.128 [-0.742, 1.243], loss: 0.955616, mean_absolute_error: 3.226219, mean_q: 5.955262\n",
      "   957/50000: episode: 48, duration: 0.043s, episode steps: 15, steps per second: 348, episode reward: 15.000, mean reward: 1.000 [1.000, 1.000], mean action: 0.467 [0.000, 1.000], mean observation: 0.076 [-0.630, 1.160], loss: 0.699990, mean_absolute_error: 3.215108, mean_q: 6.042964\n",
      "   972/50000: episode: 49, duration: 0.045s, episode steps: 15, steps per second: 334, episode reward: 15.000, mean reward: 1.000 [1.000, 1.000], mean action: 0.467 [0.000, 1.000], mean observation: 0.094 [-0.605, 1.162], loss: 0.864975, mean_absolute_error: 3.308196, mean_q: 6.265479\n",
      "   989/50000: episode: 50, duration: 0.048s, episode steps: 17, steps per second: 357, episode reward: 17.000, mean reward: 1.000 [1.000, 1.000], mean action: 0.471 [0.000, 1.000], mean observation: 0.066 [-0.811, 1.365], loss: 0.848167, mean_absolute_error: 3.351006, mean_q: 6.390163\n",
      "  1006/50000: episode: 51, duration: 0.059s, episode steps: 17, steps per second: 290, episode reward: 17.000, mean reward: 1.000 [1.000, 1.000], mean action: 0.471 [0.000, 1.000], mean observation: 0.091 [-0.555, 0.993], loss: 0.838971, mean_absolute_error: 3.404271, mean_q: 6.402803\n",
      "  1029/50000: episode: 52, duration: 0.062s, episode steps: 23, steps per second: 371, episode reward: 23.000, mean reward: 1.000 [1.000, 1.000], mean action: 0.478 [0.000, 1.000], mean observation: 0.057 [-0.626, 1.022], loss: 0.949644, mean_absolute_error: 3.458891, mean_q: 6.512557\n",
      "  1049/50000: episode: 53, duration: 0.053s, episode steps: 20, steps per second: 378, episode reward: 20.000, mean reward: 1.000 [1.000, 1.000], mean action: 0.450 [0.000, 1.000], mean observation: 0.081 [-0.820, 1.135], loss: 0.991228, mean_absolute_error: 3.519392, mean_q: 6.623528\n",
      "  1064/50000: episode: 54, duration: 0.039s, episode steps: 15, steps per second: 382, episode reward: 15.000, mean reward: 1.000 [1.000, 1.000], mean action: 0.467 [0.000, 1.000], mean observation: 0.089 [-0.598, 1.055], loss: 0.864880, mean_absolute_error: 3.565888, mean_q: 6.768615\n",
      "  1077/50000: episode: 55, duration: 0.038s, episode steps: 13, steps per second: 342, episode reward: 13.000, mean reward: 1.000 [1.000, 1.000], mean action: 0.462 [0.000, 1.000], mean observation: 0.094 [-0.576, 1.118], loss: 0.862928, mean_absolute_error: 3.602163, mean_q: 6.951786\n",
      "  1098/50000: episode: 56, duration: 0.065s, episode steps: 21, steps per second: 324, episode reward: 21.000, mean reward: 1.000 [1.000, 1.000], mean action: 0.476 [0.000, 1.000], mean observation: 0.046 [-0.619, 0.974], loss: 0.857737, mean_absolute_error: 3.658641, mean_q: 7.002909\n",
      "  1113/50000: episode: 57, duration: 0.045s, episode steps: 15, steps per second: 337, episode reward: 15.000, mean reward: 1.000 [1.000, 1.000], mean action: 0.467 [0.000, 1.000], mean observation: 0.096 [-0.608, 1.095], loss: 1.051108, mean_absolute_error: 3.763754, mean_q: 7.117223\n",
      "  1128/50000: episode: 58, duration: 0.043s, episode steps: 15, steps per second: 351, episode reward: 15.000, mean reward: 1.000 [1.000, 1.000], mean action: 0.467 [0.000, 1.000], mean observation: 0.098 [-0.752, 1.182], loss: 0.972227, mean_absolute_error: 3.760940, mean_q: 7.183985\n",
      "  1141/50000: episode: 59, duration: 0.035s, episode steps: 13, steps per second: 369, episode reward: 13.000, mean reward: 1.000 [1.000, 1.000], mean action: 0.462 [0.000, 1.000], mean observation: 0.103 [-0.629, 1.055], loss: 0.706450, mean_absolute_error: 3.797050, mean_q: 7.281790\n",
      "  1157/50000: episode: 60, duration: 0.045s, episode steps: 16, steps per second: 353, episode reward: 16.000, mean reward: 1.000 [1.000, 1.000], mean action: 0.438 [0.000, 1.000], mean observation: 0.085 [-0.637, 1.102], loss: 1.059203, mean_absolute_error: 3.874475, mean_q: 7.389043\n"
     ]
    },
    {
     "name": "stdout",
     "output_type": "stream",
     "text": [
      "  1172/50000: episode: 61, duration: 0.048s, episode steps: 15, steps per second: 315, episode reward: 15.000, mean reward: 1.000 [1.000, 1.000], mean action: 0.467 [0.000, 1.000], mean observation: 0.082 [-0.606, 1.056], loss: 0.842463, mean_absolute_error: 3.907808, mean_q: 7.453444\n",
      "  1189/50000: episode: 62, duration: 0.052s, episode steps: 17, steps per second: 329, episode reward: 17.000, mean reward: 1.000 [1.000, 1.000], mean action: 0.471 [0.000, 1.000], mean observation: 0.078 [-0.776, 1.181], loss: 1.017025, mean_absolute_error: 3.951949, mean_q: 7.563557\n",
      "  1209/50000: episode: 63, duration: 0.053s, episode steps: 20, steps per second: 377, episode reward: 20.000, mean reward: 1.000 [1.000, 1.000], mean action: 0.450 [0.000, 1.000], mean observation: 0.071 [-0.553, 1.036], loss: 1.029505, mean_absolute_error: 4.013451, mean_q: 7.642663\n",
      "  1226/50000: episode: 64, duration: 0.045s, episode steps: 17, steps per second: 380, episode reward: 17.000, mean reward: 1.000 [1.000, 1.000], mean action: 0.471 [0.000, 1.000], mean observation: 0.085 [-0.554, 1.127], loss: 0.890284, mean_absolute_error: 4.079906, mean_q: 7.831191\n",
      "  1244/50000: episode: 65, duration: 0.046s, episode steps: 18, steps per second: 389, episode reward: 18.000, mean reward: 1.000 [1.000, 1.000], mean action: 0.444 [0.000, 1.000], mean observation: 0.065 [-0.794, 1.140], loss: 1.054484, mean_absolute_error: 4.128323, mean_q: 7.827570\n",
      "  1262/50000: episode: 66, duration: 0.057s, episode steps: 18, steps per second: 318, episode reward: 18.000, mean reward: 1.000 [1.000, 1.000], mean action: 0.444 [0.000, 1.000], mean observation: 0.084 [-0.573, 1.027], loss: 0.923518, mean_absolute_error: 4.147740, mean_q: 7.914486\n",
      "  1283/50000: episode: 67, duration: 0.057s, episode steps: 21, steps per second: 370, episode reward: 21.000, mean reward: 1.000 [1.000, 1.000], mean action: 0.476 [0.000, 1.000], mean observation: 0.068 [-0.590, 0.902], loss: 1.368407, mean_absolute_error: 4.258018, mean_q: 8.011989\n",
      "  1299/50000: episode: 68, duration: 0.043s, episode steps: 16, steps per second: 370, episode reward: 16.000, mean reward: 1.000 [1.000, 1.000], mean action: 0.500 [0.000, 1.000], mean observation: 0.103 [-0.564, 0.971], loss: 1.356503, mean_absolute_error: 4.303998, mean_q: 7.977164\n",
      "  1321/50000: episode: 69, duration: 0.058s, episode steps: 22, steps per second: 376, episode reward: 22.000, mean reward: 1.000 [1.000, 1.000], mean action: 0.500 [0.000, 1.000], mean observation: 0.081 [-0.574, 0.914], loss: 1.624186, mean_absolute_error: 4.351946, mean_q: 8.056916\n",
      "  1340/50000: episode: 70, duration: 0.060s, episode steps: 19, steps per second: 318, episode reward: 19.000, mean reward: 1.000 [1.000, 1.000], mean action: 0.474 [0.000, 1.000], mean observation: 0.096 [-0.572, 0.998], loss: 1.270107, mean_absolute_error: 4.345297, mean_q: 8.067386\n",
      "  1356/50000: episode: 71, duration: 0.044s, episode steps: 16, steps per second: 361, episode reward: 16.000, mean reward: 1.000 [1.000, 1.000], mean action: 0.438 [0.000, 1.000], mean observation: 0.106 [-0.650, 1.352], loss: 1.403951, mean_absolute_error: 4.407681, mean_q: 8.264469\n",
      "  1369/50000: episode: 72, duration: 0.036s, episode steps: 13, steps per second: 366, episode reward: 13.000, mean reward: 1.000 [1.000, 1.000], mean action: 0.462 [0.000, 1.000], mean observation: 0.116 [-0.558, 0.996], loss: 1.358118, mean_absolute_error: 4.441517, mean_q: 8.314804\n",
      "  1387/50000: episode: 73, duration: 0.047s, episode steps: 18, steps per second: 384, episode reward: 18.000, mean reward: 1.000 [1.000, 1.000], mean action: 0.500 [0.000, 1.000], mean observation: 0.066 [-0.633, 0.971], loss: 1.301898, mean_absolute_error: 4.479494, mean_q: 8.377927\n",
      "  1402/50000: episode: 74, duration: 0.040s, episode steps: 15, steps per second: 372, episode reward: 15.000, mean reward: 1.000 [1.000, 1.000], mean action: 0.467 [0.000, 1.000], mean observation: 0.123 [-0.553, 0.970], loss: 1.302925, mean_absolute_error: 4.501399, mean_q: 8.479605\n",
      "  1422/50000: episode: 75, duration: 0.058s, episode steps: 20, steps per second: 344, episode reward: 20.000, mean reward: 1.000 [1.000, 1.000], mean action: 0.500 [0.000, 1.000], mean observation: 0.095 [-0.565, 0.879], loss: 1.366481, mean_absolute_error: 4.522715, mean_q: 8.489373\n",
      "  1444/50000: episode: 76, duration: 0.058s, episode steps: 22, steps per second: 381, episode reward: 22.000, mean reward: 1.000 [1.000, 1.000], mean action: 0.500 [0.000, 1.000], mean observation: 0.104 [-0.544, 0.933], loss: 1.171958, mean_absolute_error: 4.563388, mean_q: 8.634131\n",
      "  1466/50000: episode: 77, duration: 0.057s, episode steps: 22, steps per second: 384, episode reward: 22.000, mean reward: 1.000 [1.000, 1.000], mean action: 0.500 [0.000, 1.000], mean observation: 0.062 [-0.765, 1.343], loss: 1.218962, mean_absolute_error: 4.630213, mean_q: 8.775870\n",
      "  1484/50000: episode: 78, duration: 0.048s, episode steps: 18, steps per second: 378, episode reward: 18.000, mean reward: 1.000 [1.000, 1.000], mean action: 0.500 [0.000, 1.000], mean observation: 0.114 [-0.354, 0.749], loss: 1.241895, mean_absolute_error: 4.652197, mean_q: 8.823788\n",
      "  1505/50000: episode: 79, duration: 0.070s, episode steps: 21, steps per second: 300, episode reward: 21.000, mean reward: 1.000 [1.000, 1.000], mean action: 0.476 [0.000, 1.000], mean observation: 0.092 [-0.368, 0.893], loss: 1.277602, mean_absolute_error: 4.709664, mean_q: 8.960493\n",
      "  1527/50000: episode: 80, duration: 0.064s, episode steps: 22, steps per second: 342, episode reward: 22.000, mean reward: 1.000 [1.000, 1.000], mean action: 0.500 [0.000, 1.000], mean observation: 0.087 [-0.544, 0.903], loss: 1.300350, mean_absolute_error: 4.753570, mean_q: 8.941476\n",
      "  1548/50000: episode: 81, duration: 0.058s, episode steps: 21, steps per second: 364, episode reward: 21.000, mean reward: 1.000 [1.000, 1.000], mean action: 0.524 [0.000, 1.000], mean observation: 0.094 [-0.387, 0.832], loss: 1.729463, mean_absolute_error: 4.852831, mean_q: 9.030553\n",
      "  1573/50000: episode: 82, duration: 0.066s, episode steps: 25, steps per second: 376, episode reward: 25.000, mean reward: 1.000 [1.000, 1.000], mean action: 0.520 [0.000, 1.000], mean observation: 0.077 [-0.544, 0.882], loss: 1.255707, mean_absolute_error: 4.823020, mean_q: 9.105265\n",
      "  1601/50000: episode: 83, duration: 0.088s, episode steps: 28, steps per second: 317, episode reward: 28.000, mean reward: 1.000 [1.000, 1.000], mean action: 0.500 [0.000, 1.000], mean observation: 0.089 [-0.609, 0.893], loss: 1.408952, mean_absolute_error: 4.920288, mean_q: 9.363632\n",
      "  1627/50000: episode: 84, duration: 0.069s, episode steps: 26, steps per second: 377, episode reward: 26.000, mean reward: 1.000 [1.000, 1.000], mean action: 0.500 [0.000, 1.000], mean observation: 0.097 [-0.349, 0.768], loss: 1.284444, mean_absolute_error: 4.939278, mean_q: 9.334868\n",
      "  1655/50000: episode: 85, duration: 0.073s, episode steps: 28, steps per second: 384, episode reward: 28.000, mean reward: 1.000 [1.000, 1.000], mean action: 0.536 [0.000, 1.000], mean observation: 0.112 [-0.402, 0.724], loss: 1.284232, mean_absolute_error: 5.009941, mean_q: 9.550668\n",
      "  1681/50000: episode: 86, duration: 0.073s, episode steps: 26, steps per second: 355, episode reward: 26.000, mean reward: 1.000 [1.000, 1.000], mean action: 0.538 [0.000, 1.000], mean observation: 0.095 [-0.576, 0.872], loss: 1.397921, mean_absolute_error: 5.091945, mean_q: 9.658329\n",
      "  1716/50000: episode: 87, duration: 0.095s, episode steps: 35, steps per second: 370, episode reward: 35.000, mean reward: 1.000 [1.000, 1.000], mean action: 0.486 [0.000, 1.000], mean observation: 0.075 [-0.537, 1.072], loss: 1.457116, mean_absolute_error: 5.125815, mean_q: 9.714093\n",
      "  1748/50000: episode: 88, duration: 0.081s, episode steps: 32, steps per second: 395, episode reward: 32.000, mean reward: 1.000 [1.000, 1.000], mean action: 0.531 [0.000, 1.000], mean observation: 0.064 [-0.619, 0.854], loss: 1.145241, mean_absolute_error: 5.195033, mean_q: 9.992664\n",
      "  1787/50000: episode: 89, duration: 0.109s, episode steps: 39, steps per second: 358, episode reward: 39.000, mean reward: 1.000 [1.000, 1.000], mean action: 0.513 [0.000, 1.000], mean observation: 0.081 [-0.414, 0.698], loss: 1.699296, mean_absolute_error: 5.277770, mean_q: 9.999455\n",
      "  1827/50000: episode: 90, duration: 0.104s, episode steps: 40, steps per second: 385, episode reward: 40.000, mean reward: 1.000 [1.000, 1.000], mean action: 0.500 [0.000, 1.000], mean observation: 0.076 [-0.365, 0.931], loss: 1.582515, mean_absolute_error: 5.383813, mean_q: 10.207729\n"
     ]
    },
    {
     "name": "stdout",
     "output_type": "stream",
     "text": [
      "  1871/50000: episode: 91, duration: 0.122s, episode steps: 44, steps per second: 362, episode reward: 44.000, mean reward: 1.000 [1.000, 1.000], mean action: 0.523 [0.000, 1.000], mean observation: 0.063 [-0.536, 0.827], loss: 1.502543, mean_absolute_error: 5.433537, mean_q: 10.342675\n",
      "  1912/50000: episode: 92, duration: 0.108s, episode steps: 41, steps per second: 381, episode reward: 41.000, mean reward: 1.000 [1.000, 1.000], mean action: 0.512 [0.000, 1.000], mean observation: 0.079 [-0.421, 0.751], loss: 1.078176, mean_absolute_error: 5.495960, mean_q: 10.652429\n",
      "  1952/50000: episode: 93, duration: 0.111s, episode steps: 40, steps per second: 362, episode reward: 40.000, mean reward: 1.000 [1.000, 1.000], mean action: 0.525 [0.000, 1.000], mean observation: 0.064 [-0.393, 0.643], loss: 1.594903, mean_absolute_error: 5.589735, mean_q: 10.636061\n",
      "  2005/50000: episode: 94, duration: 0.140s, episode steps: 53, steps per second: 378, episode reward: 53.000, mean reward: 1.000 [1.000, 1.000], mean action: 0.528 [0.000, 1.000], mean observation: 0.066 [-0.225, 0.614], loss: 1.579729, mean_absolute_error: 5.717631, mean_q: 10.871854\n",
      "  2029/50000: episode: 95, duration: 0.062s, episode steps: 24, steps per second: 388, episode reward: 24.000, mean reward: 1.000 [1.000, 1.000], mean action: 0.542 [0.000, 1.000], mean observation: 0.133 [-0.358, 0.752], loss: 1.242830, mean_absolute_error: 5.733267, mean_q: 11.021541\n",
      "  2078/50000: episode: 96, duration: 0.135s, episode steps: 49, steps per second: 362, episode reward: 49.000, mean reward: 1.000 [1.000, 1.000], mean action: 0.531 [0.000, 1.000], mean observation: 0.102 [-0.343, 0.829], loss: 1.253630, mean_absolute_error: 5.828694, mean_q: 11.302483\n",
      "  2145/50000: episode: 97, duration: 0.182s, episode steps: 67, steps per second: 369, episode reward: 67.000, mean reward: 1.000 [1.000, 1.000], mean action: 0.522 [0.000, 1.000], mean observation: 0.021 [-0.398, 0.568], loss: 1.434057, mean_absolute_error: 5.971608, mean_q: 11.473297\n",
      "  2174/50000: episode: 98, duration: 0.074s, episode steps: 29, steps per second: 390, episode reward: 29.000, mean reward: 1.000 [1.000, 1.000], mean action: 0.552 [0.000, 1.000], mean observation: 0.121 [-0.185, 0.738], loss: 1.459814, mean_absolute_error: 6.072414, mean_q: 11.668353\n",
      "  2222/50000: episode: 99, duration: 0.123s, episode steps: 48, steps per second: 390, episode reward: 48.000, mean reward: 1.000 [1.000, 1.000], mean action: 0.542 [0.000, 1.000], mean observation: 0.139 [-0.302, 0.904], loss: 1.246837, mean_absolute_error: 6.110214, mean_q: 11.851672\n",
      "  2306/50000: episode: 100, duration: 0.224s, episode steps: 84, steps per second: 375, episode reward: 84.000, mean reward: 1.000 [1.000, 1.000], mean action: 0.524 [0.000, 1.000], mean observation: 0.026 [-0.240, 0.677], loss: 1.401315, mean_absolute_error: 6.241424, mean_q: 12.063346\n",
      "  2469/50000: episode: 101, duration: 0.459s, episode steps: 163, steps per second: 355, episode reward: 163.000, mean reward: 1.000 [1.000, 1.000], mean action: 0.515 [0.000, 1.000], mean observation: 0.111 [-0.467, 0.910], loss: 1.356167, mean_absolute_error: 6.500286, mean_q: 12.621594\n",
      "  2527/50000: episode: 102, duration: 0.152s, episode steps: 58, steps per second: 382, episode reward: 58.000, mean reward: 1.000 [1.000, 1.000], mean action: 0.483 [0.000, 1.000], mean observation: -0.120 [-0.987, 0.319], loss: 1.457207, mean_absolute_error: 6.781565, mean_q: 13.182331\n",
      "  2575/50000: episode: 103, duration: 0.136s, episode steps: 48, steps per second: 352, episode reward: 48.000, mean reward: 1.000 [1.000, 1.000], mean action: 0.479 [0.000, 1.000], mean observation: -0.107 [-0.690, 0.248], loss: 1.469678, mean_absolute_error: 6.895821, mean_q: 13.392758\n",
      "  2618/50000: episode: 104, duration: 0.110s, episode steps: 43, steps per second: 391, episode reward: 43.000, mean reward: 1.000 [1.000, 1.000], mean action: 0.512 [0.000, 1.000], mean observation: -0.038 [-0.926, 0.397], loss: 1.372237, mean_absolute_error: 7.050779, mean_q: 13.831886\n",
      "  2641/50000: episode: 105, duration: 0.060s, episode steps: 23, steps per second: 381, episode reward: 23.000, mean reward: 1.000 [1.000, 1.000], mean action: 0.478 [0.000, 1.000], mean observation: -0.117 [-0.971, 0.571], loss: 2.446728, mean_absolute_error: 7.141939, mean_q: 13.778008\n",
      "  2669/50000: episode: 106, duration: 0.086s, episode steps: 28, steps per second: 324, episode reward: 28.000, mean reward: 1.000 [1.000, 1.000], mean action: 0.464 [0.000, 1.000], mean observation: -0.105 [-1.021, 0.402], loss: 1.386825, mean_absolute_error: 7.250986, mean_q: 14.218155\n",
      "  2704/50000: episode: 107, duration: 0.092s, episode steps: 35, steps per second: 382, episode reward: 35.000, mean reward: 1.000 [1.000, 1.000], mean action: 0.486 [0.000, 1.000], mean observation: -0.074 [-0.841, 0.311], loss: 1.528153, mean_absolute_error: 7.255277, mean_q: 14.203422\n",
      "  2729/50000: episode: 108, duration: 0.065s, episode steps: 25, steps per second: 382, episode reward: 25.000, mean reward: 1.000 [1.000, 1.000], mean action: 0.520 [0.000, 1.000], mean observation: -0.068 [-1.002, 0.434], loss: 2.080839, mean_absolute_error: 7.390315, mean_q: 14.445662\n",
      "  2764/50000: episode: 109, duration: 0.099s, episode steps: 35, steps per second: 352, episode reward: 35.000, mean reward: 1.000 [1.000, 1.000], mean action: 0.514 [0.000, 1.000], mean observation: -0.042 [-0.952, 0.430], loss: 1.940224, mean_absolute_error: 7.560261, mean_q: 14.715663\n",
      "  2788/50000: episode: 110, duration: 0.062s, episode steps: 24, steps per second: 389, episode reward: 24.000, mean reward: 1.000 [1.000, 1.000], mean action: 0.500 [0.000, 1.000], mean observation: -0.094 [-0.787, 0.398], loss: 2.186285, mean_absolute_error: 7.668624, mean_q: 14.949210\n",
      "  2820/50000: episode: 111, duration: 0.139s, episode steps: 32, steps per second: 230, episode reward: 32.000, mean reward: 1.000 [1.000, 1.000], mean action: 0.469 [0.000, 1.000], mean observation: -0.104 [-0.742, 0.386], loss: 2.424440, mean_absolute_error: 7.713477, mean_q: 14.925051\n",
      "  2845/50000: episode: 112, duration: 0.093s, episode steps: 25, steps per second: 268, episode reward: 25.000, mean reward: 1.000 [1.000, 1.000], mean action: 0.520 [0.000, 1.000], mean observation: -0.089 [-1.027, 0.246], loss: 2.446869, mean_absolute_error: 7.785286, mean_q: 15.170688\n",
      "  2871/50000: episode: 113, duration: 0.079s, episode steps: 26, steps per second: 329, episode reward: 26.000, mean reward: 1.000 [1.000, 1.000], mean action: 0.500 [0.000, 1.000], mean observation: -0.066 [-0.899, 0.612], loss: 1.856840, mean_absolute_error: 7.783165, mean_q: 15.247072\n",
      "  2903/50000: episode: 114, duration: 0.100s, episode steps: 32, steps per second: 319, episode reward: 32.000, mean reward: 1.000 [1.000, 1.000], mean action: 0.500 [0.000, 1.000], mean observation: -0.085 [-0.944, 0.358], loss: 2.380240, mean_absolute_error: 7.944863, mean_q: 15.503457\n",
      "  2929/50000: episode: 115, duration: 0.114s, episode steps: 26, steps per second: 228, episode reward: 26.000, mean reward: 1.000 [1.000, 1.000], mean action: 0.500 [0.000, 1.000], mean observation: -0.083 [-0.977, 0.554], loss: 2.549297, mean_absolute_error: 8.042736, mean_q: 15.652613\n",
      "  2955/50000: episode: 116, duration: 0.143s, episode steps: 26, steps per second: 182, episode reward: 26.000, mean reward: 1.000 [1.000, 1.000], mean action: 0.500 [0.000, 1.000], mean observation: -0.062 [-0.993, 0.563], loss: 2.207457, mean_absolute_error: 8.148198, mean_q: 16.003477\n",
      "  2972/50000: episode: 117, duration: 0.050s, episode steps: 17, steps per second: 342, episode reward: 17.000, mean reward: 1.000 [1.000, 1.000], mean action: 0.471 [0.000, 1.000], mean observation: -0.108 [-0.831, 0.407], loss: 2.394114, mean_absolute_error: 8.135482, mean_q: 16.137041\n",
      "  2995/50000: episode: 118, duration: 0.068s, episode steps: 23, steps per second: 336, episode reward: 23.000, mean reward: 1.000 [1.000, 1.000], mean action: 0.478 [0.000, 1.000], mean observation: -0.115 [-0.766, 0.366], loss: 2.756973, mean_absolute_error: 8.194572, mean_q: 16.169201\n",
      "  3015/50000: episode: 119, duration: 0.057s, episode steps: 20, steps per second: 351, episode reward: 20.000, mean reward: 1.000 [1.000, 1.000], mean action: 0.500 [0.000, 1.000], mean observation: -0.107 [-0.898, 0.409], loss: 2.730128, mean_absolute_error: 8.318041, mean_q: 16.258289\n"
     ]
    },
    {
     "name": "stdout",
     "output_type": "stream",
     "text": [
      "  3034/50000: episode: 120, duration: 0.063s, episode steps: 19, steps per second: 303, episode reward: 19.000, mean reward: 1.000 [1.000, 1.000], mean action: 0.474 [0.000, 1.000], mean observation: -0.101 [-0.776, 0.437], loss: 2.213464, mean_absolute_error: 8.467155, mean_q: 16.640816\n",
      "  3052/50000: episode: 121, duration: 0.050s, episode steps: 18, steps per second: 358, episode reward: 18.000, mean reward: 1.000 [1.000, 1.000], mean action: 0.556 [0.000, 1.000], mean observation: -0.122 [-1.147, 0.550], loss: 2.233250, mean_absolute_error: 8.244177, mean_q: 16.308769\n",
      "  3073/50000: episode: 122, duration: 0.060s, episode steps: 21, steps per second: 350, episode reward: 21.000, mean reward: 1.000 [1.000, 1.000], mean action: 0.524 [0.000, 1.000], mean observation: -0.062 [-1.165, 0.768], loss: 5.606193, mean_absolute_error: 8.575185, mean_q: 16.537640\n",
      "  3084/50000: episode: 123, duration: 0.034s, episode steps: 11, steps per second: 322, episode reward: 11.000, mean reward: 1.000 [1.000, 1.000], mean action: 0.545 [0.000, 1.000], mean observation: -0.127 [-1.218, 0.744], loss: 2.881551, mean_absolute_error: 8.654632, mean_q: 16.757097\n",
      "  3105/50000: episode: 124, duration: 0.063s, episode steps: 21, steps per second: 334, episode reward: 21.000, mean reward: 1.000 [1.000, 1.000], mean action: 0.524 [0.000, 1.000], mean observation: -0.070 [-0.946, 0.590], loss: 3.215284, mean_absolute_error: 8.651442, mean_q: 16.779261\n",
      "  3123/50000: episode: 125, duration: 0.059s, episode steps: 18, steps per second: 305, episode reward: 18.000, mean reward: 1.000 [1.000, 1.000], mean action: 0.611 [0.000, 1.000], mean observation: -0.099 [-1.681, 0.797], loss: 3.633287, mean_absolute_error: 8.645397, mean_q: 16.843819\n",
      "  3136/50000: episode: 126, duration: 0.037s, episode steps: 13, steps per second: 351, episode reward: 13.000, mean reward: 1.000 [1.000, 1.000], mean action: 0.538 [0.000, 1.000], mean observation: -0.110 [-1.219, 0.627], loss: 3.768239, mean_absolute_error: 8.694512, mean_q: 16.923214\n",
      "  3152/50000: episode: 127, duration: 0.048s, episode steps: 16, steps per second: 336, episode reward: 16.000, mean reward: 1.000 [1.000, 1.000], mean action: 0.500 [0.000, 1.000], mean observation: -0.097 [-1.043, 0.626], loss: 4.459284, mean_absolute_error: 8.749269, mean_q: 16.977791\n",
      "  3170/50000: episode: 128, duration: 0.053s, episode steps: 18, steps per second: 338, episode reward: 18.000, mean reward: 1.000 [1.000, 1.000], mean action: 0.556 [0.000, 1.000], mean observation: -0.060 [-1.205, 0.829], loss: 3.758245, mean_absolute_error: 8.765138, mean_q: 16.968948\n",
      "  3191/50000: episode: 129, duration: 0.104s, episode steps: 21, steps per second: 203, episode reward: 21.000, mean reward: 1.000 [1.000, 1.000], mean action: 0.524 [0.000, 1.000], mean observation: -0.083 [-1.011, 0.569], loss: 4.225201, mean_absolute_error: 8.878924, mean_q: 17.049942\n",
      "  3217/50000: episode: 130, duration: 0.117s, episode steps: 26, steps per second: 223, episode reward: 26.000, mean reward: 1.000 [1.000, 1.000], mean action: 0.500 [0.000, 1.000], mean observation: -0.062 [-1.010, 0.570], loss: 3.499625, mean_absolute_error: 8.977451, mean_q: 17.390873\n",
      "  3238/50000: episode: 131, duration: 0.088s, episode steps: 21, steps per second: 238, episode reward: 21.000, mean reward: 1.000 [1.000, 1.000], mean action: 0.524 [0.000, 1.000], mean observation: -0.099 [-1.063, 0.393], loss: 3.282791, mean_absolute_error: 8.917735, mean_q: 17.212864\n",
      "  3257/50000: episode: 132, duration: 0.050s, episode steps: 19, steps per second: 380, episode reward: 19.000, mean reward: 1.000 [1.000, 1.000], mean action: 0.579 [0.000, 1.000], mean observation: -0.055 [-1.241, 0.616], loss: 5.787383, mean_absolute_error: 9.094055, mean_q: 17.277668\n",
      "  3270/50000: episode: 133, duration: 0.034s, episode steps: 13, steps per second: 380, episode reward: 13.000, mean reward: 1.000 [1.000, 1.000], mean action: 0.769 [0.000, 1.000], mean observation: -0.095 [-2.257, 1.404], loss: 4.853054, mean_absolute_error: 9.074897, mean_q: 17.323713\n",
      "  3281/50000: episode: 134, duration: 0.035s, episode steps: 11, steps per second: 310, episode reward: 11.000, mean reward: 1.000 [1.000, 1.000], mean action: 0.909 [0.000, 1.000], mean observation: -0.127 [-2.840, 1.784], loss: 4.086963, mean_absolute_error: 9.071037, mean_q: 17.535738\n",
      "  3291/50000: episode: 135, duration: 0.035s, episode steps: 10, steps per second: 287, episode reward: 10.000, mean reward: 1.000 [1.000, 1.000], mean action: 0.900 [0.000, 1.000], mean observation: -0.132 [-2.600, 1.554], loss: 2.879713, mean_absolute_error: 9.029220, mean_q: 17.441940\n",
      "  3308/50000: episode: 136, duration: 0.057s, episode steps: 17, steps per second: 298, episode reward: 17.000, mean reward: 1.000 [1.000, 1.000], mean action: 0.529 [0.000, 1.000], mean observation: -0.088 [-1.278, 0.744], loss: 4.835499, mean_absolute_error: 9.089714, mean_q: 17.383600\n",
      "  3321/50000: episode: 137, duration: 0.058s, episode steps: 13, steps per second: 226, episode reward: 13.000, mean reward: 1.000 [1.000, 1.000], mean action: 0.615 [0.000, 1.000], mean observation: -0.113 [-1.326, 0.790], loss: 3.293180, mean_absolute_error: 8.937642, mean_q: 17.204641\n",
      "  3340/50000: episode: 138, duration: 0.099s, episode steps: 19, steps per second: 191, episode reward: 19.000, mean reward: 1.000 [1.000, 1.000], mean action: 0.526 [0.000, 1.000], mean observation: -0.086 [-1.050, 0.433], loss: 5.458457, mean_absolute_error: 9.219356, mean_q: 17.625122\n",
      "  3361/50000: episode: 139, duration: 0.082s, episode steps: 21, steps per second: 255, episode reward: 21.000, mean reward: 1.000 [1.000, 1.000], mean action: 0.524 [0.000, 1.000], mean observation: -0.084 [-1.015, 0.540], loss: 4.710827, mean_absolute_error: 9.192641, mean_q: 17.566854\n",
      "  3373/50000: episode: 140, duration: 0.041s, episode steps: 12, steps per second: 291, episode reward: 12.000, mean reward: 1.000 [1.000, 1.000], mean action: 0.667 [0.000, 1.000], mean observation: -0.120 [-1.534, 0.799], loss: 3.153569, mean_absolute_error: 9.155791, mean_q: 17.706236\n",
      "  3386/50000: episode: 141, duration: 0.055s, episode steps: 13, steps per second: 237, episode reward: 13.000, mean reward: 1.000 [1.000, 1.000], mean action: 0.769 [0.000, 1.000], mean observation: -0.114 [-2.276, 1.353], loss: 3.602006, mean_absolute_error: 9.429794, mean_q: 18.228539\n",
      "  3394/50000: episode: 142, duration: 0.037s, episode steps: 8, steps per second: 218, episode reward: 8.000, mean reward: 1.000 [1.000, 1.000], mean action: 1.000 [1.000, 1.000], mean observation: -0.161 [-2.588, 1.556], loss: 5.323121, mean_absolute_error: 9.385197, mean_q: 18.036995\n",
      "  3425/50000: episode: 143, duration: 0.127s, episode steps: 31, steps per second: 245, episode reward: 31.000, mean reward: 1.000 [1.000, 1.000], mean action: 0.516 [0.000, 1.000], mean observation: -0.012 [-1.014, 0.627], loss: 3.440086, mean_absolute_error: 9.229459, mean_q: 17.814716\n",
      "  3445/50000: episode: 144, duration: 0.063s, episode steps: 20, steps per second: 319, episode reward: 20.000, mean reward: 1.000 [1.000, 1.000], mean action: 0.550 [0.000, 1.000], mean observation: -0.080 [-1.225, 0.579], loss: 5.640582, mean_absolute_error: 9.409513, mean_q: 17.910273\n",
      "  3475/50000: episode: 145, duration: 0.126s, episode steps: 30, steps per second: 237, episode reward: 30.000, mean reward: 1.000 [1.000, 1.000], mean action: 0.500 [0.000, 1.000], mean observation: -0.059 [-0.921, 0.604], loss: 5.154422, mean_absolute_error: 9.419523, mean_q: 17.899355\n",
      "  3492/50000: episode: 146, duration: 0.070s, episode steps: 17, steps per second: 243, episode reward: 17.000, mean reward: 1.000 [1.000, 1.000], mean action: 0.588 [0.000, 1.000], mean observation: -0.127 [-1.455, 0.588], loss: 5.409748, mean_absolute_error: 9.586663, mean_q: 18.237236\n",
      "  3504/50000: episode: 147, duration: 0.054s, episode steps: 12, steps per second: 220, episode reward: 12.000, mean reward: 1.000 [1.000, 1.000], mean action: 0.750 [0.000, 1.000], mean observation: -0.126 [-2.048, 1.147], loss: 4.269423, mean_absolute_error: 9.550761, mean_q: 18.385420\n",
      "  3520/50000: episode: 148, duration: 0.059s, episode steps: 16, steps per second: 273, episode reward: 16.000, mean reward: 1.000 [1.000, 1.000], mean action: 0.562 [0.000, 1.000], mean observation: -0.070 [-1.154, 0.600], loss: 6.338267, mean_absolute_error: 9.562710, mean_q: 18.279987\n"
     ]
    },
    {
     "name": "stdout",
     "output_type": "stream",
     "text": [
      "  3531/50000: episode: 149, duration: 0.057s, episode steps: 11, steps per second: 191, episode reward: 11.000, mean reward: 1.000 [1.000, 1.000], mean action: 0.727 [0.000, 1.000], mean observation: -0.110 [-1.808, 0.993], loss: 6.979950, mean_absolute_error: 9.577744, mean_q: 18.234556\n",
      "  3540/50000: episode: 150, duration: 0.047s, episode steps: 9, steps per second: 191, episode reward: 9.000, mean reward: 1.000 [1.000, 1.000], mean action: 1.000 [1.000, 1.000], mean observation: -0.164 [-2.828, 1.751], loss: 9.101558, mean_absolute_error: 9.907358, mean_q: 18.535810\n",
      "  3555/50000: episode: 151, duration: 0.083s, episode steps: 15, steps per second: 182, episode reward: 15.000, mean reward: 1.000 [1.000, 1.000], mean action: 0.600 [0.000, 1.000], mean observation: -0.097 [-1.396, 0.791], loss: 4.086903, mean_absolute_error: 9.428597, mean_q: 18.131456\n",
      "  3572/50000: episode: 152, duration: 0.073s, episode steps: 17, steps per second: 232, episode reward: 17.000, mean reward: 1.000 [1.000, 1.000], mean action: 0.529 [0.000, 1.000], mean observation: -0.110 [-1.155, 0.733], loss: 5.296612, mean_absolute_error: 9.519687, mean_q: 18.168964\n",
      "  3595/50000: episode: 153, duration: 0.140s, episode steps: 23, steps per second: 164, episode reward: 23.000, mean reward: 1.000 [1.000, 1.000], mean action: 0.565 [0.000, 1.000], mean observation: -0.069 [-1.358, 0.613], loss: 6.217868, mean_absolute_error: 9.727257, mean_q: 18.416889\n",
      "  3609/50000: episode: 154, duration: 0.070s, episode steps: 14, steps per second: 201, episode reward: 14.000, mean reward: 1.000 [1.000, 1.000], mean action: 0.571 [0.000, 1.000], mean observation: -0.099 [-1.187, 0.574], loss: 3.778851, mean_absolute_error: 9.418611, mean_q: 18.082535\n",
      "  3631/50000: episode: 155, duration: 0.107s, episode steps: 22, steps per second: 206, episode reward: 22.000, mean reward: 1.000 [1.000, 1.000], mean action: 0.545 [0.000, 1.000], mean observation: -0.069 [-1.325, 0.616], loss: 6.125397, mean_absolute_error: 9.769843, mean_q: 18.605368\n",
      "  3647/50000: episode: 156, duration: 0.102s, episode steps: 16, steps per second: 157, episode reward: 16.000, mean reward: 1.000 [1.000, 1.000], mean action: 0.562 [0.000, 1.000], mean observation: -0.101 [-1.062, 0.392], loss: 5.418998, mean_absolute_error: 9.615692, mean_q: 18.349459\n",
      "  3739/50000: episode: 157, duration: 0.303s, episode steps: 92, steps per second: 303, episode reward: 92.000, mean reward: 1.000 [1.000, 1.000], mean action: 0.522 [0.000, 1.000], mean observation: 0.134 [-0.450, 0.699], loss: 5.866355, mean_absolute_error: 9.663346, mean_q: 18.339470\n",
      "  3793/50000: episode: 158, duration: 0.147s, episode steps: 54, steps per second: 368, episode reward: 54.000, mean reward: 1.000 [1.000, 1.000], mean action: 0.537 [0.000, 1.000], mean observation: 0.092 [-0.205, 0.731], loss: 3.820246, mean_absolute_error: 9.629055, mean_q: 18.448891\n",
      "  3827/50000: episode: 159, duration: 0.104s, episode steps: 34, steps per second: 327, episode reward: 34.000, mean reward: 1.000 [1.000, 1.000], mean action: 0.559 [0.000, 1.000], mean observation: 0.135 [-0.172, 0.754], loss: 2.798888, mean_absolute_error: 9.593950, mean_q: 18.626564\n",
      "  3903/50000: episode: 160, duration: 0.245s, episode steps: 76, steps per second: 311, episode reward: 76.000, mean reward: 1.000 [1.000, 1.000], mean action: 0.513 [0.000, 1.000], mean observation: 0.058 [-0.530, 0.856], loss: 5.201729, mean_absolute_error: 9.711255, mean_q: 18.634930\n",
      "  3945/50000: episode: 161, duration: 0.130s, episode steps: 42, steps per second: 323, episode reward: 42.000, mean reward: 1.000 [1.000, 1.000], mean action: 0.548 [0.000, 1.000], mean observation: 0.169 [-0.208, 0.717], loss: 4.083711, mean_absolute_error: 9.687641, mean_q: 18.767138\n",
      "  3983/50000: episode: 162, duration: 0.138s, episode steps: 38, steps per second: 276, episode reward: 38.000, mean reward: 1.000 [1.000, 1.000], mean action: 0.553 [0.000, 1.000], mean observation: 0.162 [-0.193, 0.749], loss: 4.854746, mean_absolute_error: 9.781096, mean_q: 18.813807\n",
      "  4042/50000: episode: 163, duration: 0.171s, episode steps: 59, steps per second: 346, episode reward: 59.000, mean reward: 1.000 [1.000, 1.000], mean action: 0.542 [0.000, 1.000], mean observation: 0.117 [-0.429, 0.871], loss: 3.923153, mean_absolute_error: 9.774372, mean_q: 18.896069\n",
      "  4106/50000: episode: 164, duration: 0.185s, episode steps: 64, steps per second: 345, episode reward: 64.000, mean reward: 1.000 [1.000, 1.000], mean action: 0.531 [0.000, 1.000], mean observation: 0.192 [-0.372, 0.926], loss: 4.143883, mean_absolute_error: 9.763121, mean_q: 18.954220\n",
      "  4219/50000: episode: 165, duration: 0.296s, episode steps: 113, steps per second: 382, episode reward: 113.000, mean reward: 1.000 [1.000, 1.000], mean action: 0.513 [0.000, 1.000], mean observation: 0.100 [-0.609, 0.905], loss: 4.567747, mean_absolute_error: 9.957379, mean_q: 19.303102\n",
      "  4400/50000: episode: 166, duration: 0.478s, episode steps: 181, steps per second: 378, episode reward: 181.000, mean reward: 1.000 [1.000, 1.000], mean action: 0.486 [0.000, 1.000], mean observation: -0.080 [-0.954, 0.537], loss: 4.713470, mean_absolute_error: 10.113955, mean_q: 19.604691\n",
      "  4459/50000: episode: 167, duration: 0.154s, episode steps: 59, steps per second: 383, episode reward: 59.000, mean reward: 1.000 [1.000, 1.000], mean action: 0.542 [0.000, 1.000], mean observation: 0.153 [-0.194, 0.919], loss: 3.574650, mean_absolute_error: 10.248666, mean_q: 19.993629\n",
      "  4537/50000: episode: 168, duration: 0.211s, episode steps: 78, steps per second: 370, episode reward: 78.000, mean reward: 1.000 [1.000, 1.000], mean action: 0.526 [0.000, 1.000], mean observation: 0.163 [-0.320, 0.951], loss: 4.189221, mean_absolute_error: 10.345030, mean_q: 20.206581\n",
      "  4701/50000: episode: 169, duration: 0.439s, episode steps: 164, steps per second: 373, episode reward: 164.000, mean reward: 1.000 [1.000, 1.000], mean action: 0.518 [0.000, 1.000], mean observation: 0.070 [-0.511, 1.081], loss: 4.503539, mean_absolute_error: 10.548148, mean_q: 20.526194\n",
      "  4777/50000: episode: 170, duration: 0.222s, episode steps: 76, steps per second: 342, episode reward: 76.000, mean reward: 1.000 [1.000, 1.000], mean action: 0.539 [0.000, 1.000], mean observation: 0.191 [-0.373, 1.301], loss: 4.457865, mean_absolute_error: 10.683737, mean_q: 20.824780\n",
      "  4862/50000: episode: 171, duration: 0.239s, episode steps: 85, steps per second: 355, episode reward: 85.000, mean reward: 1.000 [1.000, 1.000], mean action: 0.529 [0.000, 1.000], mean observation: 0.170 [-0.300, 1.055], loss: 5.049914, mean_absolute_error: 10.744582, mean_q: 20.904303\n",
      "  4940/50000: episode: 172, duration: 0.216s, episode steps: 78, steps per second: 361, episode reward: 78.000, mean reward: 1.000 [1.000, 1.000], mean action: 0.538 [0.000, 1.000], mean observation: 0.170 [-0.252, 1.128], loss: 3.326478, mean_absolute_error: 10.853960, mean_q: 21.305128\n",
      "  5039/50000: episode: 173, duration: 0.274s, episode steps: 99, steps per second: 361, episode reward: 99.000, mean reward: 1.000 [1.000, 1.000], mean action: 0.535 [0.000, 1.000], mean observation: 0.147 [-0.342, 1.316], loss: 4.572014, mean_absolute_error: 10.926860, mean_q: 21.306345\n",
      "  5110/50000: episode: 174, duration: 0.187s, episode steps: 71, steps per second: 379, episode reward: 71.000, mean reward: 1.000 [1.000, 1.000], mean action: 0.549 [0.000, 1.000], mean observation: 0.184 [-0.471, 1.223], loss: 4.115104, mean_absolute_error: 11.004877, mean_q: 21.535557\n",
      "  5191/50000: episode: 175, duration: 0.335s, episode steps: 81, steps per second: 242, episode reward: 81.000, mean reward: 1.000 [1.000, 1.000], mean action: 0.543 [0.000, 1.000], mean observation: 0.235 [-0.488, 1.305], loss: 3.664757, mean_absolute_error: 11.066437, mean_q: 21.709349\n",
      "  5310/50000: episode: 176, duration: 0.501s, episode steps: 119, steps per second: 237, episode reward: 119.000, mean reward: 1.000 [1.000, 1.000], mean action: 0.479 [0.000, 1.000], mean observation: -0.148 [-0.931, 0.348], loss: 4.071857, mean_absolute_error: 11.269581, mean_q: 22.062872\n",
      "  5433/50000: episode: 177, duration: 0.474s, episode steps: 123, steps per second: 260, episode reward: 123.000, mean reward: 1.000 [1.000, 1.000], mean action: 0.528 [0.000, 1.000], mean observation: 0.181 [-0.512, 1.286], loss: 4.464862, mean_absolute_error: 11.467717, mean_q: 22.489737\n"
     ]
    },
    {
     "name": "stdout",
     "output_type": "stream",
     "text": [
      "  5510/50000: episode: 178, duration: 0.230s, episode steps: 77, steps per second: 335, episode reward: 77.000, mean reward: 1.000 [1.000, 1.000], mean action: 0.545 [0.000, 1.000], mean observation: 0.232 [-0.406, 1.272], loss: 4.117792, mean_absolute_error: 11.623552, mean_q: 22.812937\n",
      "  5590/50000: episode: 179, duration: 0.205s, episode steps: 80, steps per second: 390, episode reward: 80.000, mean reward: 1.000 [1.000, 1.000], mean action: 0.550 [0.000, 1.000], mean observation: 0.253 [-0.368, 1.455], loss: 5.059409, mean_absolute_error: 11.650640, mean_q: 22.723000\n",
      "  5672/50000: episode: 180, duration: 0.226s, episode steps: 82, steps per second: 362, episode reward: 82.000, mean reward: 1.000 [1.000, 1.000], mean action: 0.463 [0.000, 1.000], mean observation: -0.190 [-1.078, 0.460], loss: 4.800566, mean_absolute_error: 11.768478, mean_q: 23.016130\n",
      "  5826/50000: episode: 181, duration: 0.403s, episode steps: 154, steps per second: 382, episode reward: 154.000, mean reward: 1.000 [1.000, 1.000], mean action: 0.519 [0.000, 1.000], mean observation: 0.144 [-0.442, 1.303], loss: 4.803046, mean_absolute_error: 12.035312, mean_q: 23.570599\n",
      "  5939/50000: episode: 182, duration: 0.298s, episode steps: 113, steps per second: 379, episode reward: 113.000, mean reward: 1.000 [1.000, 1.000], mean action: 0.540 [0.000, 1.000], mean observation: 0.215 [-0.471, 1.602], loss: 4.213689, mean_absolute_error: 12.151743, mean_q: 23.895220\n",
      "  6139/50000: episode: 183, duration: 0.657s, episode steps: 200, steps per second: 304, episode reward: 200.000, mean reward: 1.000 [1.000, 1.000], mean action: 0.505 [0.000, 1.000], mean observation: 0.067 [-0.600, 0.574], loss: 4.647661, mean_absolute_error: 12.351261, mean_q: 24.292591\n",
      "  6245/50000: episode: 184, duration: 0.322s, episode steps: 106, steps per second: 330, episode reward: 106.000, mean reward: 1.000 [1.000, 1.000], mean action: 0.472 [0.000, 1.000], mean observation: -0.240 [-1.506, 0.302], loss: 4.890456, mean_absolute_error: 12.530072, mean_q: 24.535868\n",
      "  6360/50000: episode: 185, duration: 0.323s, episode steps: 115, steps per second: 356, episode reward: 115.000, mean reward: 1.000 [1.000, 1.000], mean action: 0.539 [0.000, 1.000], mean observation: 0.276 [-0.411, 1.653], loss: 4.342340, mean_absolute_error: 12.662867, mean_q: 24.925043\n",
      "  6525/50000: episode: 186, duration: 0.598s, episode steps: 165, steps per second: 276, episode reward: 165.000, mean reward: 1.000 [1.000, 1.000], mean action: 0.533 [0.000, 1.000], mean observation: 0.256 [-0.501, 2.000], loss: 3.781197, mean_absolute_error: 13.015595, mean_q: 25.707537\n",
      "  6725/50000: episode: 187, duration: 0.554s, episode steps: 200, steps per second: 361, episode reward: 200.000, mean reward: 1.000 [1.000, 1.000], mean action: 0.510 [0.000, 1.000], mean observation: 0.042 [-0.380, 0.746], loss: 4.837890, mean_absolute_error: 13.296201, mean_q: 26.222780\n",
      "  6925/50000: episode: 188, duration: 0.529s, episode steps: 200, steps per second: 378, episode reward: 200.000, mean reward: 1.000 [1.000, 1.000], mean action: 0.495 [0.000, 1.000], mean observation: -0.070 [-0.677, 0.521], loss: 4.865950, mean_absolute_error: 13.678836, mean_q: 27.018379\n",
      "  7083/50000: episode: 189, duration: 0.424s, episode steps: 158, steps per second: 373, episode reward: 158.000, mean reward: 1.000 [1.000, 1.000], mean action: 0.538 [0.000, 1.000], mean observation: 0.345 [-0.524, 2.166], loss: 4.700254, mean_absolute_error: 13.910318, mean_q: 27.484999\n",
      "  7203/50000: episode: 190, duration: 0.346s, episode steps: 120, steps per second: 346, episode reward: 120.000, mean reward: 1.000 [1.000, 1.000], mean action: 0.525 [0.000, 1.000], mean observation: 0.214 [-0.555, 1.306], loss: 4.841879, mean_absolute_error: 14.114062, mean_q: 27.933895\n",
      "  7363/50000: episode: 191, duration: 0.425s, episode steps: 160, steps per second: 377, episode reward: 160.000, mean reward: 1.000 [1.000, 1.000], mean action: 0.469 [0.000, 1.000], mean observation: -0.214 [-1.819, 0.617], loss: 4.649737, mean_absolute_error: 14.325584, mean_q: 28.469721\n",
      "  7563/50000: episode: 192, duration: 0.515s, episode steps: 200, steps per second: 389, episode reward: 200.000, mean reward: 1.000 [1.000, 1.000], mean action: 0.525 [0.000, 1.000], mean observation: 0.290 [-0.491, 2.076], loss: 4.627458, mean_absolute_error: 14.754622, mean_q: 29.279619\n",
      "  7763/50000: episode: 193, duration: 0.534s, episode steps: 200, steps per second: 374, episode reward: 200.000, mean reward: 1.000 [1.000, 1.000], mean action: 0.510 [0.000, 1.000], mean observation: 0.052 [-0.537, 0.734], loss: 5.490415, mean_absolute_error: 15.042402, mean_q: 29.725462\n",
      "  7963/50000: episode: 194, duration: 0.536s, episode steps: 200, steps per second: 373, episode reward: 200.000, mean reward: 1.000 [1.000, 1.000], mean action: 0.505 [0.000, 1.000], mean observation: 0.081 [-0.436, 0.654], loss: 4.615126, mean_absolute_error: 15.450679, mean_q: 30.700230\n",
      "  8152/50000: episode: 195, duration: 0.519s, episode steps: 189, steps per second: 364, episode reward: 189.000, mean reward: 1.000 [1.000, 1.000], mean action: 0.529 [0.000, 1.000], mean observation: 0.352 [-0.339, 2.430], loss: 5.089688, mean_absolute_error: 15.779661, mean_q: 31.308388\n",
      "  8348/50000: episode: 196, duration: 0.520s, episode steps: 196, steps per second: 377, episode reward: 196.000, mean reward: 1.000 [1.000, 1.000], mean action: 0.531 [0.000, 1.000], mean observation: 0.357 [-0.461, 2.424], loss: 4.798899, mean_absolute_error: 16.098257, mean_q: 32.112503\n",
      "  8548/50000: episode: 197, duration: 0.510s, episode steps: 200, steps per second: 392, episode reward: 200.000, mean reward: 1.000 [1.000, 1.000], mean action: 0.495 [0.000, 1.000], mean observation: -0.064 [-0.631, 0.538], loss: 5.700914, mean_absolute_error: 16.615137, mean_q: 33.040863\n",
      "  8748/50000: episode: 198, duration: 0.538s, episode steps: 200, steps per second: 372, episode reward: 200.000, mean reward: 1.000 [1.000, 1.000], mean action: 0.515 [0.000, 1.000], mean observation: 0.205 [-0.728, 1.332], loss: 5.693599, mean_absolute_error: 16.934193, mean_q: 33.774609\n",
      "  8948/50000: episode: 199, duration: 0.541s, episode steps: 200, steps per second: 370, episode reward: 200.000, mean reward: 1.000 [1.000, 1.000], mean action: 0.515 [0.000, 1.000], mean observation: 0.207 [-0.682, 1.321], loss: 5.214465, mean_absolute_error: 17.314072, mean_q: 34.560837\n",
      "  9148/50000: episode: 200, duration: 0.519s, episode steps: 200, steps per second: 385, episode reward: 200.000, mean reward: 1.000 [1.000, 1.000], mean action: 0.480 [0.000, 1.000], mean observation: -0.220 [-1.670, 0.587], loss: 6.066537, mean_absolute_error: 17.759722, mean_q: 35.461475\n",
      "  9348/50000: episode: 201, duration: 0.547s, episode steps: 200, steps per second: 366, episode reward: 200.000, mean reward: 1.000 [1.000, 1.000], mean action: 0.515 [0.000, 1.000], mean observation: 0.268 [-0.524, 1.848], loss: 6.247385, mean_absolute_error: 18.087978, mean_q: 36.114948\n",
      "  9548/50000: episode: 202, duration: 0.528s, episode steps: 200, steps per second: 378, episode reward: 200.000, mean reward: 1.000 [1.000, 1.000], mean action: 0.495 [0.000, 1.000], mean observation: -0.013 [-0.500, 0.549], loss: 6.170281, mean_absolute_error: 18.465559, mean_q: 36.842640\n",
      "  9748/50000: episode: 203, duration: 0.520s, episode steps: 200, steps per second: 385, episode reward: 200.000, mean reward: 1.000 [1.000, 1.000], mean action: 0.470 [0.000, 1.000], mean observation: -0.330 [-2.281, 0.581], loss: 6.616355, mean_absolute_error: 18.829407, mean_q: 37.566910\n",
      "  9948/50000: episode: 204, duration: 0.524s, episode steps: 200, steps per second: 382, episode reward: 200.000, mean reward: 1.000 [1.000, 1.000], mean action: 0.495 [0.000, 1.000], mean observation: -0.108 [-0.804, 0.490], loss: 6.570273, mean_absolute_error: 19.143024, mean_q: 38.189163\n",
      " 10148/50000: episode: 205, duration: 0.553s, episode steps: 200, steps per second: 362, episode reward: 200.000, mean reward: 1.000 [1.000, 1.000], mean action: 0.505 [0.000, 1.000], mean observation: 0.065 [-0.540, 0.607], loss: 7.546478, mean_absolute_error: 19.445633, mean_q: 38.709949\n",
      " 10348/50000: episode: 206, duration: 0.540s, episode steps: 200, steps per second: 371, episode reward: 200.000, mean reward: 1.000 [1.000, 1.000], mean action: 0.515 [0.000, 1.000], mean observation: 0.287 [-0.700, 1.818], loss: 7.021114, mean_absolute_error: 19.764917, mean_q: 39.461727\n"
     ]
    },
    {
     "name": "stdout",
     "output_type": "stream",
     "text": [
      " 10548/50000: episode: 207, duration: 0.531s, episode steps: 200, steps per second: 377, episode reward: 200.000, mean reward: 1.000 [1.000, 1.000], mean action: 0.495 [0.000, 1.000], mean observation: -0.038 [-0.590, 0.530], loss: 6.258637, mean_absolute_error: 20.047333, mean_q: 40.123783\n",
      " 10748/50000: episode: 208, duration: 0.756s, episode steps: 200, steps per second: 265, episode reward: 200.000, mean reward: 1.000 [1.000, 1.000], mean action: 0.495 [0.000, 1.000], mean observation: -0.140 [-0.828, 0.543], loss: 8.077374, mean_absolute_error: 20.449593, mean_q: 40.771065\n",
      " 10948/50000: episode: 209, duration: 0.558s, episode steps: 200, steps per second: 359, episode reward: 200.000, mean reward: 1.000 [1.000, 1.000], mean action: 0.500 [0.000, 1.000], mean observation: 0.058 [-0.559, 0.608], loss: 8.003611, mean_absolute_error: 20.663189, mean_q: 41.240185\n",
      " 11148/50000: episode: 210, duration: 0.520s, episode steps: 200, steps per second: 384, episode reward: 200.000, mean reward: 1.000 [1.000, 1.000], mean action: 0.505 [0.000, 1.000], mean observation: 0.095 [-0.631, 0.574], loss: 7.317130, mean_absolute_error: 21.068398, mean_q: 42.150700\n",
      " 11348/50000: episode: 211, duration: 0.524s, episode steps: 200, steps per second: 382, episode reward: 200.000, mean reward: 1.000 [1.000, 1.000], mean action: 0.500 [0.000, 1.000], mean observation: 0.041 [-0.621, 0.841], loss: 5.327896, mean_absolute_error: 21.369247, mean_q: 42.979202\n",
      " 11548/50000: episode: 212, duration: 0.512s, episode steps: 200, steps per second: 390, episode reward: 200.000, mean reward: 1.000 [1.000, 1.000], mean action: 0.500 [0.000, 1.000], mean observation: -0.011 [-0.626, 0.886], loss: 7.381679, mean_absolute_error: 21.837690, mean_q: 43.844872\n",
      " 11748/50000: episode: 213, duration: 0.545s, episode steps: 200, steps per second: 367, episode reward: 200.000, mean reward: 1.000 [1.000, 1.000], mean action: 0.510 [0.000, 1.000], mean observation: 0.118 [-0.551, 0.980], loss: 7.214722, mean_absolute_error: 22.158472, mean_q: 44.539745\n",
      " 11948/50000: episode: 214, duration: 0.533s, episode steps: 200, steps per second: 375, episode reward: 200.000, mean reward: 1.000 [1.000, 1.000], mean action: 0.500 [0.000, 1.000], mean observation: 0.068 [-0.561, 0.585], loss: 8.570841, mean_absolute_error: 22.566299, mean_q: 45.246933\n",
      " 12148/50000: episode: 215, duration: 0.526s, episode steps: 200, steps per second: 380, episode reward: 200.000, mean reward: 1.000 [1.000, 1.000], mean action: 0.505 [0.000, 1.000], mean observation: 0.075 [-0.569, 0.643], loss: 8.767050, mean_absolute_error: 22.802401, mean_q: 45.685928\n",
      " 12348/50000: episode: 216, duration: 0.512s, episode steps: 200, steps per second: 391, episode reward: 200.000, mean reward: 1.000 [1.000, 1.000], mean action: 0.500 [0.000, 1.000], mean observation: 0.016 [-0.551, 0.600], loss: 8.643460, mean_absolute_error: 23.150267, mean_q: 46.480869\n",
      " 12548/50000: episode: 217, duration: 0.508s, episode steps: 200, steps per second: 394, episode reward: 200.000, mean reward: 1.000 [1.000, 1.000], mean action: 0.500 [0.000, 1.000], mean observation: -0.039 [-0.861, 0.902], loss: 9.469821, mean_absolute_error: 23.420889, mean_q: 46.900726\n",
      " 12748/50000: episode: 218, duration: 0.520s, episode steps: 200, steps per second: 385, episode reward: 200.000, mean reward: 1.000 [1.000, 1.000], mean action: 0.500 [0.000, 1.000], mean observation: -0.010 [-0.572, 0.593], loss: 8.600168, mean_absolute_error: 23.656500, mean_q: 47.439835\n",
      " 12948/50000: episode: 219, duration: 0.511s, episode steps: 200, steps per second: 391, episode reward: 200.000, mean reward: 1.000 [1.000, 1.000], mean action: 0.495 [0.000, 1.000], mean observation: -0.108 [-0.922, 0.576], loss: 8.768532, mean_absolute_error: 23.909731, mean_q: 48.008316\n",
      " 13148/50000: episode: 220, duration: 0.519s, episode steps: 200, steps per second: 386, episode reward: 200.000, mean reward: 1.000 [1.000, 1.000], mean action: 0.500 [0.000, 1.000], mean observation: -0.007 [-0.834, 0.589], loss: 8.939976, mean_absolute_error: 24.174122, mean_q: 48.537621\n",
      " 13348/50000: episode: 221, duration: 0.517s, episode steps: 200, steps per second: 387, episode reward: 200.000, mean reward: 1.000 [1.000, 1.000], mean action: 0.500 [0.000, 1.000], mean observation: 0.006 [-0.545, 0.461], loss: 9.341237, mean_absolute_error: 24.460682, mean_q: 49.119774\n",
      " 13548/50000: episode: 222, duration: 0.556s, episode steps: 200, steps per second: 360, episode reward: 200.000, mean reward: 1.000 [1.000, 1.000], mean action: 0.500 [0.000, 1.000], mean observation: 0.017 [-0.540, 0.629], loss: 9.875657, mean_absolute_error: 24.723885, mean_q: 49.696095\n",
      " 13748/50000: episode: 223, duration: 0.536s, episode steps: 200, steps per second: 373, episode reward: 200.000, mean reward: 1.000 [1.000, 1.000], mean action: 0.500 [0.000, 1.000], mean observation: 0.071 [-0.545, 0.647], loss: 8.087912, mean_absolute_error: 25.008034, mean_q: 50.339928\n",
      " 13948/50000: episode: 224, duration: 0.539s, episode steps: 200, steps per second: 371, episode reward: 200.000, mean reward: 1.000 [1.000, 1.000], mean action: 0.500 [0.000, 1.000], mean observation: -0.033 [-0.604, 0.546], loss: 7.956623, mean_absolute_error: 25.306416, mean_q: 51.075668\n",
      " 14148/50000: episode: 225, duration: 0.517s, episode steps: 200, steps per second: 387, episode reward: 200.000, mean reward: 1.000 [1.000, 1.000], mean action: 0.500 [0.000, 1.000], mean observation: -0.085 [-0.716, 0.815], loss: 8.611083, mean_absolute_error: 25.652071, mean_q: 51.690742\n",
      " 14348/50000: episode: 226, duration: 0.516s, episode steps: 200, steps per second: 387, episode reward: 200.000, mean reward: 1.000 [1.000, 1.000], mean action: 0.510 [0.000, 1.000], mean observation: 0.156 [-0.380, 0.899], loss: 8.088687, mean_absolute_error: 25.928144, mean_q: 52.279957\n",
      " 14548/50000: episode: 227, duration: 0.531s, episode steps: 200, steps per second: 377, episode reward: 200.000, mean reward: 1.000 [1.000, 1.000], mean action: 0.500 [0.000, 1.000], mean observation: -0.091 [-0.686, 0.607], loss: 9.738230, mean_absolute_error: 26.315523, mean_q: 52.972828\n",
      " 14748/50000: episode: 228, duration: 0.534s, episode steps: 200, steps per second: 375, episode reward: 200.000, mean reward: 1.000 [1.000, 1.000], mean action: 0.500 [0.000, 1.000], mean observation: -0.022 [-0.632, 0.441], loss: 8.788246, mean_absolute_error: 26.590061, mean_q: 53.626202\n",
      " 14948/50000: episode: 229, duration: 0.525s, episode steps: 200, steps per second: 381, episode reward: 200.000, mean reward: 1.000 [1.000, 1.000], mean action: 0.500 [0.000, 1.000], mean observation: 0.015 [-0.559, 0.409], loss: 9.484510, mean_absolute_error: 26.888018, mean_q: 54.142319\n",
      " 15148/50000: episode: 230, duration: 0.514s, episode steps: 200, steps per second: 389, episode reward: 200.000, mean reward: 1.000 [1.000, 1.000], mean action: 0.500 [0.000, 1.000], mean observation: -0.069 [-0.616, 0.700], loss: 10.180778, mean_absolute_error: 27.089048, mean_q: 54.528339\n",
      " 15348/50000: episode: 231, duration: 0.517s, episode steps: 200, steps per second: 387, episode reward: 200.000, mean reward: 1.000 [1.000, 1.000], mean action: 0.500 [0.000, 1.000], mean observation: -0.061 [-0.560, 0.522], loss: 9.550233, mean_absolute_error: 27.371904, mean_q: 55.129112\n",
      " 15548/50000: episode: 232, duration: 0.518s, episode steps: 200, steps per second: 386, episode reward: 200.000, mean reward: 1.000 [1.000, 1.000], mean action: 0.510 [0.000, 1.000], mean observation: 0.216 [-0.435, 1.345], loss: 9.101234, mean_absolute_error: 27.575422, mean_q: 55.626328\n",
      " 15748/50000: episode: 233, duration: 0.522s, episode steps: 200, steps per second: 383, episode reward: 200.000, mean reward: 1.000 [1.000, 1.000], mean action: 0.500 [0.000, 1.000], mean observation: -0.086 [-0.612, 0.589], loss: 11.111259, mean_absolute_error: 27.973179, mean_q: 56.330971\n",
      " 15948/50000: episode: 234, duration: 0.530s, episode steps: 200, steps per second: 378, episode reward: 200.000, mean reward: 1.000 [1.000, 1.000], mean action: 0.505 [0.000, 1.000], mean observation: 0.062 [-0.508, 0.516], loss: 10.982288, mean_absolute_error: 28.153284, mean_q: 56.731834\n",
      " 16148/50000: episode: 235, duration: 0.518s, episode steps: 200, steps per second: 386, episode reward: 200.000, mean reward: 1.000 [1.000, 1.000], mean action: 0.500 [0.000, 1.000], mean observation: 0.024 [-0.806, 0.600], loss: 12.078228, mean_absolute_error: 28.298735, mean_q: 56.976707\n"
     ]
    },
    {
     "name": "stdout",
     "output_type": "stream",
     "text": [
      " 16348/50000: episode: 236, duration: 0.537s, episode steps: 200, steps per second: 372, episode reward: 200.000, mean reward: 1.000 [1.000, 1.000], mean action: 0.500 [0.000, 1.000], mean observation: -0.011 [-0.582, 0.550], loss: 11.185594, mean_absolute_error: 28.661762, mean_q: 57.678761\n",
      " 16548/50000: episode: 237, duration: 0.614s, episode steps: 200, steps per second: 326, episode reward: 200.000, mean reward: 1.000 [1.000, 1.000], mean action: 0.505 [0.000, 1.000], mean observation: 0.078 [-0.558, 0.598], loss: 12.355051, mean_absolute_error: 28.770132, mean_q: 57.832832\n",
      " 16748/50000: episode: 238, duration: 0.566s, episode steps: 200, steps per second: 353, episode reward: 200.000, mean reward: 1.000 [1.000, 1.000], mean action: 0.505 [0.000, 1.000], mean observation: 0.132 [-0.400, 0.862], loss: 9.980508, mean_absolute_error: 28.949112, mean_q: 58.338573\n",
      " 16948/50000: episode: 239, duration: 0.531s, episode steps: 200, steps per second: 377, episode reward: 200.000, mean reward: 1.000 [1.000, 1.000], mean action: 0.505 [0.000, 1.000], mean observation: 0.107 [-0.617, 0.869], loss: 10.471192, mean_absolute_error: 29.067087, mean_q: 58.659637\n",
      " 17148/50000: episode: 240, duration: 0.588s, episode steps: 200, steps per second: 340, episode reward: 200.000, mean reward: 1.000 [1.000, 1.000], mean action: 0.500 [0.000, 1.000], mean observation: -0.057 [-0.575, 0.691], loss: 12.889985, mean_absolute_error: 29.391762, mean_q: 59.214996\n",
      " 17348/50000: episode: 241, duration: 0.557s, episode steps: 200, steps per second: 359, episode reward: 200.000, mean reward: 1.000 [1.000, 1.000], mean action: 0.495 [0.000, 1.000], mean observation: -0.099 [-0.626, 0.451], loss: 11.991965, mean_absolute_error: 29.522800, mean_q: 59.486240\n",
      " 17548/50000: episode: 242, duration: 0.532s, episode steps: 200, steps per second: 376, episode reward: 200.000, mean reward: 1.000 [1.000, 1.000], mean action: 0.500 [0.000, 1.000], mean observation: -0.029 [-0.554, 0.609], loss: 11.689156, mean_absolute_error: 29.695601, mean_q: 59.874268\n",
      " 17748/50000: episode: 243, duration: 0.540s, episode steps: 200, steps per second: 371, episode reward: 200.000, mean reward: 1.000 [1.000, 1.000], mean action: 0.505 [0.000, 1.000], mean observation: 0.069 [-0.534, 0.613], loss: 10.305237, mean_absolute_error: 29.990572, mean_q: 60.467606\n",
      " 17948/50000: episode: 244, duration: 0.520s, episode steps: 200, steps per second: 385, episode reward: 200.000, mean reward: 1.000 [1.000, 1.000], mean action: 0.500 [0.000, 1.000], mean observation: -0.052 [-0.881, 0.617], loss: 9.470213, mean_absolute_error: 30.288738, mean_q: 61.143234\n",
      " 18148/50000: episode: 245, duration: 0.517s, episode steps: 200, steps per second: 387, episode reward: 200.000, mean reward: 1.000 [1.000, 1.000], mean action: 0.500 [0.000, 1.000], mean observation: 0.009 [-0.508, 0.385], loss: 10.559327, mean_absolute_error: 30.466816, mean_q: 61.471905\n",
      " 18348/50000: episode: 246, duration: 0.542s, episode steps: 200, steps per second: 369, episode reward: 200.000, mean reward: 1.000 [1.000, 1.000], mean action: 0.505 [0.000, 1.000], mean observation: -0.023 [-0.591, 0.645], loss: 12.828874, mean_absolute_error: 30.729326, mean_q: 61.880196\n",
      " 18548/50000: episode: 247, duration: 0.521s, episode steps: 200, steps per second: 384, episode reward: 200.000, mean reward: 1.000 [1.000, 1.000], mean action: 0.500 [0.000, 1.000], mean observation: 0.044 [-0.497, 0.619], loss: 11.578485, mean_absolute_error: 30.733145, mean_q: 62.066437\n",
      " 18748/50000: episode: 248, duration: 0.514s, episode steps: 200, steps per second: 389, episode reward: 200.000, mean reward: 1.000 [1.000, 1.000], mean action: 0.510 [0.000, 1.000], mean observation: 0.170 [-0.550, 1.058], loss: 9.871216, mean_absolute_error: 31.035460, mean_q: 62.721855\n",
      " 18948/50000: episode: 249, duration: 0.518s, episode steps: 200, steps per second: 386, episode reward: 200.000, mean reward: 1.000 [1.000, 1.000], mean action: 0.500 [0.000, 1.000], mean observation: 0.001 [-0.619, 0.770], loss: 12.681018, mean_absolute_error: 31.208590, mean_q: 62.936737\n",
      " 19148/50000: episode: 250, duration: 0.514s, episode steps: 200, steps per second: 389, episode reward: 200.000, mean reward: 1.000 [1.000, 1.000], mean action: 0.500 [0.000, 1.000], mean observation: 0.047 [-0.563, 0.830], loss: 12.825104, mean_absolute_error: 31.397999, mean_q: 63.280048\n",
      " 19348/50000: episode: 251, duration: 0.519s, episode steps: 200, steps per second: 386, episode reward: 200.000, mean reward: 1.000 [1.000, 1.000], mean action: 0.510 [0.000, 1.000], mean observation: 0.227 [-0.576, 1.466], loss: 11.655745, mean_absolute_error: 31.563013, mean_q: 63.699051\n",
      " 19548/50000: episode: 252, duration: 0.562s, episode steps: 200, steps per second: 356, episode reward: 200.000, mean reward: 1.000 [1.000, 1.000], mean action: 0.500 [0.000, 1.000], mean observation: -0.046 [-0.642, 0.707], loss: 12.920647, mean_absolute_error: 31.741133, mean_q: 64.029678\n",
      " 19748/50000: episode: 253, duration: 0.528s, episode steps: 200, steps per second: 379, episode reward: 200.000, mean reward: 1.000 [1.000, 1.000], mean action: 0.500 [0.000, 1.000], mean observation: 0.043 [-0.770, 0.655], loss: 11.156162, mean_absolute_error: 31.863955, mean_q: 64.339920\n",
      " 19948/50000: episode: 254, duration: 0.526s, episode steps: 200, steps per second: 380, episode reward: 200.000, mean reward: 1.000 [1.000, 1.000], mean action: 0.510 [0.000, 1.000], mean observation: 0.173 [-0.501, 1.068], loss: 11.076493, mean_absolute_error: 32.002800, mean_q: 64.560936\n",
      " 20148/50000: episode: 255, duration: 0.543s, episode steps: 200, steps per second: 368, episode reward: 200.000, mean reward: 1.000 [1.000, 1.000], mean action: 0.500 [0.000, 1.000], mean observation: 0.032 [-0.549, 0.600], loss: 11.625642, mean_absolute_error: 32.240318, mean_q: 65.049133\n",
      " 20348/50000: episode: 256, duration: 0.513s, episode steps: 200, steps per second: 389, episode reward: 200.000, mean reward: 1.000 [1.000, 1.000], mean action: 0.500 [0.000, 1.000], mean observation: 0.021 [-0.543, 0.603], loss: 11.231616, mean_absolute_error: 32.308460, mean_q: 65.216316\n",
      " 20548/50000: episode: 257, duration: 0.512s, episode steps: 200, steps per second: 391, episode reward: 200.000, mean reward: 1.000 [1.000, 1.000], mean action: 0.510 [0.000, 1.000], mean observation: 0.213 [-0.579, 1.372], loss: 13.152527, mean_absolute_error: 32.630840, mean_q: 65.796471\n",
      " 20748/50000: episode: 258, duration: 0.552s, episode steps: 200, steps per second: 362, episode reward: 200.000, mean reward: 1.000 [1.000, 1.000], mean action: 0.500 [0.000, 1.000], mean observation: 0.008 [-0.612, 0.569], loss: 13.548590, mean_absolute_error: 32.615040, mean_q: 65.731590\n",
      " 20948/50000: episode: 259, duration: 0.522s, episode steps: 200, steps per second: 383, episode reward: 200.000, mean reward: 1.000 [1.000, 1.000], mean action: 0.500 [0.000, 1.000], mean observation: 0.036 [-0.492, 0.443], loss: 10.932659, mean_absolute_error: 32.792309, mean_q: 66.262764\n",
      " 21148/50000: episode: 260, duration: 0.508s, episode steps: 200, steps per second: 394, episode reward: 200.000, mean reward: 1.000 [1.000, 1.000], mean action: 0.500 [0.000, 1.000], mean observation: -0.005 [-0.604, 0.566], loss: 12.637922, mean_absolute_error: 32.958588, mean_q: 66.515617\n",
      " 21348/50000: episode: 261, duration: 0.509s, episode steps: 200, steps per second: 393, episode reward: 200.000, mean reward: 1.000 [1.000, 1.000], mean action: 0.515 [0.000, 1.000], mean observation: 0.200 [-0.491, 1.295], loss: 14.384021, mean_absolute_error: 33.035080, mean_q: 66.670372\n",
      " 21548/50000: episode: 262, duration: 0.510s, episode steps: 200, steps per second: 392, episode reward: 200.000, mean reward: 1.000 [1.000, 1.000], mean action: 0.510 [0.000, 1.000], mean observation: 0.145 [-0.528, 0.912], loss: 10.531473, mean_absolute_error: 33.212811, mean_q: 67.119659\n",
      " 21748/50000: episode: 263, duration: 0.513s, episode steps: 200, steps per second: 390, episode reward: 200.000, mean reward: 1.000 [1.000, 1.000], mean action: 0.505 [0.000, 1.000], mean observation: 0.128 [-0.621, 0.769], loss: 12.881325, mean_absolute_error: 33.303898, mean_q: 67.231895\n",
      " 21948/50000: episode: 264, duration: 0.534s, episode steps: 200, steps per second: 374, episode reward: 200.000, mean reward: 1.000 [1.000, 1.000], mean action: 0.510 [0.000, 1.000], mean observation: 0.105 [-0.627, 0.726], loss: 12.330753, mean_absolute_error: 33.633801, mean_q: 67.898926\n"
     ]
    },
    {
     "name": "stdout",
     "output_type": "stream",
     "text": [
      " 22148/50000: episode: 265, duration: 0.523s, episode steps: 200, steps per second: 382, episode reward: 200.000, mean reward: 1.000 [1.000, 1.000], mean action: 0.510 [0.000, 1.000], mean observation: 0.141 [-0.356, 0.902], loss: 16.150740, mean_absolute_error: 33.654934, mean_q: 67.821648\n",
      " 22348/50000: episode: 266, duration: 0.516s, episode steps: 200, steps per second: 388, episode reward: 200.000, mean reward: 1.000 [1.000, 1.000], mean action: 0.510 [0.000, 1.000], mean observation: 0.167 [-0.535, 1.106], loss: 9.832590, mean_absolute_error: 33.668777, mean_q: 68.089455\n",
      " 22548/50000: episode: 267, duration: 0.515s, episode steps: 200, steps per second: 389, episode reward: 200.000, mean reward: 1.000 [1.000, 1.000], mean action: 0.500 [0.000, 1.000], mean observation: 0.001 [-0.684, 0.747], loss: 12.088122, mean_absolute_error: 33.950562, mean_q: 68.559227\n",
      " 22748/50000: episode: 268, duration: 0.518s, episode steps: 200, steps per second: 386, episode reward: 200.000, mean reward: 1.000 [1.000, 1.000], mean action: 0.500 [0.000, 1.000], mean observation: 0.045 [-0.652, 0.640], loss: 11.709299, mean_absolute_error: 34.051605, mean_q: 68.811195\n",
      " 22948/50000: episode: 269, duration: 0.542s, episode steps: 200, steps per second: 369, episode reward: 200.000, mean reward: 1.000 [1.000, 1.000], mean action: 0.515 [0.000, 1.000], mean observation: 0.214 [-0.707, 1.384], loss: 9.770977, mean_absolute_error: 34.240963, mean_q: 69.221909\n",
      " 23148/50000: episode: 270, duration: 0.514s, episode steps: 200, steps per second: 389, episode reward: 200.000, mean reward: 1.000 [1.000, 1.000], mean action: 0.510 [0.000, 1.000], mean observation: 0.161 [-0.669, 1.036], loss: 12.255396, mean_absolute_error: 34.366386, mean_q: 69.416779\n",
      " 23348/50000: episode: 271, duration: 0.519s, episode steps: 200, steps per second: 386, episode reward: 200.000, mean reward: 1.000 [1.000, 1.000], mean action: 0.500 [0.000, 1.000], mean observation: 0.009 [-0.532, 0.638], loss: 13.412085, mean_absolute_error: 34.360855, mean_q: 69.365707\n",
      " 23548/50000: episode: 272, duration: 0.535s, episode steps: 200, steps per second: 374, episode reward: 200.000, mean reward: 1.000 [1.000, 1.000], mean action: 0.505 [0.000, 1.000], mean observation: 0.130 [-0.606, 0.820], loss: 9.041082, mean_absolute_error: 34.668564, mean_q: 70.117226\n",
      " 23748/50000: episode: 273, duration: 0.509s, episode steps: 200, steps per second: 393, episode reward: 200.000, mean reward: 1.000 [1.000, 1.000], mean action: 0.505 [0.000, 1.000], mean observation: 0.143 [-0.679, 0.921], loss: 11.057439, mean_absolute_error: 34.818768, mean_q: 70.329559\n",
      " 23948/50000: episode: 274, duration: 0.542s, episode steps: 200, steps per second: 369, episode reward: 200.000, mean reward: 1.000 [1.000, 1.000], mean action: 0.505 [0.000, 1.000], mean observation: 0.082 [-0.619, 0.650], loss: 16.140320, mean_absolute_error: 34.905399, mean_q: 70.296463\n",
      " 24148/50000: episode: 275, duration: 0.530s, episode steps: 200, steps per second: 377, episode reward: 200.000, mean reward: 1.000 [1.000, 1.000], mean action: 0.510 [0.000, 1.000], mean observation: 0.183 [-0.620, 1.134], loss: 12.398837, mean_absolute_error: 35.015831, mean_q: 70.640694\n",
      " 24348/50000: episode: 276, duration: 0.521s, episode steps: 200, steps per second: 384, episode reward: 200.000, mean reward: 1.000 [1.000, 1.000], mean action: 0.505 [0.000, 1.000], mean observation: 0.151 [-0.670, 0.952], loss: 11.718184, mean_absolute_error: 34.926636, mean_q: 70.636467\n",
      " 24548/50000: episode: 277, duration: 0.507s, episode steps: 200, steps per second: 395, episode reward: 200.000, mean reward: 1.000 [1.000, 1.000], mean action: 0.505 [0.000, 1.000], mean observation: 0.094 [-0.592, 0.717], loss: 13.152761, mean_absolute_error: 35.207451, mean_q: 71.084435\n",
      " 24748/50000: episode: 278, duration: 0.513s, episode steps: 200, steps per second: 390, episode reward: 200.000, mean reward: 1.000 [1.000, 1.000], mean action: 0.505 [0.000, 1.000], mean observation: 0.131 [-0.650, 0.772], loss: 9.818054, mean_absolute_error: 35.389729, mean_q: 71.644150\n",
      " 24948/50000: episode: 279, duration: 0.510s, episode steps: 200, steps per second: 392, episode reward: 200.000, mean reward: 1.000 [1.000, 1.000], mean action: 0.500 [0.000, 1.000], mean observation: 0.056 [-0.944, 0.731], loss: 9.145466, mean_absolute_error: 35.429405, mean_q: 71.750320\n",
      " 25148/50000: episode: 280, duration: 0.513s, episode steps: 200, steps per second: 390, episode reward: 200.000, mean reward: 1.000 [1.000, 1.000], mean action: 0.505 [0.000, 1.000], mean observation: 0.107 [-0.593, 0.702], loss: 12.872981, mean_absolute_error: 35.507751, mean_q: 71.725647\n",
      " 25348/50000: episode: 281, duration: 0.522s, episode steps: 200, steps per second: 383, episode reward: 200.000, mean reward: 1.000 [1.000, 1.000], mean action: 0.495 [0.000, 1.000], mean observation: -0.119 [-0.659, 0.564], loss: 12.008605, mean_absolute_error: 35.821457, mean_q: 72.402054\n",
      " 25548/50000: episode: 282, duration: 0.517s, episode steps: 200, steps per second: 387, episode reward: 200.000, mean reward: 1.000 [1.000, 1.000], mean action: 0.500 [0.000, 1.000], mean observation: -0.007 [-0.534, 0.601], loss: 13.329299, mean_absolute_error: 35.994804, mean_q: 72.661873\n",
      " 25748/50000: episode: 283, duration: 0.527s, episode steps: 200, steps per second: 379, episode reward: 200.000, mean reward: 1.000 [1.000, 1.000], mean action: 0.505 [0.000, 1.000], mean observation: 0.095 [-0.369, 0.596], loss: 14.957126, mean_absolute_error: 36.009518, mean_q: 72.576912\n",
      " 25948/50000: episode: 284, duration: 0.535s, episode steps: 200, steps per second: 374, episode reward: 200.000, mean reward: 1.000 [1.000, 1.000], mean action: 0.510 [0.000, 1.000], mean observation: 0.086 [-0.783, 0.748], loss: 12.294329, mean_absolute_error: 36.153419, mean_q: 72.965744\n",
      " 26148/50000: episode: 285, duration: 0.520s, episode steps: 200, steps per second: 385, episode reward: 200.000, mean reward: 1.000 [1.000, 1.000], mean action: 0.495 [0.000, 1.000], mean observation: -0.084 [-0.613, 0.709], loss: 11.373308, mean_absolute_error: 36.291794, mean_q: 73.343651\n",
      " 26348/50000: episode: 286, duration: 0.517s, episode steps: 200, steps per second: 387, episode reward: 200.000, mean reward: 1.000 [1.000, 1.000], mean action: 0.510 [0.000, 1.000], mean observation: 0.125 [-0.765, 0.924], loss: 14.858765, mean_absolute_error: 36.360332, mean_q: 73.372849\n",
      " 26548/50000: episode: 287, duration: 0.520s, episode steps: 200, steps per second: 384, episode reward: 200.000, mean reward: 1.000 [1.000, 1.000], mean action: 0.505 [0.000, 1.000], mean observation: 0.076 [-0.448, 0.560], loss: 15.692888, mean_absolute_error: 36.534912, mean_q: 73.560402\n",
      " 26748/50000: episode: 288, duration: 0.521s, episode steps: 200, steps per second: 384, episode reward: 200.000, mean reward: 1.000 [1.000, 1.000], mean action: 0.505 [0.000, 1.000], mean observation: 0.124 [-0.729, 0.996], loss: 14.803699, mean_absolute_error: 36.337952, mean_q: 73.273613\n",
      " 26948/50000: episode: 289, duration: 0.533s, episode steps: 200, steps per second: 376, episode reward: 200.000, mean reward: 1.000 [1.000, 1.000], mean action: 0.505 [0.000, 1.000], mean observation: 0.081 [-0.574, 0.502], loss: 14.941384, mean_absolute_error: 36.510006, mean_q: 73.635574\n",
      " 27148/50000: episode: 290, duration: 0.551s, episode steps: 200, steps per second: 363, episode reward: 200.000, mean reward: 1.000 [1.000, 1.000], mean action: 0.505 [0.000, 1.000], mean observation: 0.096 [-0.462, 0.621], loss: 15.258401, mean_absolute_error: 36.444794, mean_q: 73.502960\n",
      " 27348/50000: episode: 291, duration: 0.531s, episode steps: 200, steps per second: 377, episode reward: 200.000, mean reward: 1.000 [1.000, 1.000], mean action: 0.510 [0.000, 1.000], mean observation: 0.138 [-0.516, 0.919], loss: 13.412235, mean_absolute_error: 36.499584, mean_q: 73.641365\n",
      " 27548/50000: episode: 292, duration: 0.504s, episode steps: 200, steps per second: 397, episode reward: 200.000, mean reward: 1.000 [1.000, 1.000], mean action: 0.500 [0.000, 1.000], mean observation: 0.031 [-0.409, 0.536], loss: 14.583493, mean_absolute_error: 36.592476, mean_q: 73.775841\n",
      " 27748/50000: episode: 293, duration: 0.514s, episode steps: 200, steps per second: 389, episode reward: 200.000, mean reward: 1.000 [1.000, 1.000], mean action: 0.510 [0.000, 1.000], mean observation: 0.173 [-0.456, 1.104], loss: 16.194283, mean_absolute_error: 36.666435, mean_q: 73.914452\n"
     ]
    },
    {
     "name": "stdout",
     "output_type": "stream",
     "text": [
      " 27948/50000: episode: 294, duration: 0.516s, episode steps: 200, steps per second: 388, episode reward: 200.000, mean reward: 1.000 [1.000, 1.000], mean action: 0.510 [0.000, 1.000], mean observation: 0.133 [-0.507, 0.862], loss: 12.722240, mean_absolute_error: 36.713696, mean_q: 74.196709\n",
      " 28148/50000: episode: 295, duration: 0.523s, episode steps: 200, steps per second: 382, episode reward: 200.000, mean reward: 1.000 [1.000, 1.000], mean action: 0.505 [0.000, 1.000], mean observation: 0.092 [-0.438, 0.677], loss: 11.009936, mean_absolute_error: 36.704666, mean_q: 74.188507\n",
      " 28348/50000: episode: 296, duration: 0.537s, episode steps: 200, steps per second: 372, episode reward: 200.000, mean reward: 1.000 [1.000, 1.000], mean action: 0.510 [0.000, 1.000], mean observation: 0.142 [-0.630, 0.917], loss: 11.985439, mean_absolute_error: 36.851574, mean_q: 74.428322\n",
      " 28548/50000: episode: 297, duration: 0.530s, episode steps: 200, steps per second: 377, episode reward: 200.000, mean reward: 1.000 [1.000, 1.000], mean action: 0.500 [0.000, 1.000], mean observation: 0.103 [-0.639, 0.605], loss: 13.529743, mean_absolute_error: 37.119003, mean_q: 74.908615\n",
      " 28748/50000: episode: 298, duration: 0.520s, episode steps: 200, steps per second: 385, episode reward: 200.000, mean reward: 1.000 [1.000, 1.000], mean action: 0.505 [0.000, 1.000], mean observation: 0.127 [-0.471, 0.841], loss: 16.019367, mean_absolute_error: 36.900234, mean_q: 74.355042\n",
      " 28948/50000: episode: 299, duration: 0.530s, episode steps: 200, steps per second: 377, episode reward: 200.000, mean reward: 1.000 [1.000, 1.000], mean action: 0.515 [0.000, 1.000], mean observation: 0.207 [-0.562, 1.350], loss: 13.354317, mean_absolute_error: 36.923771, mean_q: 74.561966\n",
      " 29148/50000: episode: 300, duration: 0.516s, episode steps: 200, steps per second: 388, episode reward: 200.000, mean reward: 1.000 [1.000, 1.000], mean action: 0.505 [0.000, 1.000], mean observation: 0.061 [-0.524, 0.448], loss: 13.574482, mean_absolute_error: 37.030941, mean_q: 74.758888\n",
      " 29348/50000: episode: 301, duration: 0.525s, episode steps: 200, steps per second: 381, episode reward: 200.000, mean reward: 1.000 [1.000, 1.000], mean action: 0.505 [0.000, 1.000], mean observation: 0.171 [-0.708, 1.057], loss: 12.879616, mean_absolute_error: 37.071854, mean_q: 74.863304\n",
      " 29548/50000: episode: 302, duration: 0.532s, episode steps: 200, steps per second: 376, episode reward: 200.000, mean reward: 1.000 [1.000, 1.000], mean action: 0.505 [0.000, 1.000], mean observation: 0.102 [-0.503, 0.736], loss: 13.981536, mean_absolute_error: 36.995068, mean_q: 74.689568\n",
      " 29748/50000: episode: 303, duration: 0.510s, episode steps: 200, steps per second: 392, episode reward: 200.000, mean reward: 1.000 [1.000, 1.000], mean action: 0.500 [0.000, 1.000], mean observation: 0.017 [-0.420, 0.372], loss: 9.751407, mean_absolute_error: 37.238487, mean_q: 75.282707\n",
      " 29948/50000: episode: 304, duration: 0.512s, episode steps: 200, steps per second: 390, episode reward: 200.000, mean reward: 1.000 [1.000, 1.000], mean action: 0.505 [0.000, 1.000], mean observation: 0.137 [-0.556, 0.850], loss: 10.740020, mean_absolute_error: 37.420162, mean_q: 75.607246\n",
      " 30148/50000: episode: 305, duration: 0.518s, episode steps: 200, steps per second: 386, episode reward: 200.000, mean reward: 1.000 [1.000, 1.000], mean action: 0.505 [0.000, 1.000], mean observation: 0.128 [-0.561, 0.809], loss: 14.501080, mean_absolute_error: 37.585793, mean_q: 75.791199\n",
      " 30348/50000: episode: 306, duration: 0.520s, episode steps: 200, steps per second: 385, episode reward: 200.000, mean reward: 1.000 [1.000, 1.000], mean action: 0.510 [0.000, 1.000], mean observation: 0.210 [-0.569, 1.338], loss: 16.395891, mean_absolute_error: 37.370190, mean_q: 75.279442\n",
      " 30548/50000: episode: 307, duration: 0.523s, episode steps: 200, steps per second: 382, episode reward: 200.000, mean reward: 1.000 [1.000, 1.000], mean action: 0.510 [0.000, 1.000], mean observation: 0.154 [-0.559, 1.032], loss: 13.385353, mean_absolute_error: 37.223846, mean_q: 75.123299\n",
      " 30748/50000: episode: 308, duration: 0.524s, episode steps: 200, steps per second: 382, episode reward: 200.000, mean reward: 1.000 [1.000, 1.000], mean action: 0.500 [0.000, 1.000], mean observation: 0.029 [-0.880, 0.791], loss: 13.635268, mean_absolute_error: 37.349422, mean_q: 75.343048\n",
      " 30948/50000: episode: 309, duration: 0.512s, episode steps: 200, steps per second: 390, episode reward: 200.000, mean reward: 1.000 [1.000, 1.000], mean action: 0.515 [0.000, 1.000], mean observation: 0.244 [-0.737, 1.549], loss: 12.967613, mean_absolute_error: 37.395782, mean_q: 75.474945\n",
      " 31148/50000: episode: 310, duration: 0.520s, episode steps: 200, steps per second: 385, episode reward: 200.000, mean reward: 1.000 [1.000, 1.000], mean action: 0.500 [0.000, 1.000], mean observation: -0.020 [-0.651, 0.601], loss: 9.964780, mean_absolute_error: 37.317280, mean_q: 75.392365\n",
      " 31348/50000: episode: 311, duration: 0.520s, episode steps: 200, steps per second: 384, episode reward: 200.000, mean reward: 1.000 [1.000, 1.000], mean action: 0.510 [0.000, 1.000], mean observation: 0.181 [-0.509, 1.139], loss: 14.820521, mean_absolute_error: 37.486397, mean_q: 75.558060\n",
      " 31548/50000: episode: 312, duration: 0.520s, episode steps: 200, steps per second: 385, episode reward: 200.000, mean reward: 1.000 [1.000, 1.000], mean action: 0.500 [0.000, 1.000], mean observation: -0.001 [-0.586, 0.716], loss: 10.579479, mean_absolute_error: 37.431953, mean_q: 75.556458\n",
      " 31748/50000: episode: 313, duration: 0.523s, episode steps: 200, steps per second: 383, episode reward: 200.000, mean reward: 1.000 [1.000, 1.000], mean action: 0.505 [0.000, 1.000], mean observation: 0.055 [-0.582, 0.690], loss: 10.170252, mean_absolute_error: 37.431240, mean_q: 75.582352\n",
      " 31948/50000: episode: 314, duration: 0.523s, episode steps: 200, steps per second: 382, episode reward: 200.000, mean reward: 1.000 [1.000, 1.000], mean action: 0.505 [0.000, 1.000], mean observation: 0.066 [-0.501, 0.738], loss: 13.872925, mean_absolute_error: 37.604027, mean_q: 75.856499\n",
      " 32148/50000: episode: 315, duration: 0.505s, episode steps: 200, steps per second: 396, episode reward: 200.000, mean reward: 1.000 [1.000, 1.000], mean action: 0.510 [0.000, 1.000], mean observation: 0.144 [-0.615, 0.960], loss: 12.903801, mean_absolute_error: 37.504704, mean_q: 75.645454\n",
      " 32348/50000: episode: 316, duration: 0.512s, episode steps: 200, steps per second: 391, episode reward: 200.000, mean reward: 1.000 [1.000, 1.000], mean action: 0.510 [0.000, 1.000], mean observation: 0.162 [-0.564, 1.059], loss: 12.797055, mean_absolute_error: 37.627289, mean_q: 75.949196\n",
      " 32548/50000: episode: 317, duration: 0.513s, episode steps: 200, steps per second: 390, episode reward: 200.000, mean reward: 1.000 [1.000, 1.000], mean action: 0.500 [0.000, 1.000], mean observation: -0.001 [-0.922, 0.814], loss: 11.211168, mean_absolute_error: 37.589874, mean_q: 75.833382\n",
      " 32748/50000: episode: 318, duration: 0.518s, episode steps: 200, steps per second: 386, episode reward: 200.000, mean reward: 1.000 [1.000, 1.000], mean action: 0.510 [0.000, 1.000], mean observation: 0.188 [-0.792, 1.181], loss: 12.255340, mean_absolute_error: 37.710258, mean_q: 76.043045\n",
      " 32948/50000: episode: 319, duration: 0.521s, episode steps: 200, steps per second: 384, episode reward: 200.000, mean reward: 1.000 [1.000, 1.000], mean action: 0.505 [0.000, 1.000], mean observation: 0.077 [-0.488, 0.505], loss: 10.852961, mean_absolute_error: 37.693764, mean_q: 76.057503\n",
      " 33148/50000: episode: 320, duration: 0.520s, episode steps: 200, steps per second: 385, episode reward: 200.000, mean reward: 1.000 [1.000, 1.000], mean action: 0.505 [0.000, 1.000], mean observation: 0.089 [-0.739, 0.767], loss: 14.443142, mean_absolute_error: 37.819588, mean_q: 76.253319\n",
      " 33348/50000: episode: 321, duration: 0.521s, episode steps: 200, steps per second: 384, episode reward: 200.000, mean reward: 1.000 [1.000, 1.000], mean action: 0.500 [0.000, 1.000], mean observation: 0.072 [-0.822, 0.706], loss: 11.492115, mean_absolute_error: 37.694752, mean_q: 76.026199\n",
      " 33548/50000: episode: 322, duration: 0.561s, episode steps: 200, steps per second: 356, episode reward: 200.000, mean reward: 1.000 [1.000, 1.000], mean action: 0.505 [0.000, 1.000], mean observation: 0.094 [-0.516, 0.602], loss: 9.288861, mean_absolute_error: 37.766064, mean_q: 76.188713\n"
     ]
    },
    {
     "name": "stdout",
     "output_type": "stream",
     "text": [
      " 33748/50000: episode: 323, duration: 0.518s, episode steps: 200, steps per second: 386, episode reward: 200.000, mean reward: 1.000 [1.000, 1.000], mean action: 0.510 [0.000, 1.000], mean observation: 0.141 [-0.831, 0.876], loss: 13.281450, mean_absolute_error: 37.765968, mean_q: 76.062294\n",
      " 33948/50000: episode: 324, duration: 0.519s, episode steps: 200, steps per second: 386, episode reward: 200.000, mean reward: 1.000 [1.000, 1.000], mean action: 0.505 [0.000, 1.000], mean observation: 0.087 [-0.636, 0.741], loss: 16.347496, mean_absolute_error: 37.758705, mean_q: 75.951546\n",
      " 34148/50000: episode: 325, duration: 0.508s, episode steps: 200, steps per second: 393, episode reward: 200.000, mean reward: 1.000 [1.000, 1.000], mean action: 0.515 [0.000, 1.000], mean observation: 0.199 [-0.663, 1.301], loss: 11.962851, mean_absolute_error: 37.700581, mean_q: 75.967682\n",
      " 34348/50000: episode: 326, duration: 0.538s, episode steps: 200, steps per second: 372, episode reward: 200.000, mean reward: 1.000 [1.000, 1.000], mean action: 0.500 [0.000, 1.000], mean observation: 0.043 [-0.558, 0.681], loss: 11.149755, mean_absolute_error: 37.588516, mean_q: 75.832527\n",
      " 34548/50000: episode: 327, duration: 0.522s, episode steps: 200, steps per second: 383, episode reward: 200.000, mean reward: 1.000 [1.000, 1.000], mean action: 0.510 [0.000, 1.000], mean observation: 0.159 [-0.820, 0.989], loss: 12.096706, mean_absolute_error: 37.730553, mean_q: 76.033112\n",
      " 34748/50000: episode: 328, duration: 0.508s, episode steps: 200, steps per second: 394, episode reward: 200.000, mean reward: 1.000 [1.000, 1.000], mean action: 0.500 [0.000, 1.000], mean observation: 0.042 [-0.538, 0.566], loss: 12.926641, mean_absolute_error: 37.805145, mean_q: 76.121872\n",
      " 34948/50000: episode: 329, duration: 0.507s, episode steps: 200, steps per second: 395, episode reward: 200.000, mean reward: 1.000 [1.000, 1.000], mean action: 0.500 [0.000, 1.000], mean observation: 0.037 [-0.552, 0.612], loss: 13.690784, mean_absolute_error: 37.714264, mean_q: 75.939522\n",
      " 35148/50000: episode: 330, duration: 0.518s, episode steps: 200, steps per second: 386, episode reward: 200.000, mean reward: 1.000 [1.000, 1.000], mean action: 0.505 [0.000, 1.000], mean observation: 0.080 [-0.571, 0.708], loss: 5.400883, mean_absolute_error: 37.677296, mean_q: 76.114609\n",
      " 35348/50000: episode: 331, duration: 0.520s, episode steps: 200, steps per second: 385, episode reward: 200.000, mean reward: 1.000 [1.000, 1.000], mean action: 0.505 [0.000, 1.000], mean observation: 0.125 [-0.552, 0.767], loss: 9.910030, mean_absolute_error: 37.912968, mean_q: 76.419182\n",
      " 35548/50000: episode: 332, duration: 0.514s, episode steps: 200, steps per second: 389, episode reward: 200.000, mean reward: 1.000 [1.000, 1.000], mean action: 0.500 [0.000, 1.000], mean observation: 0.033 [-0.484, 0.403], loss: 13.760440, mean_absolute_error: 37.752102, mean_q: 76.080566\n",
      " 35748/50000: episode: 333, duration: 0.517s, episode steps: 200, steps per second: 387, episode reward: 200.000, mean reward: 1.000 [1.000, 1.000], mean action: 0.505 [0.000, 1.000], mean observation: 0.060 [-0.479, 0.656], loss: 13.577756, mean_absolute_error: 37.759201, mean_q: 76.084381\n",
      " 35948/50000: episode: 334, duration: 0.544s, episode steps: 200, steps per second: 368, episode reward: 200.000, mean reward: 1.000 [1.000, 1.000], mean action: 0.500 [0.000, 1.000], mean observation: -0.036 [-0.594, 0.537], loss: 13.566212, mean_absolute_error: 37.981911, mean_q: 76.521637\n",
      " 36148/50000: episode: 335, duration: 0.514s, episode steps: 200, steps per second: 389, episode reward: 200.000, mean reward: 1.000 [1.000, 1.000], mean action: 0.500 [0.000, 1.000], mean observation: 0.004 [-0.574, 0.647], loss: 10.442679, mean_absolute_error: 37.970238, mean_q: 76.561920\n",
      " 36348/50000: episode: 336, duration: 0.510s, episode steps: 200, steps per second: 392, episode reward: 200.000, mean reward: 1.000 [1.000, 1.000], mean action: 0.505 [0.000, 1.000], mean observation: 0.010 [-0.783, 0.533], loss: 11.419861, mean_absolute_error: 38.166801, mean_q: 76.883095\n",
      " 36548/50000: episode: 337, duration: 0.562s, episode steps: 200, steps per second: 356, episode reward: 200.000, mean reward: 1.000 [1.000, 1.000], mean action: 0.505 [0.000, 1.000], mean observation: 0.117 [-0.471, 0.768], loss: 10.530262, mean_absolute_error: 38.000404, mean_q: 76.593369\n",
      " 36748/50000: episode: 338, duration: 0.535s, episode steps: 200, steps per second: 374, episode reward: 200.000, mean reward: 1.000 [1.000, 1.000], mean action: 0.510 [0.000, 1.000], mean observation: 0.213 [-0.705, 1.298], loss: 10.198865, mean_absolute_error: 38.012112, mean_q: 76.644241\n",
      " 36948/50000: episode: 339, duration: 0.522s, episode steps: 200, steps per second: 383, episode reward: 200.000, mean reward: 1.000 [1.000, 1.000], mean action: 0.505 [0.000, 1.000], mean observation: 0.103 [-0.588, 0.681], loss: 11.978462, mean_absolute_error: 37.994511, mean_q: 76.524940\n",
      " 37148/50000: episode: 340, duration: 0.524s, episode steps: 200, steps per second: 382, episode reward: 200.000, mean reward: 1.000 [1.000, 1.000], mean action: 0.510 [0.000, 1.000], mean observation: 0.223 [-0.553, 1.348], loss: 10.654464, mean_absolute_error: 38.034584, mean_q: 76.665176\n",
      " 37348/50000: episode: 341, duration: 0.537s, episode steps: 200, steps per second: 373, episode reward: 200.000, mean reward: 1.000 [1.000, 1.000], mean action: 0.505 [0.000, 1.000], mean observation: 0.121 [-0.418, 0.753], loss: 9.191172, mean_absolute_error: 38.089413, mean_q: 76.916672\n",
      " 37548/50000: episode: 342, duration: 0.519s, episode steps: 200, steps per second: 385, episode reward: 200.000, mean reward: 1.000 [1.000, 1.000], mean action: 0.505 [0.000, 1.000], mean observation: 0.074 [-0.989, 0.759], loss: 10.144676, mean_absolute_error: 38.234486, mean_q: 77.007736\n",
      " 37748/50000: episode: 343, duration: 0.519s, episode steps: 200, steps per second: 385, episode reward: 200.000, mean reward: 1.000 [1.000, 1.000], mean action: 0.500 [0.000, 1.000], mean observation: 0.020 [-0.521, 0.673], loss: 13.204347, mean_absolute_error: 38.236317, mean_q: 76.938118\n",
      " 37948/50000: episode: 344, duration: 0.515s, episode steps: 200, steps per second: 388, episode reward: 200.000, mean reward: 1.000 [1.000, 1.000], mean action: 0.505 [0.000, 1.000], mean observation: 0.063 [-0.690, 0.884], loss: 10.444942, mean_absolute_error: 38.300896, mean_q: 77.148010\n",
      " 38148/50000: episode: 345, duration: 0.523s, episode steps: 200, steps per second: 383, episode reward: 200.000, mean reward: 1.000 [1.000, 1.000], mean action: 0.505 [0.000, 1.000], mean observation: 0.089 [-0.501, 0.587], loss: 12.187150, mean_absolute_error: 38.218143, mean_q: 76.909355\n",
      " 38348/50000: episode: 346, duration: 0.527s, episode steps: 200, steps per second: 380, episode reward: 200.000, mean reward: 1.000 [1.000, 1.000], mean action: 0.505 [0.000, 1.000], mean observation: 0.092 [-0.612, 0.613], loss: 12.243207, mean_absolute_error: 38.170582, mean_q: 76.821823\n",
      " 38548/50000: episode: 347, duration: 0.517s, episode steps: 200, steps per second: 387, episode reward: 200.000, mean reward: 1.000 [1.000, 1.000], mean action: 0.505 [0.000, 1.000], mean observation: 0.171 [-0.401, 1.088], loss: 11.137739, mean_absolute_error: 38.323681, mean_q: 77.082031\n",
      " 38748/50000: episode: 348, duration: 0.519s, episode steps: 200, steps per second: 385, episode reward: 200.000, mean reward: 1.000 [1.000, 1.000], mean action: 0.505 [0.000, 1.000], mean observation: 0.071 [-0.542, 0.574], loss: 9.922795, mean_absolute_error: 38.004574, mean_q: 76.491989\n",
      " 38948/50000: episode: 349, duration: 0.535s, episode steps: 200, steps per second: 374, episode reward: 200.000, mean reward: 1.000 [1.000, 1.000], mean action: 0.505 [0.000, 1.000], mean observation: 0.133 [-0.469, 0.956], loss: 9.889016, mean_absolute_error: 38.361015, mean_q: 77.173439\n",
      " 39148/50000: episode: 350, duration: 0.514s, episode steps: 200, steps per second: 389, episode reward: 200.000, mean reward: 1.000 [1.000, 1.000], mean action: 0.500 [0.000, 1.000], mean observation: -0.045 [-0.623, 0.866], loss: 10.925200, mean_absolute_error: 38.221813, mean_q: 76.934402\n",
      " 39348/50000: episode: 351, duration: 0.532s, episode steps: 200, steps per second: 376, episode reward: 200.000, mean reward: 1.000 [1.000, 1.000], mean action: 0.505 [0.000, 1.000], mean observation: 0.103 [-0.662, 0.618], loss: 12.036438, mean_absolute_error: 38.292858, mean_q: 76.992889\n"
     ]
    },
    {
     "name": "stdout",
     "output_type": "stream",
     "text": [
      " 39548/50000: episode: 352, duration: 0.518s, episode steps: 200, steps per second: 386, episode reward: 200.000, mean reward: 1.000 [1.000, 1.000], mean action: 0.500 [0.000, 1.000], mean observation: 0.019 [-0.520, 0.517], loss: 8.746973, mean_absolute_error: 38.340191, mean_q: 77.145226\n",
      " 39748/50000: episode: 353, duration: 0.521s, episode steps: 200, steps per second: 384, episode reward: 200.000, mean reward: 1.000 [1.000, 1.000], mean action: 0.510 [0.000, 1.000], mean observation: 0.153 [-0.744, 0.915], loss: 10.580903, mean_absolute_error: 38.317482, mean_q: 77.138794\n",
      " 39948/50000: episode: 354, duration: 0.530s, episode steps: 200, steps per second: 377, episode reward: 200.000, mean reward: 1.000 [1.000, 1.000], mean action: 0.505 [0.000, 1.000], mean observation: 0.081 [-0.554, 0.531], loss: 12.073756, mean_absolute_error: 38.285923, mean_q: 77.003365\n",
      " 40148/50000: episode: 355, duration: 0.516s, episode steps: 200, steps per second: 388, episode reward: 200.000, mean reward: 1.000 [1.000, 1.000], mean action: 0.500 [0.000, 1.000], mean observation: 0.051 [-0.632, 0.565], loss: 13.445488, mean_absolute_error: 38.265366, mean_q: 77.010651\n",
      " 40348/50000: episode: 356, duration: 0.529s, episode steps: 200, steps per second: 378, episode reward: 200.000, mean reward: 1.000 [1.000, 1.000], mean action: 0.500 [0.000, 1.000], mean observation: -0.011 [-0.826, 0.869], loss: 9.283825, mean_absolute_error: 38.463169, mean_q: 77.503517\n",
      " 40548/50000: episode: 357, duration: 0.519s, episode steps: 200, steps per second: 385, episode reward: 200.000, mean reward: 1.000 [1.000, 1.000], mean action: 0.500 [0.000, 1.000], mean observation: 0.045 [-0.813, 0.625], loss: 10.074512, mean_absolute_error: 38.350883, mean_q: 77.193817\n",
      " 40748/50000: episode: 358, duration: 0.515s, episode steps: 200, steps per second: 388, episode reward: 200.000, mean reward: 1.000 [1.000, 1.000], mean action: 0.500 [0.000, 1.000], mean observation: 0.030 [-0.754, 0.692], loss: 11.713088, mean_absolute_error: 38.386093, mean_q: 77.125237\n",
      " 40948/50000: episode: 359, duration: 0.510s, episode steps: 200, steps per second: 392, episode reward: 200.000, mean reward: 1.000 [1.000, 1.000], mean action: 0.505 [0.000, 1.000], mean observation: 0.078 [-0.611, 0.600], loss: 12.065112, mean_absolute_error: 38.394638, mean_q: 77.164795\n",
      " 41148/50000: episode: 360, duration: 0.511s, episode steps: 200, steps per second: 391, episode reward: 200.000, mean reward: 1.000 [1.000, 1.000], mean action: 0.500 [0.000, 1.000], mean observation: 0.028 [-0.563, 0.579], loss: 11.543753, mean_absolute_error: 38.449265, mean_q: 77.262253\n",
      " 41348/50000: episode: 361, duration: 0.515s, episode steps: 200, steps per second: 388, episode reward: 200.000, mean reward: 1.000 [1.000, 1.000], mean action: 0.505 [0.000, 1.000], mean observation: 0.096 [-1.099, 0.932], loss: 11.549634, mean_absolute_error: 38.370129, mean_q: 77.234406\n",
      " 41548/50000: episode: 362, duration: 0.512s, episode steps: 200, steps per second: 390, episode reward: 200.000, mean reward: 1.000 [1.000, 1.000], mean action: 0.505 [0.000, 1.000], mean observation: 0.042 [-0.626, 0.537], loss: 10.697222, mean_absolute_error: 38.380108, mean_q: 77.149040\n",
      " 41748/50000: episode: 363, duration: 0.515s, episode steps: 200, steps per second: 388, episode reward: 200.000, mean reward: 1.000 [1.000, 1.000], mean action: 0.510 [0.000, 1.000], mean observation: 0.219 [-0.583, 1.407], loss: 9.407598, mean_absolute_error: 38.437443, mean_q: 77.268791\n",
      " 41948/50000: episode: 364, duration: 0.535s, episode steps: 200, steps per second: 374, episode reward: 200.000, mean reward: 1.000 [1.000, 1.000], mean action: 0.505 [0.000, 1.000], mean observation: 0.138 [-0.566, 0.829], loss: 14.626722, mean_absolute_error: 38.485542, mean_q: 77.306076\n",
      " 42148/50000: episode: 365, duration: 0.519s, episode steps: 200, steps per second: 385, episode reward: 200.000, mean reward: 1.000 [1.000, 1.000], mean action: 0.505 [0.000, 1.000], mean observation: 0.105 [-0.664, 0.794], loss: 11.702446, mean_absolute_error: 38.514816, mean_q: 77.363426\n",
      " 42348/50000: episode: 366, duration: 0.535s, episode steps: 200, steps per second: 374, episode reward: 200.000, mean reward: 1.000 [1.000, 1.000], mean action: 0.500 [0.000, 1.000], mean observation: 0.055 [-0.663, 0.675], loss: 9.913595, mean_absolute_error: 38.266525, mean_q: 76.916901\n",
      " 42548/50000: episode: 367, duration: 0.532s, episode steps: 200, steps per second: 376, episode reward: 200.000, mean reward: 1.000 [1.000, 1.000], mean action: 0.510 [0.000, 1.000], mean observation: 0.177 [-0.618, 1.140], loss: 11.913870, mean_absolute_error: 38.470203, mean_q: 77.334305\n",
      " 42748/50000: episode: 368, duration: 0.529s, episode steps: 200, steps per second: 378, episode reward: 200.000, mean reward: 1.000 [1.000, 1.000], mean action: 0.505 [0.000, 1.000], mean observation: 0.026 [-0.539, 0.405], loss: 10.148752, mean_absolute_error: 38.409161, mean_q: 77.203728\n",
      " 42948/50000: episode: 369, duration: 0.531s, episode steps: 200, steps per second: 376, episode reward: 200.000, mean reward: 1.000 [1.000, 1.000], mean action: 0.505 [0.000, 1.000], mean observation: 0.089 [-0.548, 0.720], loss: 13.510181, mean_absolute_error: 38.356323, mean_q: 77.027855\n",
      " 43148/50000: episode: 370, duration: 0.557s, episode steps: 200, steps per second: 359, episode reward: 200.000, mean reward: 1.000 [1.000, 1.000], mean action: 0.500 [0.000, 1.000], mean observation: 0.044 [-0.506, 0.601], loss: 8.897401, mean_absolute_error: 38.238197, mean_q: 76.897804\n",
      " 43348/50000: episode: 371, duration: 0.517s, episode steps: 200, steps per second: 387, episode reward: 200.000, mean reward: 1.000 [1.000, 1.000], mean action: 0.505 [0.000, 1.000], mean observation: 0.053 [-0.534, 0.579], loss: 9.863792, mean_absolute_error: 38.377426, mean_q: 77.187439\n",
      " 43548/50000: episode: 372, duration: 0.541s, episode steps: 200, steps per second: 370, episode reward: 200.000, mean reward: 1.000 [1.000, 1.000], mean action: 0.500 [0.000, 1.000], mean observation: 0.025 [-0.502, 0.457], loss: 6.442206, mean_absolute_error: 38.499863, mean_q: 77.522667\n",
      " 43748/50000: episode: 373, duration: 0.524s, episode steps: 200, steps per second: 382, episode reward: 200.000, mean reward: 1.000 [1.000, 1.000], mean action: 0.500 [0.000, 1.000], mean observation: 0.068 [-0.703, 0.649], loss: 9.976315, mean_absolute_error: 38.458134, mean_q: 77.290955\n",
      " 43948/50000: episode: 374, duration: 0.534s, episode steps: 200, steps per second: 375, episode reward: 200.000, mean reward: 1.000 [1.000, 1.000], mean action: 0.500 [0.000, 1.000], mean observation: 0.037 [-0.733, 0.623], loss: 10.334345, mean_absolute_error: 38.582325, mean_q: 77.573723\n",
      " 44148/50000: episode: 375, duration: 0.611s, episode steps: 200, steps per second: 327, episode reward: 200.000, mean reward: 1.000 [1.000, 1.000], mean action: 0.500 [0.000, 1.000], mean observation: 0.078 [-0.858, 0.817], loss: 8.420379, mean_absolute_error: 38.476540, mean_q: 77.372177\n",
      " 44348/50000: episode: 376, duration: 0.761s, episode steps: 200, steps per second: 263, episode reward: 200.000, mean reward: 1.000 [1.000, 1.000], mean action: 0.505 [0.000, 1.000], mean observation: 0.029 [-0.480, 0.586], loss: 10.388972, mean_absolute_error: 38.482281, mean_q: 77.263733\n",
      " 44548/50000: episode: 377, duration: 0.614s, episode steps: 200, steps per second: 326, episode reward: 200.000, mean reward: 1.000 [1.000, 1.000], mean action: 0.505 [0.000, 1.000], mean observation: 0.112 [-0.455, 0.659], loss: 6.939024, mean_absolute_error: 38.586781, mean_q: 77.673141\n",
      " 44748/50000: episode: 378, duration: 0.695s, episode steps: 200, steps per second: 288, episode reward: 200.000, mean reward: 1.000 [1.000, 1.000], mean action: 0.510 [0.000, 1.000], mean observation: 0.184 [-0.972, 1.143], loss: 10.573823, mean_absolute_error: 38.837250, mean_q: 78.083420\n",
      " 44948/50000: episode: 379, duration: 0.597s, episode steps: 200, steps per second: 335, episode reward: 200.000, mean reward: 1.000 [1.000, 1.000], mean action: 0.505 [0.000, 1.000], mean observation: 0.062 [-0.512, 0.722], loss: 8.289270, mean_absolute_error: 38.694263, mean_q: 77.817802\n",
      " 45148/50000: episode: 380, duration: 0.532s, episode steps: 200, steps per second: 376, episode reward: 200.000, mean reward: 1.000 [1.000, 1.000], mean action: 0.505 [0.000, 1.000], mean observation: 0.105 [-0.902, 0.763], loss: 9.934932, mean_absolute_error: 38.641815, mean_q: 77.711327\n"
     ]
    },
    {
     "name": "stdout",
     "output_type": "stream",
     "text": [
      " 45348/50000: episode: 381, duration: 0.545s, episode steps: 200, steps per second: 367, episode reward: 200.000, mean reward: 1.000 [1.000, 1.000], mean action: 0.500 [0.000, 1.000], mean observation: 0.070 [-0.607, 0.538], loss: 12.858491, mean_absolute_error: 38.773956, mean_q: 77.852013\n",
      " 45548/50000: episode: 382, duration: 0.678s, episode steps: 200, steps per second: 295, episode reward: 200.000, mean reward: 1.000 [1.000, 1.000], mean action: 0.505 [0.000, 1.000], mean observation: 0.062 [-0.580, 0.642], loss: 8.389922, mean_absolute_error: 38.635986, mean_q: 77.596832\n",
      " 45748/50000: episode: 383, duration: 0.622s, episode steps: 200, steps per second: 322, episode reward: 200.000, mean reward: 1.000 [1.000, 1.000], mean action: 0.500 [0.000, 1.000], mean observation: 0.048 [-0.591, 0.787], loss: 11.833396, mean_absolute_error: 38.650829, mean_q: 77.518578\n",
      " 45948/50000: episode: 384, duration: 0.549s, episode steps: 200, steps per second: 364, episode reward: 200.000, mean reward: 1.000 [1.000, 1.000], mean action: 0.500 [0.000, 1.000], mean observation: 0.037 [-0.650, 0.526], loss: 11.334973, mean_absolute_error: 38.662758, mean_q: 77.608864\n",
      " 46148/50000: episode: 385, duration: 0.541s, episode steps: 200, steps per second: 370, episode reward: 200.000, mean reward: 1.000 [1.000, 1.000], mean action: 0.500 [0.000, 1.000], mean observation: -0.002 [-0.581, 0.769], loss: 11.634448, mean_absolute_error: 38.585579, mean_q: 77.520882\n",
      " 46348/50000: episode: 386, duration: 0.531s, episode steps: 200, steps per second: 376, episode reward: 200.000, mean reward: 1.000 [1.000, 1.000], mean action: 0.500 [0.000, 1.000], mean observation: 0.051 [-0.723, 0.618], loss: 8.760876, mean_absolute_error: 38.429169, mean_q: 77.199913\n",
      " 46548/50000: episode: 387, duration: 0.527s, episode steps: 200, steps per second: 380, episode reward: 200.000, mean reward: 1.000 [1.000, 1.000], mean action: 0.500 [0.000, 1.000], mean observation: 0.025 [-0.519, 0.628], loss: 12.065620, mean_absolute_error: 38.580597, mean_q: 77.458611\n",
      " 46748/50000: episode: 388, duration: 0.552s, episode steps: 200, steps per second: 362, episode reward: 200.000, mean reward: 1.000 [1.000, 1.000], mean action: 0.510 [0.000, 1.000], mean observation: 0.115 [-0.483, 0.708], loss: 10.649657, mean_absolute_error: 38.447033, mean_q: 77.211586\n",
      " 46948/50000: episode: 389, duration: 0.519s, episode steps: 200, steps per second: 385, episode reward: 200.000, mean reward: 1.000 [1.000, 1.000], mean action: 0.500 [0.000, 1.000], mean observation: -0.011 [-0.521, 0.576], loss: 9.786860, mean_absolute_error: 38.480087, mean_q: 77.205154\n",
      " 47148/50000: episode: 390, duration: 0.654s, episode steps: 200, steps per second: 306, episode reward: 200.000, mean reward: 1.000 [1.000, 1.000], mean action: 0.500 [0.000, 1.000], mean observation: -0.014 [-0.780, 0.821], loss: 13.022952, mean_absolute_error: 38.555805, mean_q: 77.304047\n",
      " 47348/50000: episode: 391, duration: 0.519s, episode steps: 200, steps per second: 385, episode reward: 200.000, mean reward: 1.000 [1.000, 1.000], mean action: 0.505 [0.000, 1.000], mean observation: 0.028 [-0.830, 0.610], loss: 12.058025, mean_absolute_error: 38.566978, mean_q: 77.263855\n",
      " 47548/50000: episode: 392, duration: 0.590s, episode steps: 200, steps per second: 339, episode reward: 200.000, mean reward: 1.000 [1.000, 1.000], mean action: 0.500 [0.000, 1.000], mean observation: 0.042 [-0.560, 0.611], loss: 9.993839, mean_absolute_error: 38.415524, mean_q: 77.125809\n",
      " 47748/50000: episode: 393, duration: 0.551s, episode steps: 200, steps per second: 363, episode reward: 200.000, mean reward: 1.000 [1.000, 1.000], mean action: 0.500 [0.000, 1.000], mean observation: 0.105 [-0.604, 0.652], loss: 11.003287, mean_absolute_error: 38.286346, mean_q: 76.861115\n",
      " 47948/50000: episode: 394, duration: 0.603s, episode steps: 200, steps per second: 332, episode reward: 200.000, mean reward: 1.000 [1.000, 1.000], mean action: 0.505 [0.000, 1.000], mean observation: 0.042 [-0.663, 0.731], loss: 9.954221, mean_absolute_error: 38.259171, mean_q: 76.795631\n",
      " 48148/50000: episode: 395, duration: 0.574s, episode steps: 200, steps per second: 348, episode reward: 200.000, mean reward: 1.000 [1.000, 1.000], mean action: 0.505 [0.000, 1.000], mean observation: 0.109 [-0.657, 0.761], loss: 10.052242, mean_absolute_error: 38.357513, mean_q: 77.019608\n",
      " 48348/50000: episode: 396, duration: 0.666s, episode steps: 200, steps per second: 300, episode reward: 200.000, mean reward: 1.000 [1.000, 1.000], mean action: 0.505 [0.000, 1.000], mean observation: 0.103 [-0.630, 0.589], loss: 11.073779, mean_absolute_error: 38.229820, mean_q: 76.738655\n",
      " 48548/50000: episode: 397, duration: 0.564s, episode steps: 200, steps per second: 355, episode reward: 200.000, mean reward: 1.000 [1.000, 1.000], mean action: 0.500 [0.000, 1.000], mean observation: 0.046 [-0.500, 0.423], loss: 5.887665, mean_absolute_error: 38.272617, mean_q: 76.930161\n",
      " 48748/50000: episode: 398, duration: 0.584s, episode steps: 200, steps per second: 343, episode reward: 200.000, mean reward: 1.000 [1.000, 1.000], mean action: 0.505 [0.000, 1.000], mean observation: 0.075 [-0.505, 0.582], loss: 9.414395, mean_absolute_error: 38.416595, mean_q: 77.086319\n",
      " 48948/50000: episode: 399, duration: 0.607s, episode steps: 200, steps per second: 330, episode reward: 200.000, mean reward: 1.000 [1.000, 1.000], mean action: 0.505 [0.000, 1.000], mean observation: 0.075 [-0.706, 0.680], loss: 9.761336, mean_absolute_error: 38.235672, mean_q: 76.660751\n",
      " 49148/50000: episode: 400, duration: 0.570s, episode steps: 200, steps per second: 351, episode reward: 200.000, mean reward: 1.000 [1.000, 1.000], mean action: 0.505 [0.000, 1.000], mean observation: 0.054 [-0.560, 0.663], loss: 8.967303, mean_absolute_error: 38.435822, mean_q: 77.150543\n",
      " 49348/50000: episode: 401, duration: 0.563s, episode steps: 200, steps per second: 355, episode reward: 200.000, mean reward: 1.000 [1.000, 1.000], mean action: 0.510 [0.000, 1.000], mean observation: 0.146 [-0.510, 0.910], loss: 7.120627, mean_absolute_error: 38.186390, mean_q: 76.655670\n",
      " 49548/50000: episode: 402, duration: 0.633s, episode steps: 200, steps per second: 316, episode reward: 200.000, mean reward: 1.000 [1.000, 1.000], mean action: 0.505 [0.000, 1.000], mean observation: 0.008 [-0.781, 0.548], loss: 11.253574, mean_absolute_error: 38.301971, mean_q: 76.855888\n",
      " 49748/50000: episode: 403, duration: 0.552s, episode steps: 200, steps per second: 362, episode reward: 200.000, mean reward: 1.000 [1.000, 1.000], mean action: 0.500 [0.000, 1.000], mean observation: 0.048 [-0.582, 0.584], loss: 12.560163, mean_absolute_error: 38.229336, mean_q: 76.518890\n",
      " 49948/50000: episode: 404, duration: 0.534s, episode steps: 200, steps per second: 375, episode reward: 200.000, mean reward: 1.000 [1.000, 1.000], mean action: 0.505 [0.000, 1.000], mean observation: 0.027 [-0.584, 0.627], loss: 9.081867, mean_absolute_error: 38.355461, mean_q: 76.878357\n",
      "done, took 138.187 seconds\n"
     ]
    },
    {
     "data": {
      "text/plain": [
       "<keras.callbacks.History at 0x7fcde42f1d68>"
      ]
     },
     "execution_count": 6,
     "metadata": {},
     "output_type": "execute_result"
    }
   ],
   "source": [
    "policy = EpsGreedyQPolicy()\n",
    "memory = SequentialMemory(limit=50000, window_length=1)\n",
    "dqn = DQNAgent(model=model, nb_actions=nb_actions, memory=memory, nb_steps_warmup=10, target_model_update=1e-2, \n",
    "               policy=policy)\n",
    "dqn.compile(Adam(lr=1e-3), metrics=['mae'])\n",
    "\n",
    "# Okay, now it's time to learn something! We visualize the training here for show, but this slows down training quite a lot. \n",
    "#dqn.fit(env, nb_steps=50000, visualize=True, verbose=2)\n",
    "dqn.fit(env, nb_steps=50000, visualize=False, verbose=2)"
   ]
  },
  {
   "cell_type": "code",
   "execution_count": 7,
   "metadata": {},
   "outputs": [
    {
     "name": "stdout",
     "output_type": "stream",
     "text": [
      "Testing for 5 episodes ...\n",
      "Episode 1: reward: 200.000, steps: 200\n",
      "Episode 2: reward: 200.000, steps: 200\n",
      "Episode 3: reward: 200.000, steps: 200\n",
      "Episode 4: reward: 200.000, steps: 200\n",
      "Episode 5: reward: 200.000, steps: 200\n"
     ]
    },
    {
     "data": {
      "text/plain": [
       "<keras.callbacks.History at 0x7fcde7cce6a0>"
      ]
     },
     "execution_count": 7,
     "metadata": {},
     "output_type": "execute_result"
    }
   ],
   "source": [
    "dqn.test(env, nb_episodes=5, visualize=True)"
   ]
  },
  {
   "cell_type": "code",
   "execution_count": null,
   "metadata": {},
   "outputs": [],
   "source": []
  }
 ],
 "metadata": {
  "kernelspec": {
   "display_name": "Python 3",
   "language": "python",
   "name": "python3"
  },
  "language_info": {
   "codemirror_mode": {
    "name": "ipython",
    "version": 3
   },
   "file_extension": ".py",
   "mimetype": "text/x-python",
   "name": "python",
   "nbconvert_exporter": "python",
   "pygments_lexer": "ipython3",
   "version": "3.6.7"
  }
 },
 "nbformat": 4,
 "nbformat_minor": 2
}
