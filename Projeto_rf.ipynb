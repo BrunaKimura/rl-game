{
 "cells": [
  {
   "cell_type": "code",
   "execution_count": 1,
   "metadata": {},
   "outputs": [
    {
     "name": "stderr",
     "output_type": "stream",
     "text": [
      "Using TensorFlow backend.\n"
     ]
    }
   ],
   "source": [
    "import numpy as np\n",
    "import gym\n",
    "import tensorflow as tf\n",
    "\n",
    "from keras.models import Sequential\n",
    "from keras.layers import Dense, Activation, Flatten\n",
    "from keras.optimizers import Adam\n",
    "\n",
    "from rl.agents.dqn import DQNAgent\n",
    "from rl.policy import EpsGreedyQPolicy\n",
    "from rl.memory import SequentialMemory"
   ]
  },
  {
   "cell_type": "code",
   "execution_count": 2,
   "metadata": {},
   "outputs": [
    {
     "data": {
      "text/plain": [
       "'1.13.1'"
      ]
     },
     "execution_count": 2,
     "metadata": {},
     "output_type": "execute_result"
    }
   ],
   "source": [
    "tf.__version__"
   ]
  },
  {
   "cell_type": "code",
   "execution_count": 3,
   "metadata": {},
   "outputs": [],
   "source": [
    "ENV_NAME = 'CartPole-v0'\n",
    "\n",
    "# Get the environment and extract the number of actions available in the Cartpole problem\n",
    "env = gym.make(ENV_NAME)\n",
    "np.random.seed(123)\n",
    "env.seed(123)\n",
    "nb_actions = env.action_space.n"
   ]
  },
  {
   "cell_type": "code",
   "execution_count": 4,
   "metadata": {},
   "outputs": [
    {
     "name": "stdout",
     "output_type": "stream",
     "text": [
      "WARNING:tensorflow:From /usr/local/lib/python3.7/site-packages/tensorflow/python/framework/op_def_library.py:263: colocate_with (from tensorflow.python.framework.ops) is deprecated and will be removed in a future version.\n",
      "Instructions for updating:\n",
      "Colocations handled automatically by placer.\n",
      "_________________________________________________________________\n",
      "Layer (type)                 Output Shape              Param #   \n",
      "=================================================================\n",
      "flatten_1 (Flatten)          (None, 4)                 0         \n",
      "_________________________________________________________________\n",
      "dense_1 (Dense)              (None, 16)                80        \n",
      "_________________________________________________________________\n",
      "activation_1 (Activation)    (None, 16)                0         \n",
      "_________________________________________________________________\n",
      "dense_2 (Dense)              (None, 2)                 34        \n",
      "_________________________________________________________________\n",
      "activation_2 (Activation)    (None, 2)                 0         \n",
      "=================================================================\n",
      "Total params: 114\n",
      "Trainable params: 114\n",
      "Non-trainable params: 0\n",
      "_________________________________________________________________\n",
      "None\n"
     ]
    }
   ],
   "source": [
    "model = Sequential()\n",
    "model.add(Flatten(input_shape=(1,) + env.observation_space.shape))\n",
    "model.add(Dense(16))\n",
    "model.add(Activation('relu'))\n",
    "model.add(Dense(nb_actions))\n",
    "model.add(Activation('linear'))\n",
    "print(model.summary())"
   ]
  },
  {
   "cell_type": "code",
   "execution_count": 5,
   "metadata": {},
   "outputs": [
    {
     "data": {
      "text/plain": [
       "<keras.engine.sequential.Sequential at 0x1287169b0>"
      ]
     },
     "execution_count": 5,
     "metadata": {},
     "output_type": "execute_result"
    }
   ],
   "source": [
    "model"
   ]
  },
  {
   "cell_type": "code",
   "execution_count": 6,
   "metadata": {},
   "outputs": [
    {
     "name": "stdout",
     "output_type": "stream",
     "text": [
      "Training for 50000 steps ...\n",
      "WARNING:tensorflow:From /usr/local/lib/python3.7/site-packages/tensorflow/python/ops/math_ops.py:3066: to_int32 (from tensorflow.python.ops.math_ops) is deprecated and will be removed in a future version.\n",
      "Instructions for updating:\n",
      "Use tf.cast instead.\n"
     ]
    },
    {
     "name": "stderr",
     "output_type": "stream",
     "text": [
      "/usr/local/lib/python3.7/site-packages/rl/memory.py:39: UserWarning: Not enough entries to sample without replacement. Consider increasing your warm-up phase to avoid oversampling!\n",
      "  warnings.warn('Not enough entries to sample without replacement. Consider increasing your warm-up phase to avoid oversampling!')\n"
     ]
    },
    {
     "name": "stdout",
     "output_type": "stream",
     "text": [
      "    79/50000: episode: 1, duration: 0.549s, episode steps: 79, steps per second: 144, episode reward: 79.000, mean reward: 1.000 [1.000, 1.000], mean action: 0.519 [0.000, 1.000], mean observation: 0.060 [-0.402, 0.722], loss: 0.428825, mean_absolute_error: 0.496283, mean_q: 0.052027\n",
      "   113/50000: episode: 2, duration: 0.060s, episode steps: 34, steps per second: 567, episode reward: 34.000, mean reward: 1.000 [1.000, 1.000], mean action: 0.529 [0.000, 1.000], mean observation: 0.151 [-0.159, 0.753], loss: 0.351756, mean_absolute_error: 0.445386, mean_q: 0.190670\n",
      "   163/50000: episode: 3, duration: 0.088s, episode steps: 50, steps per second: 570, episode reward: 50.000, mean reward: 1.000 [1.000, 1.000], mean action: 0.520 [0.000, 1.000], mean observation: 0.082 [-0.295, 0.778], loss: 0.315484, mean_absolute_error: 0.465839, mean_q: 0.317009\n",
      "   197/50000: episode: 4, duration: 0.060s, episode steps: 34, steps per second: 566, episode reward: 34.000, mean reward: 1.000 [1.000, 1.000], mean action: 0.529 [0.000, 1.000], mean observation: 0.081 [-0.228, 0.770], loss: 0.277347, mean_absolute_error: 0.501531, mean_q: 0.467685\n",
      "   261/50000: episode: 5, duration: 0.123s, episode steps: 64, steps per second: 519, episode reward: 64.000, mean reward: 1.000 [1.000, 1.000], mean action: 0.500 [0.000, 1.000], mean observation: 0.004 [-0.394, 0.861], loss: 0.226688, mean_absolute_error: 0.557670, mean_q: 0.685930\n",
      "   295/50000: episode: 6, duration: 0.060s, episode steps: 34, steps per second: 563, episode reward: 34.000, mean reward: 1.000 [1.000, 1.000], mean action: 0.500 [0.000, 1.000], mean observation: 0.093 [-0.207, 0.836], loss: 0.183280, mean_absolute_error: 0.642656, mean_q: 0.932227\n",
      "   328/50000: episode: 7, duration: 0.064s, episode steps: 33, steps per second: 512, episode reward: 33.000, mean reward: 1.000 [1.000, 1.000], mean action: 0.515 [0.000, 1.000], mean observation: 0.076 [-0.348, 0.908], loss: 0.138264, mean_absolute_error: 0.700136, mean_q: 1.135826\n",
      "   355/50000: episode: 8, duration: 0.053s, episode steps: 27, steps per second: 505, episode reward: 27.000, mean reward: 1.000 [1.000, 1.000], mean action: 0.519 [0.000, 1.000], mean observation: 0.085 [-0.394, 0.852], loss: 0.121881, mean_absolute_error: 0.789235, mean_q: 1.345514\n",
      "   377/50000: episode: 9, duration: 0.040s, episode steps: 22, steps per second: 556, episode reward: 22.000, mean reward: 1.000 [1.000, 1.000], mean action: 0.500 [0.000, 1.000], mean observation: 0.106 [-0.350, 0.881], loss: 0.099949, mean_absolute_error: 0.856884, mean_q: 1.531981\n",
      "   393/50000: episode: 10, duration: 0.030s, episode steps: 16, steps per second: 532, episode reward: 16.000, mean reward: 1.000 [1.000, 1.000], mean action: 0.500 [0.000, 1.000], mean observation: 0.089 [-0.606, 1.016], loss: 0.094026, mean_absolute_error: 0.923893, mean_q: 1.680977\n",
      "   416/50000: episode: 11, duration: 0.054s, episode steps: 23, steps per second: 422, episode reward: 23.000, mean reward: 1.000 [1.000, 1.000], mean action: 0.478 [0.000, 1.000], mean observation: 0.083 [-0.429, 0.911], loss: 0.082911, mean_absolute_error: 0.977383, mean_q: 1.842101\n",
      "   436/50000: episode: 12, duration: 0.041s, episode steps: 20, steps per second: 484, episode reward: 20.000, mean reward: 1.000 [1.000, 1.000], mean action: 0.450 [0.000, 1.000], mean observation: 0.089 [-0.549, 1.072], loss: 0.087463, mean_absolute_error: 1.071057, mean_q: 2.021697\n",
      "   459/50000: episode: 13, duration: 0.049s, episode steps: 23, steps per second: 466, episode reward: 23.000, mean reward: 1.000 [1.000, 1.000], mean action: 0.478 [0.000, 1.000], mean observation: 0.085 [-0.543, 1.001], loss: 0.101705, mean_absolute_error: 1.170744, mean_q: 2.217610\n",
      "   482/50000: episode: 14, duration: 0.047s, episode steps: 23, steps per second: 487, episode reward: 23.000, mean reward: 1.000 [1.000, 1.000], mean action: 0.478 [0.000, 1.000], mean observation: 0.080 [-0.394, 1.042], loss: 0.108163, mean_absolute_error: 1.249839, mean_q: 2.382699\n",
      "   496/50000: episode: 15, duration: 0.028s, episode steps: 14, steps per second: 494, episode reward: 14.000, mean reward: 1.000 [1.000, 1.000], mean action: 0.429 [0.000, 1.000], mean observation: 0.094 [-0.607, 1.237], loss: 0.103962, mean_absolute_error: 1.310978, mean_q: 2.543569\n",
      "   509/50000: episode: 16, duration: 0.027s, episode steps: 13, steps per second: 477, episode reward: 13.000, mean reward: 1.000 [1.000, 1.000], mean action: 0.385 [0.000, 1.000], mean observation: 0.106 [-0.775, 1.270], loss: 0.098113, mean_absolute_error: 1.364459, mean_q: 2.671617\n",
      "   527/50000: episode: 17, duration: 0.046s, episode steps: 18, steps per second: 390, episode reward: 18.000, mean reward: 1.000 [1.000, 1.000], mean action: 0.444 [0.000, 1.000], mean observation: 0.071 [-0.582, 1.185], loss: 0.104812, mean_absolute_error: 1.446027, mean_q: 2.824334\n",
      "   548/50000: episode: 18, duration: 0.048s, episode steps: 21, steps per second: 437, episode reward: 21.000, mean reward: 1.000 [1.000, 1.000], mean action: 0.429 [0.000, 1.000], mean observation: 0.065 [-0.802, 1.429], loss: 0.146434, mean_absolute_error: 1.560055, mean_q: 3.038544\n",
      "   563/50000: episode: 19, duration: 0.031s, episode steps: 15, steps per second: 477, episode reward: 15.000, mean reward: 1.000 [1.000, 1.000], mean action: 0.400 [0.000, 1.000], mean observation: 0.121 [-0.957, 1.615], loss: 0.150452, mean_absolute_error: 1.616605, mean_q: 3.170338\n",
      "   574/50000: episode: 20, duration: 0.021s, episode steps: 11, steps per second: 513, episode reward: 11.000, mean reward: 1.000 [1.000, 1.000], mean action: 0.364 [0.000, 1.000], mean observation: 0.122 [-0.971, 1.488], loss: 0.172923, mean_absolute_error: 1.683859, mean_q: 3.286923\n",
      "   584/50000: episode: 21, duration: 0.020s, episode steps: 10, steps per second: 501, episode reward: 10.000, mean reward: 1.000 [1.000, 1.000], mean action: 0.300 [0.000, 1.000], mean observation: 0.146 [-0.771, 1.498], loss: 0.216615, mean_absolute_error: 1.756134, mean_q: 3.424485\n",
      "   595/50000: episode: 22, duration: 0.021s, episode steps: 11, steps per second: 521, episode reward: 11.000, mean reward: 1.000 [1.000, 1.000], mean action: 0.273 [0.000, 1.000], mean observation: 0.126 [-0.998, 1.756], loss: 0.278898, mean_absolute_error: 1.859984, mean_q: 3.552019\n",
      "   604/50000: episode: 23, duration: 0.018s, episode steps: 9, steps per second: 510, episode reward: 9.000, mean reward: 1.000 [1.000, 1.000], mean action: 0.222 [0.000, 1.000], mean observation: 0.143 [-0.949, 1.739], loss: 0.183674, mean_absolute_error: 1.829809, mean_q: 3.591773\n",
      "   613/50000: episode: 24, duration: 0.018s, episode steps: 9, steps per second: 512, episode reward: 9.000, mean reward: 1.000 [1.000, 1.000], mean action: 0.222 [0.000, 1.000], mean observation: 0.137 [-1.161, 1.872], loss: 0.149702, mean_absolute_error: 1.846468, mean_q: 3.675222\n",
      "   624/50000: episode: 25, duration: 0.021s, episode steps: 11, steps per second: 520, episode reward: 11.000, mean reward: 1.000 [1.000, 1.000], mean action: 0.273 [0.000, 1.000], mean observation: 0.097 [-1.190, 1.862], loss: 0.331958, mean_absolute_error: 1.957415, mean_q: 3.832034\n",
      "   633/50000: episode: 26, duration: 0.018s, episode steps: 9, steps per second: 502, episode reward: 9.000, mean reward: 1.000 [1.000, 1.000], mean action: 0.222 [0.000, 1.000], mean observation: 0.140 [-1.162, 1.971], loss: 0.434885, mean_absolute_error: 2.032260, mean_q: 3.878721\n",
      "   644/50000: episode: 27, duration: 0.021s, episode steps: 11, steps per second: 524, episode reward: 11.000, mean reward: 1.000 [1.000, 1.000], mean action: 0.182 [0.000, 1.000], mean observation: 0.099 [-1.382, 2.175], loss: 0.274853, mean_absolute_error: 2.007220, mean_q: 3.880827\n",
      "   653/50000: episode: 28, duration: 0.020s, episode steps: 9, steps per second: 450, episode reward: 9.000, mean reward: 1.000 [1.000, 1.000], mean action: 0.000 [0.000, 0.000], mean observation: 0.138 [-1.810, 2.873], loss: 0.244926, mean_absolute_error: 2.028684, mean_q: 4.041429\n",
      "   664/50000: episode: 29, duration: 0.025s, episode steps: 11, steps per second: 444, episode reward: 11.000, mean reward: 1.000 [1.000, 1.000], mean action: 0.182 [0.000, 1.000], mean observation: 0.136 [-1.326, 2.226], loss: 0.263028, mean_absolute_error: 2.115707, mean_q: 4.230660\n",
      "   676/50000: episode: 30, duration: 0.028s, episode steps: 12, steps per second: 435, episode reward: 12.000, mean reward: 1.000 [1.000, 1.000], mean action: 0.167 [0.000, 1.000], mean observation: 0.116 [-1.524, 2.550], loss: 0.651860, mean_absolute_error: 2.298752, mean_q: 4.390365\n",
      "   686/50000: episode: 31, duration: 0.021s, episode steps: 10, steps per second: 477, episode reward: 10.000, mean reward: 1.000 [1.000, 1.000], mean action: 0.100 [0.000, 1.000], mean observation: 0.123 [-1.789, 2.694], loss: 0.546955, mean_absolute_error: 2.287784, mean_q: 4.324941\n",
      "   695/50000: episode: 32, duration: 0.020s, episode steps: 9, steps per second: 457, episode reward: 9.000, mean reward: 1.000 [1.000, 1.000], mean action: 0.222 [0.000, 1.000], mean observation: 0.119 [-1.222, 1.953], loss: 0.626554, mean_absolute_error: 2.325872, mean_q: 4.311590\n",
      "   705/50000: episode: 33, duration: 0.023s, episode steps: 10, steps per second: 444, episode reward: 10.000, mean reward: 1.000 [1.000, 1.000], mean action: 0.200 [0.000, 1.000], mean observation: 0.133 [-1.155, 1.949], loss: 0.412576, mean_absolute_error: 2.349678, mean_q: 4.408848\n",
      "   714/50000: episode: 34, duration: 0.020s, episode steps: 9, steps per second: 449, episode reward: 9.000, mean reward: 1.000 [1.000, 1.000], mean action: 0.111 [0.000, 1.000], mean observation: 0.151 [-1.516, 2.495], loss: 0.305046, mean_absolute_error: 2.319318, mean_q: 4.571704\n",
      "   722/50000: episode: 35, duration: 0.018s, episode steps: 8, steps per second: 438, episode reward: 8.000, mean reward: 1.000 [1.000, 1.000], mean action: 0.125 [0.000, 1.000], mean observation: 0.138 [-1.394, 2.225], loss: 0.519463, mean_absolute_error: 2.440681, mean_q: 4.746152\n",
      "   732/50000: episode: 36, duration: 0.021s, episode steps: 10, steps per second: 480, episode reward: 10.000, mean reward: 1.000 [1.000, 1.000], mean action: 0.100 [0.000, 1.000], mean observation: 0.129 [-1.781, 2.727], loss: 0.415266, mean_absolute_error: 2.427732, mean_q: 4.844096\n"
     ]
    },
    {
     "name": "stdout",
     "output_type": "stream",
     "text": [
      "   744/50000: episode: 37, duration: 0.026s, episode steps: 12, steps per second: 469, episode reward: 12.000, mean reward: 1.000 [1.000, 1.000], mean action: 0.250 [0.000, 1.000], mean observation: 0.110 [-1.353, 2.130], loss: 0.671093, mean_absolute_error: 2.600737, mean_q: 4.910402\n",
      "   752/50000: episode: 38, duration: 0.019s, episode steps: 8, steps per second: 423, episode reward: 8.000, mean reward: 1.000 [1.000, 1.000], mean action: 0.125 [0.000, 1.000], mean observation: 0.137 [-1.350, 2.190], loss: 0.443758, mean_absolute_error: 2.523529, mean_q: 4.900494\n",
      "   765/50000: episode: 39, duration: 0.031s, episode steps: 13, steps per second: 426, episode reward: 13.000, mean reward: 1.000 [1.000, 1.000], mean action: 0.231 [0.000, 1.000], mean observation: 0.104 [-1.566, 2.422], loss: 0.539094, mean_absolute_error: 2.632820, mean_q: 5.093865\n",
      "   774/50000: episode: 40, duration: 0.021s, episode steps: 9, steps per second: 433, episode reward: 9.000, mean reward: 1.000 [1.000, 1.000], mean action: 0.000 [0.000, 0.000], mean observation: 0.144 [-1.774, 2.819], loss: 0.604732, mean_absolute_error: 2.708903, mean_q: 5.209576\n",
      "   782/50000: episode: 41, duration: 0.017s, episode steps: 8, steps per second: 461, episode reward: 8.000, mean reward: 1.000 [1.000, 1.000], mean action: 0.000 [0.000, 0.000], mean observation: 0.169 [-1.565, 2.578], loss: 0.819739, mean_absolute_error: 2.796382, mean_q: 5.293512\n",
      "   793/50000: episode: 42, duration: 0.026s, episode steps: 11, steps per second: 421, episode reward: 11.000, mean reward: 1.000 [1.000, 1.000], mean action: 0.091 [0.000, 1.000], mean observation: 0.115 [-1.810, 2.840], loss: 0.515219, mean_absolute_error: 2.697911, mean_q: 5.312481\n",
      "   801/50000: episode: 43, duration: 0.019s, episode steps: 8, steps per second: 428, episode reward: 8.000, mean reward: 1.000 [1.000, 1.000], mean action: 0.000 [0.000, 0.000], mean observation: 0.174 [-1.530, 2.589], loss: 0.633611, mean_absolute_error: 2.782088, mean_q: 5.445631\n",
      "   811/50000: episode: 44, duration: 0.019s, episode steps: 10, steps per second: 521, episode reward: 10.000, mean reward: 1.000 [1.000, 1.000], mean action: 0.000 [0.000, 0.000], mean observation: 0.159 [-1.915, 3.070], loss: 1.010346, mean_absolute_error: 2.921607, mean_q: 5.477158\n",
      "   820/50000: episode: 45, duration: 0.018s, episode steps: 9, steps per second: 493, episode reward: 9.000, mean reward: 1.000 [1.000, 1.000], mean action: 0.111 [0.000, 1.000], mean observation: 0.151 [-1.332, 2.260], loss: 0.688752, mean_absolute_error: 2.847455, mean_q: 5.461805\n",
      "   829/50000: episode: 46, duration: 0.018s, episode steps: 9, steps per second: 499, episode reward: 9.000, mean reward: 1.000 [1.000, 1.000], mean action: 0.000 [0.000, 0.000], mean observation: 0.187 [-1.727, 2.899], loss: 0.795374, mean_absolute_error: 2.909798, mean_q: 5.557258\n",
      "   838/50000: episode: 47, duration: 0.019s, episode steps: 9, steps per second: 479, episode reward: 9.000, mean reward: 1.000 [1.000, 1.000], mean action: 0.000 [0.000, 0.000], mean observation: 0.164 [-1.721, 2.789], loss: 0.660945, mean_absolute_error: 2.949004, mean_q: 5.631139\n",
      "   847/50000: episode: 48, duration: 0.025s, episode steps: 9, steps per second: 355, episode reward: 9.000, mean reward: 1.000 [1.000, 1.000], mean action: 0.000 [0.000, 0.000], mean observation: 0.124 [-1.794, 2.794], loss: 0.762100, mean_absolute_error: 2.988072, mean_q: 5.699721\n",
      "   857/50000: episode: 49, duration: 0.020s, episode steps: 10, steps per second: 496, episode reward: 10.000, mean reward: 1.000 [1.000, 1.000], mean action: 0.100 [0.000, 1.000], mean observation: 0.141 [-1.575, 2.564], loss: 0.859427, mean_absolute_error: 3.037051, mean_q: 5.787078\n",
      "   867/50000: episode: 50, duration: 0.020s, episode steps: 10, steps per second: 512, episode reward: 10.000, mean reward: 1.000 [1.000, 1.000], mean action: 0.000 [0.000, 0.000], mean observation: 0.124 [-1.976, 3.042], loss: 0.915715, mean_absolute_error: 3.106557, mean_q: 5.866161\n",
      "   877/50000: episode: 51, duration: 0.020s, episode steps: 10, steps per second: 501, episode reward: 10.000, mean reward: 1.000 [1.000, 1.000], mean action: 0.000 [0.000, 0.000], mean observation: 0.151 [-1.922, 3.109], loss: 1.221996, mean_absolute_error: 3.173466, mean_q: 5.905155\n",
      "   889/50000: episode: 52, duration: 0.023s, episode steps: 12, steps per second: 514, episode reward: 12.000, mean reward: 1.000 [1.000, 1.000], mean action: 0.167 [0.000, 1.000], mean observation: 0.099 [-1.597, 2.442], loss: 0.856801, mean_absolute_error: 3.125220, mean_q: 5.875434\n",
      "   900/50000: episode: 53, duration: 0.027s, episode steps: 11, steps per second: 414, episode reward: 11.000, mean reward: 1.000 [1.000, 1.000], mean action: 0.091 [0.000, 1.000], mean observation: 0.131 [-1.801, 2.775], loss: 0.706411, mean_absolute_error: 3.129056, mean_q: 5.990057\n",
      "   909/50000: episode: 54, duration: 0.020s, episode steps: 9, steps per second: 458, episode reward: 9.000, mean reward: 1.000 [1.000, 1.000], mean action: 0.000 [0.000, 0.000], mean observation: 0.135 [-1.765, 2.769], loss: 0.970113, mean_absolute_error: 3.216830, mean_q: 6.110713\n",
      "   918/50000: episode: 55, duration: 0.020s, episode steps: 9, steps per second: 455, episode reward: 9.000, mean reward: 1.000 [1.000, 1.000], mean action: 0.000 [0.000, 0.000], mean observation: 0.145 [-1.742, 2.813], loss: 0.818640, mean_absolute_error: 3.254094, mean_q: 6.175474\n",
      "   928/50000: episode: 56, duration: 0.022s, episode steps: 10, steps per second: 464, episode reward: 10.000, mean reward: 1.000 [1.000, 1.000], mean action: 0.000 [0.000, 0.000], mean observation: 0.123 [-1.984, 3.051], loss: 1.028806, mean_absolute_error: 3.313330, mean_q: 6.181195\n",
      "   937/50000: episode: 57, duration: 0.020s, episode steps: 9, steps per second: 443, episode reward: 9.000, mean reward: 1.000 [1.000, 1.000], mean action: 0.111 [0.000, 1.000], mean observation: 0.133 [-1.385, 2.231], loss: 1.020720, mean_absolute_error: 3.311433, mean_q: 6.172225\n",
      "   947/50000: episode: 58, duration: 0.021s, episode steps: 10, steps per second: 470, episode reward: 10.000, mean reward: 1.000 [1.000, 1.000], mean action: 0.000 [0.000, 0.000], mean observation: 0.154 [-1.927, 3.118], loss: 0.903553, mean_absolute_error: 3.327554, mean_q: 6.250751\n",
      "   957/50000: episode: 59, duration: 0.022s, episode steps: 10, steps per second: 455, episode reward: 10.000, mean reward: 1.000 [1.000, 1.000], mean action: 0.100 [0.000, 1.000], mean observation: 0.132 [-1.608, 2.639], loss: 0.952802, mean_absolute_error: 3.381998, mean_q: 6.296802\n",
      "   967/50000: episode: 60, duration: 0.021s, episode steps: 10, steps per second: 474, episode reward: 10.000, mean reward: 1.000 [1.000, 1.000], mean action: 0.100 [0.000, 1.000], mean observation: 0.139 [-1.608, 2.521], loss: 1.014553, mean_absolute_error: 3.440136, mean_q: 6.384568\n",
      "   977/50000: episode: 61, duration: 0.020s, episode steps: 10, steps per second: 491, episode reward: 10.000, mean reward: 1.000 [1.000, 1.000], mean action: 0.200 [0.000, 1.000], mean observation: 0.109 [-1.383, 2.166], loss: 0.961575, mean_absolute_error: 3.460693, mean_q: 6.347878\n",
      "   988/50000: episode: 62, duration: 0.022s, episode steps: 11, steps per second: 506, episode reward: 11.000, mean reward: 1.000 [1.000, 1.000], mean action: 0.273 [0.000, 1.000], mean observation: 0.111 [-1.171, 1.905], loss: 0.954231, mean_absolute_error: 3.438442, mean_q: 6.368483\n",
      "  1000/50000: episode: 63, duration: 0.024s, episode steps: 12, steps per second: 501, episode reward: 12.000, mean reward: 1.000 [1.000, 1.000], mean action: 0.250 [0.000, 1.000], mean observation: 0.110 [-1.135, 1.865], loss: 0.860523, mean_absolute_error: 3.467911, mean_q: 6.375246\n",
      "  1011/50000: episode: 64, duration: 0.023s, episode steps: 11, steps per second: 488, episode reward: 11.000, mean reward: 1.000 [1.000, 1.000], mean action: 0.182 [0.000, 1.000], mean observation: 0.125 [-1.330, 2.231], loss: 0.696843, mean_absolute_error: 3.473004, mean_q: 6.468201\n",
      "  1022/50000: episode: 65, duration: 0.023s, episode steps: 11, steps per second: 476, episode reward: 11.000, mean reward: 1.000 [1.000, 1.000], mean action: 0.273 [0.000, 1.000], mean observation: 0.094 [-1.189, 1.843], loss: 0.828819, mean_absolute_error: 3.527509, mean_q: 6.620012\n"
     ]
    },
    {
     "name": "stdout",
     "output_type": "stream",
     "text": [
      "  1033/50000: episode: 66, duration: 0.024s, episode steps: 11, steps per second: 462, episode reward: 11.000, mean reward: 1.000 [1.000, 1.000], mean action: 0.273 [0.000, 1.000], mean observation: 0.114 [-1.158, 1.884], loss: 0.622828, mean_absolute_error: 3.528227, mean_q: 6.696102\n",
      "  1047/50000: episode: 67, duration: 0.029s, episode steps: 14, steps per second: 480, episode reward: 14.000, mean reward: 1.000 [1.000, 1.000], mean action: 0.429 [0.000, 1.000], mean observation: 0.082 [-0.979, 1.428], loss: 0.925514, mean_absolute_error: 3.632098, mean_q: 6.783350\n",
      "  1061/50000: episode: 68, duration: 0.030s, episode steps: 14, steps per second: 468, episode reward: 14.000, mean reward: 1.000 [1.000, 1.000], mean action: 0.429 [0.000, 1.000], mean observation: 0.111 [-0.571, 1.058], loss: 0.665091, mean_absolute_error: 3.595948, mean_q: 6.716099\n",
      "  1077/50000: episode: 69, duration: 0.032s, episode steps: 16, steps per second: 498, episode reward: 16.000, mean reward: 1.000 [1.000, 1.000], mean action: 0.438 [0.000, 1.000], mean observation: 0.082 [-0.774, 1.315], loss: 1.051471, mean_absolute_error: 3.704950, mean_q: 6.736467\n",
      "  1094/50000: episode: 70, duration: 0.035s, episode steps: 17, steps per second: 488, episode reward: 17.000, mean reward: 1.000 [1.000, 1.000], mean action: 0.412 [0.000, 1.000], mean observation: 0.102 [-0.588, 1.287], loss: 0.897614, mean_absolute_error: 3.702669, mean_q: 6.812716\n",
      "  1106/50000: episode: 71, duration: 0.024s, episode steps: 12, steps per second: 505, episode reward: 12.000, mean reward: 1.000 [1.000, 1.000], mean action: 0.417 [0.000, 1.000], mean observation: 0.113 [-0.835, 1.431], loss: 0.900302, mean_absolute_error: 3.740465, mean_q: 6.930402\n",
      "  1117/50000: episode: 72, duration: 0.022s, episode steps: 11, steps per second: 496, episode reward: 11.000, mean reward: 1.000 [1.000, 1.000], mean action: 0.455 [0.000, 1.000], mean observation: 0.120 [-0.755, 1.311], loss: 0.864910, mean_absolute_error: 3.770221, mean_q: 6.974068\n",
      "  1134/50000: episode: 73, duration: 0.032s, episode steps: 17, steps per second: 531, episode reward: 17.000, mean reward: 1.000 [1.000, 1.000], mean action: 0.471 [0.000, 1.000], mean observation: 0.066 [-0.635, 1.023], loss: 0.819095, mean_absolute_error: 3.781627, mean_q: 7.019390\n",
      "  1150/50000: episode: 74, duration: 0.033s, episode steps: 16, steps per second: 478, episode reward: 16.000, mean reward: 1.000 [1.000, 1.000], mean action: 0.438 [0.000, 1.000], mean observation: 0.117 [-0.376, 1.098], loss: 0.827668, mean_absolute_error: 3.832165, mean_q: 7.102082\n",
      "  1167/50000: episode: 75, duration: 0.032s, episode steps: 17, steps per second: 534, episode reward: 17.000, mean reward: 1.000 [1.000, 1.000], mean action: 0.471 [0.000, 1.000], mean observation: 0.093 [-0.575, 1.114], loss: 0.750653, mean_absolute_error: 3.835744, mean_q: 7.163364\n",
      "  1189/50000: episode: 76, duration: 0.041s, episode steps: 22, steps per second: 540, episode reward: 22.000, mean reward: 1.000 [1.000, 1.000], mean action: 0.500 [0.000, 1.000], mean observation: 0.118 [-0.355, 0.902], loss: 1.117596, mean_absolute_error: 3.930441, mean_q: 7.098812\n",
      "  1219/50000: episode: 77, duration: 0.057s, episode steps: 30, steps per second: 530, episode reward: 30.000, mean reward: 1.000 [1.000, 1.000], mean action: 0.500 [0.000, 1.000], mean observation: 0.059 [-0.374, 0.850], loss: 0.967623, mean_absolute_error: 3.964803, mean_q: 7.318701\n",
      "  1239/50000: episode: 78, duration: 0.050s, episode steps: 20, steps per second: 397, episode reward: 20.000, mean reward: 1.000 [1.000, 1.000], mean action: 0.500 [0.000, 1.000], mean observation: 0.118 [-0.352, 0.823], loss: 0.977957, mean_absolute_error: 4.032516, mean_q: 7.442191\n",
      "  1271/50000: episode: 79, duration: 0.062s, episode steps: 32, steps per second: 515, episode reward: 32.000, mean reward: 1.000 [1.000, 1.000], mean action: 0.500 [0.000, 1.000], mean observation: 0.095 [-0.356, 0.872], loss: 1.078805, mean_absolute_error: 4.083715, mean_q: 7.466658\n",
      "  1320/50000: episode: 80, duration: 0.091s, episode steps: 49, steps per second: 536, episode reward: 49.000, mean reward: 1.000 [1.000, 1.000], mean action: 0.510 [0.000, 1.000], mean observation: 0.081 [-0.254, 0.764], loss: 0.867466, mean_absolute_error: 4.153880, mean_q: 7.716337\n",
      "  1369/50000: episode: 81, duration: 0.097s, episode steps: 49, steps per second: 506, episode reward: 49.000, mean reward: 1.000 [1.000, 1.000], mean action: 0.531 [0.000, 1.000], mean observation: 0.103 [-0.407, 0.949], loss: 0.981656, mean_absolute_error: 4.270245, mean_q: 7.918065\n",
      "  1438/50000: episode: 82, duration: 0.132s, episode steps: 69, steps per second: 523, episode reward: 69.000, mean reward: 1.000 [1.000, 1.000], mean action: 0.522 [0.000, 1.000], mean observation: 0.071 [-0.351, 0.652], loss: 0.839420, mean_absolute_error: 4.453681, mean_q: 8.409698\n",
      "  1477/50000: episode: 83, duration: 0.076s, episode steps: 39, steps per second: 514, episode reward: 39.000, mean reward: 1.000 [1.000, 1.000], mean action: 0.487 [0.000, 1.000], mean observation: -0.109 [-0.805, 0.336], loss: 1.023292, mean_absolute_error: 4.590127, mean_q: 8.615678\n",
      "  1521/50000: episode: 84, duration: 0.086s, episode steps: 44, steps per second: 514, episode reward: 44.000, mean reward: 1.000 [1.000, 1.000], mean action: 0.500 [0.000, 1.000], mean observation: -0.082 [-1.068, 0.245], loss: 0.796886, mean_absolute_error: 4.696222, mean_q: 8.935781\n",
      "  1568/50000: episode: 85, duration: 0.091s, episode steps: 47, steps per second: 517, episode reward: 47.000, mean reward: 1.000 [1.000, 1.000], mean action: 0.489 [0.000, 1.000], mean observation: -0.068 [-0.756, 0.198], loss: 1.399103, mean_absolute_error: 4.894959, mean_q: 9.151306\n",
      "  1619/50000: episode: 86, duration: 0.100s, episode steps: 51, steps per second: 510, episode reward: 51.000, mean reward: 1.000 [1.000, 1.000], mean action: 0.471 [0.000, 1.000], mean observation: -0.093 [-0.671, 0.404], loss: 1.211788, mean_absolute_error: 5.017004, mean_q: 9.471369\n",
      "  1647/50000: episode: 87, duration: 0.054s, episode steps: 28, steps per second: 521, episode reward: 28.000, mean reward: 1.000 [1.000, 1.000], mean action: 0.500 [0.000, 1.000], mean observation: -0.092 [-0.921, 0.447], loss: 1.064904, mean_absolute_error: 5.124439, mean_q: 9.754202\n",
      "  1680/50000: episode: 88, duration: 0.061s, episode steps: 33, steps per second: 540, episode reward: 33.000, mean reward: 1.000 [1.000, 1.000], mean action: 0.455 [0.000, 1.000], mean observation: -0.121 [-0.666, 0.172], loss: 1.141780, mean_absolute_error: 5.239505, mean_q: 9.985929\n",
      "  1718/50000: episode: 89, duration: 0.068s, episode steps: 38, steps per second: 557, episode reward: 38.000, mean reward: 1.000 [1.000, 1.000], mean action: 0.500 [0.000, 1.000], mean observation: -0.099 [-1.079, 0.183], loss: 1.215264, mean_absolute_error: 5.317363, mean_q: 10.147698\n",
      "  1761/50000: episode: 90, duration: 0.082s, episode steps: 43, steps per second: 521, episode reward: 43.000, mean reward: 1.000 [1.000, 1.000], mean action: 0.465 [0.000, 1.000], mean observation: -0.110 [-0.707, 0.253], loss: 1.530901, mean_absolute_error: 5.459766, mean_q: 10.331823\n",
      "  1792/50000: episode: 91, duration: 0.058s, episode steps: 31, steps per second: 531, episode reward: 31.000, mean reward: 1.000 [1.000, 1.000], mean action: 0.452 [0.000, 1.000], mean observation: -0.113 [-0.693, 0.334], loss: 1.393472, mean_absolute_error: 5.524259, mean_q: 10.513516\n",
      "  1819/50000: episode: 92, duration: 0.050s, episode steps: 27, steps per second: 541, episode reward: 27.000, mean reward: 1.000 [1.000, 1.000], mean action: 0.481 [0.000, 1.000], mean observation: -0.103 [-0.637, 0.367], loss: 1.197375, mean_absolute_error: 5.610357, mean_q: 10.722608\n",
      "  1845/50000: episode: 93, duration: 0.048s, episode steps: 26, steps per second: 544, episode reward: 26.000, mean reward: 1.000 [1.000, 1.000], mean action: 0.462 [0.000, 1.000], mean observation: -0.098 [-0.937, 0.403], loss: 1.424552, mean_absolute_error: 5.700710, mean_q: 10.871046\n",
      "  1869/50000: episode: 94, duration: 0.044s, episode steps: 24, steps per second: 546, episode reward: 24.000, mean reward: 1.000 [1.000, 1.000], mean action: 0.500 [0.000, 1.000], mean observation: -0.104 [-0.783, 0.370], loss: 1.159537, mean_absolute_error: 5.747742, mean_q: 11.058800\n",
      "  1903/50000: episode: 95, duration: 0.069s, episode steps: 34, steps per second: 492, episode reward: 34.000, mean reward: 1.000 [1.000, 1.000], mean action: 0.500 [0.000, 1.000], mean observation: -0.028 [-0.737, 0.434], loss: 1.613788, mean_absolute_error: 5.907403, mean_q: 11.317787\n",
      "  1927/50000: episode: 96, duration: 0.057s, episode steps: 24, steps per second: 420, episode reward: 24.000, mean reward: 1.000 [1.000, 1.000], mean action: 0.458 [0.000, 1.000], mean observation: -0.081 [-0.940, 0.634], loss: 2.445727, mean_absolute_error: 6.089784, mean_q: 11.449626\n",
      "  1953/50000: episode: 97, duration: 0.050s, episode steps: 26, steps per second: 521, episode reward: 26.000, mean reward: 1.000 [1.000, 1.000], mean action: 0.462 [0.000, 1.000], mean observation: -0.107 [-0.718, 0.194], loss: 1.879182, mean_absolute_error: 6.086294, mean_q: 11.472417\n"
     ]
    },
    {
     "name": "stdout",
     "output_type": "stream",
     "text": [
      "  1987/50000: episode: 98, duration: 0.068s, episode steps: 34, steps per second: 499, episode reward: 34.000, mean reward: 1.000 [1.000, 1.000], mean action: 0.471 [0.000, 1.000], mean observation: -0.058 [-0.891, 0.616], loss: 1.896024, mean_absolute_error: 6.126431, mean_q: 11.564066\n",
      "  2026/50000: episode: 99, duration: 0.074s, episode steps: 39, steps per second: 524, episode reward: 39.000, mean reward: 1.000 [1.000, 1.000], mean action: 0.487 [0.000, 1.000], mean observation: -0.065 [-0.766, 0.379], loss: 1.034939, mean_absolute_error: 6.101964, mean_q: 11.843329\n",
      "  2046/50000: episode: 100, duration: 0.039s, episode steps: 20, steps per second: 510, episode reward: 20.000, mean reward: 1.000 [1.000, 1.000], mean action: 0.500 [0.000, 1.000], mean observation: -0.117 [-0.891, 0.361], loss: 1.555776, mean_absolute_error: 6.334466, mean_q: 12.278546\n",
      "  2063/50000: episode: 101, duration: 0.034s, episode steps: 17, steps per second: 503, episode reward: 17.000, mean reward: 1.000 [1.000, 1.000], mean action: 0.529 [0.000, 1.000], mean observation: -0.108 [-0.959, 0.413], loss: 0.999264, mean_absolute_error: 6.323816, mean_q: 12.375605\n",
      "  2079/50000: episode: 102, duration: 0.032s, episode steps: 16, steps per second: 506, episode reward: 16.000, mean reward: 1.000 [1.000, 1.000], mean action: 0.500 [0.000, 1.000], mean observation: -0.099 [-1.075, 0.582], loss: 2.102129, mean_absolute_error: 6.470268, mean_q: 12.445253\n",
      "  2095/50000: episode: 103, duration: 0.033s, episode steps: 16, steps per second: 486, episode reward: 16.000, mean reward: 1.000 [1.000, 1.000], mean action: 0.500 [0.000, 1.000], mean observation: -0.089 [-1.004, 0.416], loss: 1.822726, mean_absolute_error: 6.466055, mean_q: 12.432726\n",
      "  2114/50000: episode: 104, duration: 0.039s, episode steps: 19, steps per second: 489, episode reward: 19.000, mean reward: 1.000 [1.000, 1.000], mean action: 0.526 [0.000, 1.000], mean observation: -0.082 [-1.068, 0.596], loss: 2.903460, mean_absolute_error: 6.590530, mean_q: 12.501961\n",
      "  2127/50000: episode: 105, duration: 0.026s, episode steps: 13, steps per second: 493, episode reward: 13.000, mean reward: 1.000 [1.000, 1.000], mean action: 0.538 [0.000, 1.000], mean observation: -0.109 [-1.182, 0.580], loss: 2.261995, mean_absolute_error: 6.705223, mean_q: 12.790831\n",
      "  2140/50000: episode: 106, duration: 0.026s, episode steps: 13, steps per second: 498, episode reward: 13.000, mean reward: 1.000 [1.000, 1.000], mean action: 0.538 [0.000, 1.000], mean observation: -0.108 [-1.066, 0.586], loss: 1.867957, mean_absolute_error: 6.650622, mean_q: 12.683084\n",
      "  2155/50000: episode: 107, duration: 0.030s, episode steps: 15, steps per second: 499, episode reward: 15.000, mean reward: 1.000 [1.000, 1.000], mean action: 0.533 [0.000, 1.000], mean observation: -0.083 [-0.971, 0.604], loss: 1.918874, mean_absolute_error: 6.696425, mean_q: 12.808825\n",
      "  2170/50000: episode: 108, duration: 0.030s, episode steps: 15, steps per second: 502, episode reward: 15.000, mean reward: 1.000 [1.000, 1.000], mean action: 0.533 [0.000, 1.000], mean observation: -0.073 [-0.966, 0.632], loss: 1.313121, mean_absolute_error: 6.711626, mean_q: 12.993399\n",
      "  2191/50000: episode: 109, duration: 0.042s, episode steps: 21, steps per second: 502, episode reward: 21.000, mean reward: 1.000 [1.000, 1.000], mean action: 0.571 [0.000, 1.000], mean observation: -0.057 [-1.256, 0.638], loss: 2.393496, mean_absolute_error: 6.752024, mean_q: 12.981787\n",
      "  2209/50000: episode: 110, duration: 0.037s, episode steps: 18, steps per second: 486, episode reward: 18.000, mean reward: 1.000 [1.000, 1.000], mean action: 0.556 [0.000, 1.000], mean observation: -0.099 [-1.282, 0.605], loss: 2.738345, mean_absolute_error: 6.834517, mean_q: 12.974127\n",
      "  2225/50000: episode: 111, duration: 0.032s, episode steps: 16, steps per second: 496, episode reward: 16.000, mean reward: 1.000 [1.000, 1.000], mean action: 0.562 [0.000, 1.000], mean observation: -0.102 [-1.026, 0.579], loss: 2.668968, mean_absolute_error: 6.960532, mean_q: 13.232156\n",
      "  2239/50000: episode: 112, duration: 0.028s, episode steps: 14, steps per second: 504, episode reward: 14.000, mean reward: 1.000 [1.000, 1.000], mean action: 0.571 [0.000, 1.000], mean observation: -0.102 [-1.080, 0.613], loss: 2.705796, mean_absolute_error: 7.060856, mean_q: 13.423662\n",
      "  2255/50000: episode: 113, duration: 0.033s, episode steps: 16, steps per second: 487, episode reward: 16.000, mean reward: 1.000 [1.000, 1.000], mean action: 0.562 [0.000, 1.000], mean observation: -0.071 [-1.195, 0.625], loss: 2.135611, mean_absolute_error: 7.056513, mean_q: 13.547437\n",
      "  2270/50000: episode: 114, duration: 0.032s, episode steps: 15, steps per second: 470, episode reward: 15.000, mean reward: 1.000 [1.000, 1.000], mean action: 0.600 [0.000, 1.000], mean observation: -0.108 [-1.389, 0.756], loss: 3.648866, mean_absolute_error: 7.151990, mean_q: 13.534225\n",
      "  2284/50000: episode: 115, duration: 0.029s, episode steps: 14, steps per second: 483, episode reward: 14.000, mean reward: 1.000 [1.000, 1.000], mean action: 0.643 [0.000, 1.000], mean observation: -0.108 [-1.451, 0.757], loss: 2.017967, mean_absolute_error: 7.052236, mean_q: 13.556991\n",
      "  2298/50000: episode: 116, duration: 0.029s, episode steps: 14, steps per second: 485, episode reward: 14.000, mean reward: 1.000 [1.000, 1.000], mean action: 0.643 [0.000, 1.000], mean observation: -0.084 [-1.405, 0.762], loss: 2.381257, mean_absolute_error: 7.055264, mean_q: 13.511811\n",
      "  2310/50000: episode: 117, duration: 0.025s, episode steps: 12, steps per second: 484, episode reward: 12.000, mean reward: 1.000 [1.000, 1.000], mean action: 0.583 [0.000, 1.000], mean observation: -0.120 [-1.266, 0.609], loss: 2.801061, mean_absolute_error: 7.179855, mean_q: 13.644145\n",
      "  2325/50000: episode: 118, duration: 0.032s, episode steps: 15, steps per second: 471, episode reward: 15.000, mean reward: 1.000 [1.000, 1.000], mean action: 0.533 [0.000, 1.000], mean observation: -0.116 [-1.060, 0.562], loss: 3.654778, mean_absolute_error: 7.325475, mean_q: 13.812495\n",
      "  2336/50000: episode: 119, duration: 0.023s, episode steps: 11, steps per second: 478, episode reward: 11.000, mean reward: 1.000 [1.000, 1.000], mean action: 0.636 [0.000, 1.000], mean observation: -0.128 [-1.315, 0.795], loss: 4.309969, mean_absolute_error: 7.346434, mean_q: 13.693469\n",
      "  2347/50000: episode: 120, duration: 0.023s, episode steps: 11, steps per second: 485, episode reward: 11.000, mean reward: 1.000 [1.000, 1.000], mean action: 0.545 [0.000, 1.000], mean observation: -0.113 [-1.252, 0.827], loss: 1.834454, mean_absolute_error: 7.126129, mean_q: 13.563706\n",
      "  2361/50000: episode: 121, duration: 0.028s, episode steps: 14, steps per second: 508, episode reward: 14.000, mean reward: 1.000 [1.000, 1.000], mean action: 0.571 [0.000, 1.000], mean observation: -0.130 [-1.251, 0.564], loss: 2.302767, mean_absolute_error: 7.257024, mean_q: 13.858897\n",
      "  2378/50000: episode: 122, duration: 0.032s, episode steps: 17, steps per second: 528, episode reward: 17.000, mean reward: 1.000 [1.000, 1.000], mean action: 0.588 [0.000, 1.000], mean observation: -0.072 [-1.226, 0.768], loss: 3.263433, mean_absolute_error: 7.363669, mean_q: 13.996763\n",
      "  2391/50000: episode: 123, duration: 0.025s, episode steps: 13, steps per second: 511, episode reward: 13.000, mean reward: 1.000 [1.000, 1.000], mean action: 0.538 [0.000, 1.000], mean observation: -0.126 [-1.012, 0.552], loss: 2.377413, mean_absolute_error: 7.349666, mean_q: 14.095203\n",
      "  2410/50000: episode: 124, duration: 0.036s, episode steps: 19, steps per second: 531, episode reward: 19.000, mean reward: 1.000 [1.000, 1.000], mean action: 0.579 [0.000, 1.000], mean observation: -0.070 [-1.191, 0.601], loss: 3.175719, mean_absolute_error: 7.385525, mean_q: 14.078606\n",
      "  2423/50000: episode: 125, duration: 0.033s, episode steps: 13, steps per second: 391, episode reward: 13.000, mean reward: 1.000 [1.000, 1.000], mean action: 0.692 [0.000, 1.000], mean observation: -0.105 [-1.774, 0.984], loss: 3.723766, mean_absolute_error: 7.449327, mean_q: 14.073383\n",
      "  2432/50000: episode: 126, duration: 0.020s, episode steps: 9, steps per second: 458, episode reward: 9.000, mean reward: 1.000 [1.000, 1.000], mean action: 0.667 [0.000, 1.000], mean observation: -0.128 [-1.420, 0.817], loss: 2.199728, mean_absolute_error: 7.430111, mean_q: 14.239907\n",
      "  2442/50000: episode: 127, duration: 0.022s, episode steps: 10, steps per second: 465, episode reward: 10.000, mean reward: 1.000 [1.000, 1.000], mean action: 0.700 [0.000, 1.000], mean observation: -0.116 [-1.509, 0.828], loss: 3.167635, mean_absolute_error: 7.554250, mean_q: 14.365911\n",
      "  2456/50000: episode: 128, duration: 0.029s, episode steps: 14, steps per second: 488, episode reward: 14.000, mean reward: 1.000 [1.000, 1.000], mean action: 0.643 [0.000, 1.000], mean observation: -0.080 [-1.421, 0.837], loss: 2.989209, mean_absolute_error: 7.615611, mean_q: 14.560699\n",
      "  2471/50000: episode: 129, duration: 0.030s, episode steps: 15, steps per second: 500, episode reward: 15.000, mean reward: 1.000 [1.000, 1.000], mean action: 0.600 [0.000, 1.000], mean observation: -0.096 [-1.619, 0.964], loss: 2.157464, mean_absolute_error: 7.512242, mean_q: 14.487873\n",
      "  2488/50000: episode: 130, duration: 0.034s, episode steps: 17, steps per second: 494, episode reward: 17.000, mean reward: 1.000 [1.000, 1.000], mean action: 0.588 [0.000, 1.000], mean observation: -0.080 [-1.259, 0.759], loss: 2.927961, mean_absolute_error: 7.571925, mean_q: 14.456253\n",
      "  2502/50000: episode: 131, duration: 0.027s, episode steps: 14, steps per second: 516, episode reward: 14.000, mean reward: 1.000 [1.000, 1.000], mean action: 0.571 [0.000, 1.000], mean observation: -0.111 [-1.185, 0.580], loss: 5.061875, mean_absolute_error: 7.797153, mean_q: 14.628991\n",
      "  2521/50000: episode: 132, duration: 0.036s, episode steps: 19, steps per second: 526, episode reward: 19.000, mean reward: 1.000 [1.000, 1.000], mean action: 0.579 [0.000, 1.000], mean observation: -0.049 [-1.321, 0.802], loss: 2.948561, mean_absolute_error: 7.633246, mean_q: 14.440597\n"
     ]
    },
    {
     "name": "stdout",
     "output_type": "stream",
     "text": [
      "  2538/50000: episode: 133, duration: 0.039s, episode steps: 17, steps per second: 434, episode reward: 17.000, mean reward: 1.000 [1.000, 1.000], mean action: 0.529 [0.000, 1.000], mean observation: -0.072 [-1.053, 0.624], loss: 2.725843, mean_absolute_error: 7.563269, mean_q: 14.387551\n",
      "  2553/50000: episode: 134, duration: 0.030s, episode steps: 15, steps per second: 494, episode reward: 15.000, mean reward: 1.000 [1.000, 1.000], mean action: 0.533 [0.000, 1.000], mean observation: -0.097 [-1.091, 0.617], loss: 2.835762, mean_absolute_error: 7.690825, mean_q: 14.671184\n",
      "  2565/50000: episode: 135, duration: 0.024s, episode steps: 12, steps per second: 505, episode reward: 12.000, mean reward: 1.000 [1.000, 1.000], mean action: 0.583 [0.000, 1.000], mean observation: -0.115 [-1.225, 0.583], loss: 2.819621, mean_absolute_error: 7.755838, mean_q: 14.798855\n",
      "  2581/50000: episode: 136, duration: 0.030s, episode steps: 16, steps per second: 531, episode reward: 16.000, mean reward: 1.000 [1.000, 1.000], mean action: 0.562 [0.000, 1.000], mean observation: -0.094 [-1.246, 0.742], loss: 3.131020, mean_absolute_error: 7.667627, mean_q: 14.616345\n",
      "  2594/50000: episode: 137, duration: 0.024s, episode steps: 13, steps per second: 531, episode reward: 13.000, mean reward: 1.000 [1.000, 1.000], mean action: 0.538 [0.000, 1.000], mean observation: -0.109 [-1.402, 0.793], loss: 1.956412, mean_absolute_error: 7.798159, mean_q: 15.093914\n",
      "  2609/50000: episode: 138, duration: 0.028s, episode steps: 15, steps per second: 538, episode reward: 15.000, mean reward: 1.000 [1.000, 1.000], mean action: 0.600 [0.000, 1.000], mean observation: -0.094 [-1.302, 0.626], loss: 3.866527, mean_absolute_error: 7.835980, mean_q: 14.998578\n",
      "  2625/50000: episode: 139, duration: 0.031s, episode steps: 16, steps per second: 524, episode reward: 16.000, mean reward: 1.000 [1.000, 1.000], mean action: 0.562 [0.000, 1.000], mean observation: -0.092 [-1.169, 0.554], loss: 4.039257, mean_absolute_error: 7.992870, mean_q: 15.203619\n",
      "  2637/50000: episode: 140, duration: 0.025s, episode steps: 12, steps per second: 483, episode reward: 12.000, mean reward: 1.000 [1.000, 1.000], mean action: 0.583 [0.000, 1.000], mean observation: -0.118 [-1.197, 0.785], loss: 3.089294, mean_absolute_error: 7.881860, mean_q: 14.984386\n",
      "  2657/50000: episode: 141, duration: 0.044s, episode steps: 20, steps per second: 454, episode reward: 20.000, mean reward: 1.000 [1.000, 1.000], mean action: 0.550 [0.000, 1.000], mean observation: -0.082 [-1.245, 0.580], loss: 3.098836, mean_absolute_error: 8.004414, mean_q: 15.275665\n",
      "  2668/50000: episode: 142, duration: 0.024s, episode steps: 11, steps per second: 453, episode reward: 11.000, mean reward: 1.000 [1.000, 1.000], mean action: 0.636 [0.000, 1.000], mean observation: -0.125 [-1.276, 0.588], loss: 4.023169, mean_absolute_error: 8.070202, mean_q: 15.330686\n",
      "  2685/50000: episode: 143, duration: 0.038s, episode steps: 17, steps per second: 444, episode reward: 17.000, mean reward: 1.000 [1.000, 1.000], mean action: 0.588 [0.000, 1.000], mean observation: -0.046 [-1.173, 0.826], loss: 2.726377, mean_absolute_error: 7.943675, mean_q: 15.324294\n",
      "  2701/50000: episode: 144, duration: 0.033s, episode steps: 16, steps per second: 479, episode reward: 16.000, mean reward: 1.000 [1.000, 1.000], mean action: 0.562 [0.000, 1.000], mean observation: -0.095 [-1.187, 0.577], loss: 4.774203, mean_absolute_error: 8.174162, mean_q: 15.459852\n",
      "  2721/50000: episode: 145, duration: 0.040s, episode steps: 20, steps per second: 498, episode reward: 20.000, mean reward: 1.000 [1.000, 1.000], mean action: 0.550 [0.000, 1.000], mean observation: -0.055 [-1.148, 0.618], loss: 3.147906, mean_absolute_error: 8.037864, mean_q: 15.324953\n",
      "  2736/50000: episode: 146, duration: 0.029s, episode steps: 15, steps per second: 516, episode reward: 15.000, mean reward: 1.000 [1.000, 1.000], mean action: 0.600 [0.000, 1.000], mean observation: -0.132 [-1.420, 0.587], loss: 4.217254, mean_absolute_error: 8.229438, mean_q: 15.546436\n",
      "  2751/50000: episode: 147, duration: 0.030s, episode steps: 15, steps per second: 494, episode reward: 15.000, mean reward: 1.000 [1.000, 1.000], mean action: 0.533 [0.000, 1.000], mean observation: -0.116 [-0.992, 0.554], loss: 3.658639, mean_absolute_error: 8.131484, mean_q: 15.478083\n",
      "  2770/50000: episode: 148, duration: 0.042s, episode steps: 19, steps per second: 452, episode reward: 19.000, mean reward: 1.000 [1.000, 1.000], mean action: 0.526 [0.000, 1.000], mean observation: -0.070 [-0.919, 0.590], loss: 4.583913, mean_absolute_error: 8.276690, mean_q: 15.631052\n",
      "  2786/50000: episode: 149, duration: 0.031s, episode steps: 16, steps per second: 514, episode reward: 16.000, mean reward: 1.000 [1.000, 1.000], mean action: 0.500 [0.000, 1.000], mean observation: -0.095 [-0.839, 0.404], loss: 3.063531, mean_absolute_error: 8.194880, mean_q: 15.635249\n",
      "  2807/50000: episode: 150, duration: 0.040s, episode steps: 21, steps per second: 521, episode reward: 21.000, mean reward: 1.000 [1.000, 1.000], mean action: 0.476 [0.000, 1.000], mean observation: -0.109 [-0.835, 0.386], loss: 3.106384, mean_absolute_error: 8.183070, mean_q: 15.664476\n",
      "  2829/50000: episode: 151, duration: 0.041s, episode steps: 22, steps per second: 538, episode reward: 22.000, mean reward: 1.000 [1.000, 1.000], mean action: 0.500 [0.000, 1.000], mean observation: -0.085 [-0.912, 0.588], loss: 3.513957, mean_absolute_error: 8.202518, mean_q: 15.660599\n",
      "  2853/50000: episode: 152, duration: 0.044s, episode steps: 24, steps per second: 543, episode reward: 24.000, mean reward: 1.000 [1.000, 1.000], mean action: 0.500 [0.000, 1.000], mean observation: -0.096 [-0.812, 0.352], loss: 3.072688, mean_absolute_error: 8.270187, mean_q: 15.815499\n",
      "  2875/50000: episode: 153, duration: 0.042s, episode steps: 22, steps per second: 525, episode reward: 22.000, mean reward: 1.000 [1.000, 1.000], mean action: 0.500 [0.000, 1.000], mean observation: -0.080 [-0.871, 0.410], loss: 3.756588, mean_absolute_error: 8.352894, mean_q: 15.925272\n",
      "  2901/50000: episode: 154, duration: 0.053s, episode steps: 26, steps per second: 488, episode reward: 26.000, mean reward: 1.000 [1.000, 1.000], mean action: 0.462 [0.000, 1.000], mean observation: -0.095 [-0.753, 0.373], loss: 3.799914, mean_absolute_error: 8.319145, mean_q: 15.782364\n",
      "  2936/50000: episode: 155, duration: 0.064s, episode steps: 35, steps per second: 549, episode reward: 35.000, mean reward: 1.000 [1.000, 1.000], mean action: 0.457 [0.000, 1.000], mean observation: -0.089 [-0.649, 0.402], loss: 4.369401, mean_absolute_error: 8.386621, mean_q: 15.813056\n",
      "  2969/50000: episode: 156, duration: 0.063s, episode steps: 33, steps per second: 523, episode reward: 33.000, mean reward: 1.000 [1.000, 1.000], mean action: 0.485 [0.000, 1.000], mean observation: -0.118 [-0.990, 0.185], loss: 3.465174, mean_absolute_error: 8.354714, mean_q: 15.897244\n",
      "  3009/50000: episode: 157, duration: 0.070s, episode steps: 40, steps per second: 569, episode reward: 40.000, mean reward: 1.000 [1.000, 1.000], mean action: 0.475 [0.000, 1.000], mean observation: -0.056 [-0.896, 0.384], loss: 3.424598, mean_absolute_error: 8.386839, mean_q: 16.026752\n",
      "  3041/50000: episode: 158, duration: 0.067s, episode steps: 32, steps per second: 477, episode reward: 32.000, mean reward: 1.000 [1.000, 1.000], mean action: 0.469 [0.000, 1.000], mean observation: -0.096 [-0.711, 0.398], loss: 4.637644, mean_absolute_error: 8.569658, mean_q: 16.146519\n",
      "  3073/50000: episode: 159, duration: 0.071s, episode steps: 32, steps per second: 453, episode reward: 32.000, mean reward: 1.000 [1.000, 1.000], mean action: 0.500 [0.000, 1.000], mean observation: -0.053 [-0.711, 0.424], loss: 3.248660, mean_absolute_error: 8.558091, mean_q: 16.311350\n",
      "  3090/50000: episode: 160, duration: 0.033s, episode steps: 17, steps per second: 510, episode reward: 17.000, mean reward: 1.000 [1.000, 1.000], mean action: 0.529 [0.000, 1.000], mean observation: -0.087 [-1.292, 0.654], loss: 2.725638, mean_absolute_error: 8.561264, mean_q: 16.486681\n",
      "  3129/50000: episode: 161, duration: 0.071s, episode steps: 39, steps per second: 549, episode reward: 39.000, mean reward: 1.000 [1.000, 1.000], mean action: 0.487 [0.000, 1.000], mean observation: -0.059 [-0.902, 0.578], loss: 3.636707, mean_absolute_error: 8.622956, mean_q: 16.482529\n"
     ]
    },
    {
     "name": "stdout",
     "output_type": "stream",
     "text": [
      "  3177/50000: episode: 162, duration: 0.088s, episode steps: 48, steps per second: 544, episode reward: 48.000, mean reward: 1.000 [1.000, 1.000], mean action: 0.500 [0.000, 1.000], mean observation: -0.038 [-1.163, 0.410], loss: 3.407467, mean_absolute_error: 8.594710, mean_q: 16.469498\n",
      "  3228/50000: episode: 163, duration: 0.089s, episode steps: 51, steps per second: 573, episode reward: 51.000, mean reward: 1.000 [1.000, 1.000], mean action: 0.451 [0.000, 1.000], mean observation: -0.128 [-0.945, 0.329], loss: 3.244341, mean_absolute_error: 8.684105, mean_q: 16.731190\n",
      "  3287/50000: episode: 164, duration: 0.104s, episode steps: 59, steps per second: 568, episode reward: 59.000, mean reward: 1.000 [1.000, 1.000], mean action: 0.458 [0.000, 1.000], mean observation: -0.072 [-0.882, 0.412], loss: 3.819069, mean_absolute_error: 8.858717, mean_q: 16.961966\n",
      "  3335/50000: episode: 165, duration: 0.089s, episode steps: 48, steps per second: 538, episode reward: 48.000, mean reward: 1.000 [1.000, 1.000], mean action: 0.458 [0.000, 1.000], mean observation: -0.127 [-0.749, 0.176], loss: 3.658638, mean_absolute_error: 8.862920, mean_q: 16.998960\n",
      "  3415/50000: episode: 166, duration: 0.144s, episode steps: 80, steps per second: 554, episode reward: 80.000, mean reward: 1.000 [1.000, 1.000], mean action: 0.450 [0.000, 1.000], mean observation: -0.166 [-1.508, 0.338], loss: 3.034574, mean_absolute_error: 8.878791, mean_q: 17.172522\n",
      "  3485/50000: episode: 167, duration: 0.136s, episode steps: 70, steps per second: 514, episode reward: 70.000, mean reward: 1.000 [1.000, 1.000], mean action: 0.471 [0.000, 1.000], mean observation: -0.088 [-0.793, 0.542], loss: 4.259576, mean_absolute_error: 9.064614, mean_q: 17.276922\n",
      "  3540/50000: episode: 168, duration: 0.098s, episode steps: 55, steps per second: 559, episode reward: 55.000, mean reward: 1.000 [1.000, 1.000], mean action: 0.455 [0.000, 1.000], mean observation: -0.140 [-1.051, 0.247], loss: 3.971218, mean_absolute_error: 9.105738, mean_q: 17.426031\n",
      "  3592/50000: episode: 169, duration: 0.092s, episode steps: 52, steps per second: 568, episode reward: 52.000, mean reward: 1.000 [1.000, 1.000], mean action: 0.442 [0.000, 1.000], mean observation: -0.199 [-1.110, 0.385], loss: 3.324081, mean_absolute_error: 9.066908, mean_q: 17.410034\n",
      "  3660/50000: episode: 170, duration: 0.126s, episode steps: 68, steps per second: 538, episode reward: 68.000, mean reward: 1.000 [1.000, 1.000], mean action: 0.441 [0.000, 1.000], mean observation: -0.178 [-1.440, 0.260], loss: 4.153249, mean_absolute_error: 9.206261, mean_q: 17.608549\n",
      "  3719/50000: episode: 171, duration: 0.105s, episode steps: 59, steps per second: 564, episode reward: 59.000, mean reward: 1.000 [1.000, 1.000], mean action: 0.458 [0.000, 1.000], mean observation: -0.155 [-0.946, 0.451], loss: 3.996129, mean_absolute_error: 9.210463, mean_q: 17.612148\n",
      "  3785/50000: episode: 172, duration: 0.129s, episode steps: 66, steps per second: 513, episode reward: 66.000, mean reward: 1.000 [1.000, 1.000], mean action: 0.455 [0.000, 1.000], mean observation: -0.093 [-1.056, 0.432], loss: 3.698362, mean_absolute_error: 9.270143, mean_q: 17.770445\n",
      "  3895/50000: episode: 173, duration: 0.215s, episode steps: 110, steps per second: 512, episode reward: 110.000, mean reward: 1.000 [1.000, 1.000], mean action: 0.436 [0.000, 1.000], mean observation: -0.474 [-2.904, 0.832], loss: 3.482391, mean_absolute_error: 9.297410, mean_q: 17.914955\n",
      "  4040/50000: episode: 174, duration: 0.261s, episode steps: 145, steps per second: 556, episode reward: 145.000, mean reward: 1.000 [1.000, 1.000], mean action: 0.441 [0.000, 1.000], mean observation: -0.370 [-3.162, 0.435], loss: 3.546966, mean_absolute_error: 9.410404, mean_q: 18.139196\n",
      "  4146/50000: episode: 175, duration: 0.186s, episode steps: 106, steps per second: 571, episode reward: 106.000, mean reward: 1.000 [1.000, 1.000], mean action: 0.472 [0.000, 1.000], mean observation: -0.057 [-1.067, 0.700], loss: 3.643401, mean_absolute_error: 9.460035, mean_q: 18.192814\n",
      "  4203/50000: episode: 176, duration: 0.108s, episode steps: 57, steps per second: 527, episode reward: 57.000, mean reward: 1.000 [1.000, 1.000], mean action: 0.439 [0.000, 1.000], mean observation: -0.218 [-1.297, 0.178], loss: 3.073560, mean_absolute_error: 9.598196, mean_q: 18.579517\n",
      "  4270/50000: episode: 177, duration: 0.124s, episode steps: 67, steps per second: 542, episode reward: 67.000, mean reward: 1.000 [1.000, 1.000], mean action: 0.433 [0.000, 1.000], mean observation: -0.202 [-1.626, 0.239], loss: 4.223674, mean_absolute_error: 9.706863, mean_q: 18.573462\n",
      "  4462/50000: episode: 178, duration: 0.357s, episode steps: 192, steps per second: 538, episode reward: 192.000, mean reward: 1.000 [1.000, 1.000], mean action: 0.505 [0.000, 1.000], mean observation: 0.101 [-0.890, 1.038], loss: 3.488428, mean_absolute_error: 9.777457, mean_q: 18.923456\n",
      "  4633/50000: episode: 179, duration: 0.323s, episode steps: 171, steps per second: 530, episode reward: 171.000, mean reward: 1.000 [1.000, 1.000], mean action: 0.456 [0.000, 1.000], mean observation: -0.335 [-2.736, 0.475], loss: 3.653063, mean_absolute_error: 10.052737, mean_q: 19.503101\n",
      "  4738/50000: episode: 180, duration: 0.190s, episode steps: 105, steps per second: 554, episode reward: 105.000, mean reward: 1.000 [1.000, 1.000], mean action: 0.438 [0.000, 1.000], mean observation: -0.422 [-2.356, 0.260], loss: 3.335407, mean_absolute_error: 10.131786, mean_q: 19.702534\n",
      "  4860/50000: episode: 181, duration: 0.227s, episode steps: 122, steps per second: 538, episode reward: 122.000, mean reward: 1.000 [1.000, 1.000], mean action: 0.443 [0.000, 1.000], mean observation: -0.371 [-2.523, 0.257], loss: 3.213062, mean_absolute_error: 10.317599, mean_q: 20.170641\n",
      "  4970/50000: episode: 182, duration: 0.199s, episode steps: 110, steps per second: 552, episode reward: 110.000, mean reward: 1.000 [1.000, 1.000], mean action: 0.455 [0.000, 1.000], mean observation: -0.335 [-1.854, 0.453], loss: 3.363952, mean_absolute_error: 10.457698, mean_q: 20.453671\n",
      "  5063/50000: episode: 183, duration: 0.182s, episode steps: 93, steps per second: 511, episode reward: 93.000, mean reward: 1.000 [1.000, 1.000], mean action: 0.452 [0.000, 1.000], mean observation: -0.251 [-1.663, 0.495], loss: 3.341559, mean_absolute_error: 10.566092, mean_q: 20.689598\n",
      "  5174/50000: episode: 184, duration: 0.203s, episode steps: 111, steps per second: 547, episode reward: 111.000, mean reward: 1.000 [1.000, 1.000], mean action: 0.459 [0.000, 1.000], mean observation: -0.389 [-2.052, 0.448], loss: 3.697973, mean_absolute_error: 10.780997, mean_q: 21.149620\n",
      "  5327/50000: episode: 185, duration: 0.278s, episode steps: 153, steps per second: 550, episode reward: 153.000, mean reward: 1.000 [1.000, 1.000], mean action: 0.464 [0.000, 1.000], mean observation: -0.284 [-1.979, 0.534], loss: 3.729264, mean_absolute_error: 10.956310, mean_q: 21.531330\n",
      "  5459/50000: episode: 186, duration: 0.269s, episode steps: 132, steps per second: 491, episode reward: 132.000, mean reward: 1.000 [1.000, 1.000], mean action: 0.455 [0.000, 1.000], mean observation: -0.290 [-2.186, 0.390], loss: 3.003124, mean_absolute_error: 11.277347, mean_q: 22.266087\n",
      "  5565/50000: episode: 187, duration: 0.190s, episode steps: 106, steps per second: 558, episode reward: 106.000, mean reward: 1.000 [1.000, 1.000], mean action: 0.443 [0.000, 1.000], mean observation: -0.389 [-2.179, 0.286], loss: 4.122431, mean_absolute_error: 11.401153, mean_q: 22.310423\n",
      "  5696/50000: episode: 188, duration: 0.254s, episode steps: 131, steps per second: 516, episode reward: 131.000, mean reward: 1.000 [1.000, 1.000], mean action: 0.458 [0.000, 1.000], mean observation: -0.324 [-2.045, 0.438], loss: 3.587981, mean_absolute_error: 11.584866, mean_q: 22.751598\n",
      "  5792/50000: episode: 189, duration: 0.187s, episode steps: 96, steps per second: 512, episode reward: 96.000, mean reward: 1.000 [1.000, 1.000], mean action: 0.531 [0.000, 1.000], mean observation: 0.192 [-0.619, 1.070], loss: 3.699159, mean_absolute_error: 11.805156, mean_q: 23.273352\n",
      "  5917/50000: episode: 190, duration: 0.246s, episode steps: 125, steps per second: 509, episode reward: 125.000, mean reward: 1.000 [1.000, 1.000], mean action: 0.456 [0.000, 1.000], mean observation: -0.314 [-1.982, 0.369], loss: 3.365716, mean_absolute_error: 12.036385, mean_q: 23.787624\n"
     ]
    },
    {
     "name": "stdout",
     "output_type": "stream",
     "text": [
      "  6073/50000: episode: 191, duration: 0.293s, episode steps: 156, steps per second: 532, episode reward: 156.000, mean reward: 1.000 [1.000, 1.000], mean action: 0.468 [0.000, 1.000], mean observation: -0.247 [-2.002, 0.397], loss: 4.138729, mean_absolute_error: 12.221498, mean_q: 24.064806\n",
      "  6198/50000: episode: 192, duration: 0.236s, episode steps: 125, steps per second: 530, episode reward: 125.000, mean reward: 1.000 [1.000, 1.000], mean action: 0.456 [0.000, 1.000], mean observation: -0.336 [-1.994, 0.430], loss: 3.642039, mean_absolute_error: 12.470331, mean_q: 24.628428\n",
      "  6326/50000: episode: 193, duration: 0.250s, episode steps: 128, steps per second: 511, episode reward: 128.000, mean reward: 1.000 [1.000, 1.000], mean action: 0.453 [0.000, 1.000], mean observation: -0.351 [-2.204, 0.532], loss: 4.107232, mean_absolute_error: 12.749136, mean_q: 25.177803\n",
      "  6471/50000: episode: 194, duration: 0.321s, episode steps: 145, steps per second: 452, episode reward: 145.000, mean reward: 1.000 [1.000, 1.000], mean action: 0.462 [0.000, 1.000], mean observation: -0.265 [-2.029, 0.259], loss: 3.710839, mean_absolute_error: 12.950034, mean_q: 25.629831\n",
      "  6595/50000: episode: 195, duration: 0.256s, episode steps: 124, steps per second: 484, episode reward: 124.000, mean reward: 1.000 [1.000, 1.000], mean action: 0.460 [0.000, 1.000], mean observation: -0.318 [-1.956, 0.461], loss: 4.135422, mean_absolute_error: 13.151379, mean_q: 25.977942\n",
      "  6795/50000: episode: 196, duration: 0.374s, episode steps: 200, steps per second: 535, episode reward: 200.000, mean reward: 1.000 [1.000, 1.000], mean action: 0.475 [0.000, 1.000], mean observation: -0.170 [-1.775, 0.501], loss: 4.111024, mean_absolute_error: 13.484561, mean_q: 26.744469\n",
      "  6955/50000: episode: 197, duration: 0.315s, episode steps: 160, steps per second: 508, episode reward: 160.000, mean reward: 1.000 [1.000, 1.000], mean action: 0.469 [0.000, 1.000], mean observation: -0.219 [-1.844, 0.653], loss: 4.176325, mean_absolute_error: 13.778796, mean_q: 27.322094\n",
      "  7098/50000: episode: 198, duration: 0.267s, episode steps: 143, steps per second: 535, episode reward: 143.000, mean reward: 1.000 [1.000, 1.000], mean action: 0.462 [0.000, 1.000], mean observation: -0.293 [-2.034, 0.609], loss: 4.892720, mean_absolute_error: 13.972457, mean_q: 27.621260\n",
      "  7296/50000: episode: 199, duration: 0.365s, episode steps: 198, steps per second: 543, episode reward: 198.000, mean reward: 1.000 [1.000, 1.000], mean action: 0.475 [0.000, 1.000], mean observation: -0.159 [-1.796, 0.626], loss: 4.484693, mean_absolute_error: 14.297986, mean_q: 28.323679\n",
      "  7426/50000: episode: 200, duration: 0.236s, episode steps: 130, steps per second: 550, episode reward: 130.000, mean reward: 1.000 [1.000, 1.000], mean action: 0.462 [0.000, 1.000], mean observation: -0.287 [-1.844, 0.525], loss: 4.643512, mean_absolute_error: 14.558977, mean_q: 28.962345\n",
      "  7626/50000: episode: 201, duration: 0.361s, episode steps: 200, steps per second: 554, episode reward: 200.000, mean reward: 1.000 [1.000, 1.000], mean action: 0.490 [0.000, 1.000], mean observation: -0.011 [-0.714, 0.461], loss: 4.771262, mean_absolute_error: 14.808727, mean_q: 29.419174\n",
      "  7770/50000: episode: 202, duration: 0.267s, episode steps: 144, steps per second: 539, episode reward: 144.000, mean reward: 1.000 [1.000, 1.000], mean action: 0.458 [0.000, 1.000], mean observation: -0.338 [-2.242, 0.435], loss: 4.299527, mean_absolute_error: 15.126613, mean_q: 30.192671\n",
      "  7958/50000: episode: 203, duration: 0.342s, episode steps: 188, steps per second: 550, episode reward: 188.000, mean reward: 1.000 [1.000, 1.000], mean action: 0.468 [0.000, 1.000], mean observation: -0.268 [-2.191, 0.563], loss: 5.930733, mean_absolute_error: 15.390877, mean_q: 30.576862\n",
      "  8126/50000: episode: 204, duration: 0.329s, episode steps: 168, steps per second: 511, episode reward: 168.000, mean reward: 1.000 [1.000, 1.000], mean action: 0.518 [0.000, 1.000], mean observation: 0.164 [-0.598, 1.135], loss: 5.265459, mean_absolute_error: 15.664009, mean_q: 31.193638\n",
      "  8326/50000: episode: 205, duration: 0.359s, episode steps: 200, steps per second: 557, episode reward: 200.000, mean reward: 1.000 [1.000, 1.000], mean action: 0.500 [0.000, 1.000], mean observation: 0.029 [-0.682, 0.711], loss: 4.519750, mean_absolute_error: 15.920546, mean_q: 31.853745\n",
      "  8491/50000: episode: 206, duration: 0.306s, episode steps: 165, steps per second: 539, episode reward: 165.000, mean reward: 1.000 [1.000, 1.000], mean action: 0.467 [0.000, 1.000], mean observation: -0.259 [-1.959, 0.436], loss: 5.299304, mean_absolute_error: 16.264029, mean_q: 32.530254\n",
      "  8644/50000: episode: 207, duration: 0.317s, episode steps: 153, steps per second: 483, episode reward: 153.000, mean reward: 1.000 [1.000, 1.000], mean action: 0.471 [0.000, 1.000], mean observation: -0.313 [-2.024, 0.546], loss: 5.820704, mean_absolute_error: 16.575592, mean_q: 33.108685\n",
      "  8766/50000: episode: 208, duration: 0.239s, episode steps: 122, steps per second: 510, episode reward: 122.000, mean reward: 1.000 [1.000, 1.000], mean action: 0.451 [0.000, 1.000], mean observation: -0.386 [-2.195, 0.388], loss: 4.842435, mean_absolute_error: 16.724506, mean_q: 33.469666\n",
      "  8909/50000: episode: 209, duration: 0.256s, episode steps: 143, steps per second: 559, episode reward: 143.000, mean reward: 1.000 [1.000, 1.000], mean action: 0.462 [0.000, 1.000], mean observation: -0.340 [-2.143, 0.348], loss: 5.895709, mean_absolute_error: 16.960978, mean_q: 33.980721\n",
      "  9109/50000: episode: 210, duration: 0.370s, episode steps: 200, steps per second: 540, episode reward: 200.000, mean reward: 1.000 [1.000, 1.000], mean action: 0.475 [0.000, 1.000], mean observation: -0.177 [-1.870, 0.411], loss: 4.571543, mean_absolute_error: 17.254358, mean_q: 34.635929\n",
      "  9253/50000: episode: 211, duration: 0.288s, episode steps: 144, steps per second: 500, episode reward: 144.000, mean reward: 1.000 [1.000, 1.000], mean action: 0.458 [0.000, 1.000], mean observation: -0.309 [-2.223, 0.572], loss: 5.321021, mean_absolute_error: 17.570122, mean_q: 35.205246\n",
      "  9390/50000: episode: 212, duration: 0.269s, episode steps: 137, steps per second: 510, episode reward: 137.000, mean reward: 1.000 [1.000, 1.000], mean action: 0.453 [0.000, 1.000], mean observation: -0.365 [-2.406, 0.417], loss: 5.414536, mean_absolute_error: 17.713633, mean_q: 35.533382\n",
      "  9526/50000: episode: 213, duration: 0.240s, episode steps: 136, steps per second: 566, episode reward: 136.000, mean reward: 1.000 [1.000, 1.000], mean action: 0.449 [0.000, 1.000], mean observation: -0.386 [-2.516, 0.423], loss: 5.358424, mean_absolute_error: 17.877756, mean_q: 35.910046\n",
      "  9683/50000: episode: 214, duration: 0.296s, episode steps: 157, steps per second: 531, episode reward: 157.000, mean reward: 1.000 [1.000, 1.000], mean action: 0.459 [0.000, 1.000], mean observation: -0.321 [-2.354, 0.410], loss: 5.197640, mean_absolute_error: 18.121553, mean_q: 36.430962\n",
      "  9801/50000: episode: 215, duration: 0.211s, episode steps: 118, steps per second: 559, episode reward: 118.000, mean reward: 1.000 [1.000, 1.000], mean action: 0.466 [0.000, 1.000], mean observation: -0.272 [-1.620, 0.422], loss: 5.117756, mean_absolute_error: 18.399187, mean_q: 36.997013\n",
      "  9998/50000: episode: 216, duration: 0.553s, episode steps: 197, steps per second: 356, episode reward: 197.000, mean reward: 1.000 [1.000, 1.000], mean action: 0.467 [0.000, 1.000], mean observation: -0.299 [-2.555, 0.572], loss: 5.988124, mean_absolute_error: 18.579185, mean_q: 37.371181\n",
      " 10138/50000: episode: 217, duration: 0.385s, episode steps: 140, steps per second: 364, episode reward: 140.000, mean reward: 1.000 [1.000, 1.000], mean action: 0.457 [0.000, 1.000], mean observation: -0.393 [-2.389, 0.561], loss: 5.200697, mean_absolute_error: 18.802958, mean_q: 37.880451\n",
      " 10269/50000: episode: 218, duration: 0.254s, episode steps: 131, steps per second: 516, episode reward: 131.000, mean reward: 1.000 [1.000, 1.000], mean action: 0.458 [0.000, 1.000], mean observation: -0.376 [-2.053, 0.754], loss: 5.740699, mean_absolute_error: 19.051336, mean_q: 38.277462\n",
      " 10398/50000: episode: 219, duration: 0.283s, episode steps: 129, steps per second: 456, episode reward: 129.000, mean reward: 1.000 [1.000, 1.000], mean action: 0.457 [0.000, 1.000], mean observation: -0.411 [-2.353, 0.283], loss: 5.726222, mean_absolute_error: 19.159468, mean_q: 38.529320\n"
     ]
    },
    {
     "name": "stdout",
     "output_type": "stream",
     "text": [
      " 10545/50000: episode: 220, duration: 0.343s, episode steps: 147, steps per second: 428, episode reward: 147.000, mean reward: 1.000 [1.000, 1.000], mean action: 0.456 [0.000, 1.000], mean observation: -0.386 [-2.362, 0.483], loss: 5.830125, mean_absolute_error: 19.289249, mean_q: 38.791122\n",
      " 10715/50000: episode: 221, duration: 0.318s, episode steps: 170, steps per second: 535, episode reward: 170.000, mean reward: 1.000 [1.000, 1.000], mean action: 0.465 [0.000, 1.000], mean observation: -0.333 [-2.219, 0.479], loss: 5.675663, mean_absolute_error: 19.544792, mean_q: 39.370735\n",
      " 10858/50000: episode: 222, duration: 0.291s, episode steps: 143, steps per second: 491, episode reward: 143.000, mean reward: 1.000 [1.000, 1.000], mean action: 0.455 [0.000, 1.000], mean observation: -0.385 [-2.381, 0.380], loss: 6.045901, mean_absolute_error: 19.681993, mean_q: 39.713520\n",
      " 11007/50000: episode: 223, duration: 0.305s, episode steps: 149, steps per second: 488, episode reward: 149.000, mean reward: 1.000 [1.000, 1.000], mean action: 0.456 [0.000, 1.000], mean observation: -0.351 [-2.325, 0.454], loss: 6.765255, mean_absolute_error: 19.797316, mean_q: 39.903931\n",
      " 11152/50000: episode: 224, duration: 0.333s, episode steps: 145, steps per second: 436, episode reward: 145.000, mean reward: 1.000 [1.000, 1.000], mean action: 0.455 [0.000, 1.000], mean observation: -0.406 [-2.579, 0.533], loss: 6.128420, mean_absolute_error: 20.083532, mean_q: 40.470543\n",
      " 11271/50000: episode: 225, duration: 0.251s, episode steps: 119, steps per second: 474, episode reward: 119.000, mean reward: 1.000 [1.000, 1.000], mean action: 0.445 [0.000, 1.000], mean observation: -0.438 [-2.335, 0.533], loss: 5.094326, mean_absolute_error: 20.297207, mean_q: 41.011131\n",
      " 11463/50000: episode: 226, duration: 0.370s, episode steps: 192, steps per second: 519, episode reward: 192.000, mean reward: 1.000 [1.000, 1.000], mean action: 0.469 [0.000, 1.000], mean observation: -0.302 [-2.376, 0.685], loss: 6.381638, mean_absolute_error: 20.435320, mean_q: 41.232601\n",
      " 11600/50000: episode: 227, duration: 0.247s, episode steps: 137, steps per second: 556, episode reward: 137.000, mean reward: 1.000 [1.000, 1.000], mean action: 0.453 [0.000, 1.000], mean observation: -0.409 [-2.338, 0.611], loss: 5.957469, mean_absolute_error: 20.644554, mean_q: 41.742416\n",
      " 11741/50000: episode: 228, duration: 0.255s, episode steps: 141, steps per second: 553, episode reward: 141.000, mean reward: 1.000 [1.000, 1.000], mean action: 0.461 [0.000, 1.000], mean observation: -0.416 [-2.386, 0.436], loss: 5.520393, mean_absolute_error: 20.940462, mean_q: 42.397251\n",
      " 11876/50000: episode: 229, duration: 0.294s, episode steps: 135, steps per second: 460, episode reward: 135.000, mean reward: 1.000 [1.000, 1.000], mean action: 0.452 [0.000, 1.000], mean observation: -0.420 [-2.348, 0.563], loss: 5.777494, mean_absolute_error: 20.968903, mean_q: 42.419613\n",
      " 11997/50000: episode: 230, duration: 0.270s, episode steps: 121, steps per second: 449, episode reward: 121.000, mean reward: 1.000 [1.000, 1.000], mean action: 0.446 [0.000, 1.000], mean observation: -0.468 [-2.404, 0.697], loss: 5.260088, mean_absolute_error: 21.085241, mean_q: 42.775318\n",
      " 12121/50000: episode: 231, duration: 0.286s, episode steps: 124, steps per second: 433, episode reward: 124.000, mean reward: 1.000 [1.000, 1.000], mean action: 0.452 [0.000, 1.000], mean observation: -0.420 [-2.238, 0.449], loss: 6.168736, mean_absolute_error: 21.346226, mean_q: 43.289356\n",
      " 12285/50000: episode: 232, duration: 0.297s, episode steps: 164, steps per second: 553, episode reward: 164.000, mean reward: 1.000 [1.000, 1.000], mean action: 0.457 [0.000, 1.000], mean observation: -0.370 [-2.515, 0.419], loss: 5.687551, mean_absolute_error: 21.567257, mean_q: 43.705711\n",
      " 12411/50000: episode: 233, duration: 0.229s, episode steps: 126, steps per second: 551, episode reward: 126.000, mean reward: 1.000 [1.000, 1.000], mean action: 0.452 [0.000, 1.000], mean observation: -0.479 [-2.431, 0.466], loss: 7.299837, mean_absolute_error: 21.698713, mean_q: 43.865929\n",
      " 12563/50000: episode: 234, duration: 0.267s, episode steps: 152, steps per second: 570, episode reward: 152.000, mean reward: 1.000 [1.000, 1.000], mean action: 0.461 [0.000, 1.000], mean observation: -0.388 [-2.374, 0.762], loss: 5.153402, mean_absolute_error: 21.894892, mean_q: 44.451180\n",
      " 12699/50000: episode: 235, duration: 0.241s, episode steps: 136, steps per second: 564, episode reward: 136.000, mean reward: 1.000 [1.000, 1.000], mean action: 0.449 [0.000, 1.000], mean observation: -0.440 [-2.540, 0.349], loss: 5.124356, mean_absolute_error: 22.126541, mean_q: 44.906429\n",
      " 12852/50000: episode: 236, duration: 0.377s, episode steps: 153, steps per second: 405, episode reward: 153.000, mean reward: 1.000 [1.000, 1.000], mean action: 0.458 [0.000, 1.000], mean observation: -0.393 [-2.415, 0.373], loss: 7.471720, mean_absolute_error: 22.230497, mean_q: 45.046875\n",
      " 13013/50000: episode: 237, duration: 0.374s, episode steps: 161, steps per second: 430, episode reward: 161.000, mean reward: 1.000 [1.000, 1.000], mean action: 0.460 [0.000, 1.000], mean observation: -0.377 [-2.530, 0.612], loss: 7.130941, mean_absolute_error: 22.376003, mean_q: 45.344986\n",
      " 13171/50000: episode: 238, duration: 0.287s, episode steps: 158, steps per second: 550, episode reward: 158.000, mean reward: 1.000 [1.000, 1.000], mean action: 0.462 [0.000, 1.000], mean observation: -0.383 [-2.406, 0.526], loss: 7.712841, mean_absolute_error: 22.319790, mean_q: 45.244736\n",
      " 13343/50000: episode: 239, duration: 0.318s, episode steps: 172, steps per second: 541, episode reward: 172.000, mean reward: 1.000 [1.000, 1.000], mean action: 0.465 [0.000, 1.000], mean observation: -0.361 [-2.420, 0.471], loss: 5.993743, mean_absolute_error: 22.610954, mean_q: 46.055500\n",
      " 13485/50000: episode: 240, duration: 0.266s, episode steps: 142, steps per second: 534, episode reward: 142.000, mean reward: 1.000 [1.000, 1.000], mean action: 0.458 [0.000, 1.000], mean observation: -0.429 [-2.416, 0.436], loss: 6.486418, mean_absolute_error: 22.861195, mean_q: 46.461548\n",
      " 13632/50000: episode: 241, duration: 0.329s, episode steps: 147, steps per second: 447, episode reward: 147.000, mean reward: 1.000 [1.000, 1.000], mean action: 0.456 [0.000, 1.000], mean observation: -0.418 [-2.558, 0.316], loss: 6.360860, mean_absolute_error: 23.093037, mean_q: 47.021381\n",
      " 13772/50000: episode: 242, duration: 0.294s, episode steps: 140, steps per second: 477, episode reward: 140.000, mean reward: 1.000 [1.000, 1.000], mean action: 0.457 [0.000, 1.000], mean observation: -0.445 [-2.434, 0.437], loss: 6.371222, mean_absolute_error: 23.134102, mean_q: 47.225349\n",
      " 13933/50000: episode: 243, duration: 0.371s, episode steps: 161, steps per second: 434, episode reward: 161.000, mean reward: 1.000 [1.000, 1.000], mean action: 0.460 [0.000, 1.000], mean observation: -0.381 [-2.511, 0.448], loss: 5.988542, mean_absolute_error: 23.364195, mean_q: 47.683586\n",
      " 14081/50000: episode: 244, duration: 0.359s, episode steps: 148, steps per second: 412, episode reward: 148.000, mean reward: 1.000 [1.000, 1.000], mean action: 0.459 [0.000, 1.000], mean observation: -0.413 [-2.410, 0.312], loss: 5.776933, mean_absolute_error: 23.468622, mean_q: 47.954563\n",
      " 14256/50000: episode: 245, duration: 0.385s, episode steps: 175, steps per second: 454, episode reward: 175.000, mean reward: 1.000 [1.000, 1.000], mean action: 0.463 [0.000, 1.000], mean observation: -0.358 [-2.424, 0.619], loss: 6.124750, mean_absolute_error: 23.769079, mean_q: 48.453484\n",
      " 14432/50000: episode: 246, duration: 0.378s, episode steps: 176, steps per second: 466, episode reward: 176.000, mean reward: 1.000 [1.000, 1.000], mean action: 0.466 [0.000, 1.000], mean observation: -0.347 [-2.419, 0.348], loss: 7.543866, mean_absolute_error: 24.126837, mean_q: 49.123634\n",
      " 14572/50000: episode: 247, duration: 0.368s, episode steps: 140, steps per second: 380, episode reward: 140.000, mean reward: 1.000 [1.000, 1.000], mean action: 0.450 [0.000, 1.000], mean observation: -0.437 [-2.722, 0.368], loss: 6.289092, mean_absolute_error: 24.187302, mean_q: 49.313175\n",
      " 14741/50000: episode: 248, duration: 0.363s, episode steps: 169, steps per second: 466, episode reward: 169.000, mean reward: 1.000 [1.000, 1.000], mean action: 0.462 [0.000, 1.000], mean observation: -0.364 [-2.403, 0.359], loss: 6.033760, mean_absolute_error: 24.460102, mean_q: 49.876339\n"
     ]
    },
    {
     "name": "stdout",
     "output_type": "stream",
     "text": [
      " 14865/50000: episode: 249, duration: 0.245s, episode steps: 124, steps per second: 506, episode reward: 124.000, mean reward: 1.000 [1.000, 1.000], mean action: 0.452 [0.000, 1.000], mean observation: -0.476 [-2.418, 0.474], loss: 6.082700, mean_absolute_error: 24.642704, mean_q: 50.220360\n",
      " 15004/50000: episode: 250, duration: 0.302s, episode steps: 139, steps per second: 461, episode reward: 139.000, mean reward: 1.000 [1.000, 1.000], mean action: 0.453 [0.000, 1.000], mean observation: -0.439 [-2.415, 0.415], loss: 6.434256, mean_absolute_error: 24.741554, mean_q: 50.462799\n",
      " 15173/50000: episode: 251, duration: 0.406s, episode steps: 169, steps per second: 416, episode reward: 169.000, mean reward: 1.000 [1.000, 1.000], mean action: 0.462 [0.000, 1.000], mean observation: -0.365 [-2.538, 0.402], loss: 6.950211, mean_absolute_error: 24.767298, mean_q: 50.530823\n",
      " 15305/50000: episode: 252, duration: 0.282s, episode steps: 132, steps per second: 468, episode reward: 132.000, mean reward: 1.000 [1.000, 1.000], mean action: 0.447 [0.000, 1.000], mean observation: -0.461 [-2.555, 0.300], loss: 7.224013, mean_absolute_error: 25.011612, mean_q: 51.049294\n",
      " 15467/50000: episode: 253, duration: 0.319s, episode steps: 162, steps per second: 508, episode reward: 162.000, mean reward: 1.000 [1.000, 1.000], mean action: 0.457 [0.000, 1.000], mean observation: -0.386 [-2.503, 0.631], loss: 7.228110, mean_absolute_error: 25.049112, mean_q: 51.121456\n",
      " 15638/50000: episode: 254, duration: 0.318s, episode steps: 171, steps per second: 537, episode reward: 171.000, mean reward: 1.000 [1.000, 1.000], mean action: 0.462 [0.000, 1.000], mean observation: -0.362 [-2.426, 0.552], loss: 6.065852, mean_absolute_error: 25.402710, mean_q: 51.934223\n",
      " 15780/50000: episode: 255, duration: 0.270s, episode steps: 142, steps per second: 525, episode reward: 142.000, mean reward: 1.000 [1.000, 1.000], mean action: 0.451 [0.000, 1.000], mean observation: -0.425 [-2.517, 0.486], loss: 5.778458, mean_absolute_error: 25.437160, mean_q: 51.941319\n",
      " 15912/50000: episode: 256, duration: 0.240s, episode steps: 132, steps per second: 550, episode reward: 132.000, mean reward: 1.000 [1.000, 1.000], mean action: 0.447 [0.000, 1.000], mean observation: -0.456 [-2.519, 0.580], loss: 5.134088, mean_absolute_error: 25.551588, mean_q: 52.293972\n",
      " 16072/50000: episode: 257, duration: 0.297s, episode steps: 160, steps per second: 539, episode reward: 160.000, mean reward: 1.000 [1.000, 1.000], mean action: 0.456 [0.000, 1.000], mean observation: -0.383 [-2.511, 0.463], loss: 6.323853, mean_absolute_error: 25.715170, mean_q: 52.612354\n",
      " 16219/50000: episode: 258, duration: 0.257s, episode steps: 147, steps per second: 573, episode reward: 147.000, mean reward: 1.000 [1.000, 1.000], mean action: 0.456 [0.000, 1.000], mean observation: -0.417 [-2.429, 0.410], loss: 5.746941, mean_absolute_error: 25.980555, mean_q: 53.159683\n",
      " 16367/50000: episode: 259, duration: 0.259s, episode steps: 148, steps per second: 572, episode reward: 148.000, mean reward: 1.000 [1.000, 1.000], mean action: 0.459 [0.000, 1.000], mean observation: -0.413 [-2.566, 0.506], loss: 6.430221, mean_absolute_error: 26.410364, mean_q: 53.893959\n",
      " 16503/50000: episode: 260, duration: 0.244s, episode steps: 136, steps per second: 558, episode reward: 136.000, mean reward: 1.000 [1.000, 1.000], mean action: 0.456 [0.000, 1.000], mean observation: -0.441 [-2.410, 0.471], loss: 6.639953, mean_absolute_error: 26.284470, mean_q: 53.589218\n",
      " 16656/50000: episode: 261, duration: 0.286s, episode steps: 153, steps per second: 536, episode reward: 153.000, mean reward: 1.000 [1.000, 1.000], mean action: 0.458 [0.000, 1.000], mean observation: -0.392 [-2.404, 0.490], loss: 7.530567, mean_absolute_error: 26.469429, mean_q: 53.987999\n",
      " 16803/50000: episode: 262, duration: 0.268s, episode steps: 147, steps per second: 549, episode reward: 147.000, mean reward: 1.000 [1.000, 1.000], mean action: 0.456 [0.000, 1.000], mean observation: -0.414 [-2.413, 0.583], loss: 8.244022, mean_absolute_error: 26.715342, mean_q: 54.470154\n",
      " 16948/50000: episode: 263, duration: 0.267s, episode steps: 145, steps per second: 543, episode reward: 145.000, mean reward: 1.000 [1.000, 1.000], mean action: 0.455 [0.000, 1.000], mean observation: -0.424 [-2.438, 0.578], loss: 7.472665, mean_absolute_error: 26.526201, mean_q: 54.096302\n",
      " 17086/50000: episode: 264, duration: 0.257s, episode steps: 138, steps per second: 537, episode reward: 138.000, mean reward: 1.000 [1.000, 1.000], mean action: 0.457 [0.000, 1.000], mean observation: -0.439 [-2.401, 0.462], loss: 7.296477, mean_absolute_error: 26.694191, mean_q: 54.468834\n",
      " 17253/50000: episode: 265, duration: 0.327s, episode steps: 167, steps per second: 511, episode reward: 167.000, mean reward: 1.000 [1.000, 1.000], mean action: 0.461 [0.000, 1.000], mean observation: -0.364 [-2.427, 0.654], loss: 8.214777, mean_absolute_error: 26.995380, mean_q: 55.023228\n",
      " 17395/50000: episode: 266, duration: 0.284s, episode steps: 142, steps per second: 500, episode reward: 142.000, mean reward: 1.000 [1.000, 1.000], mean action: 0.458 [0.000, 1.000], mean observation: -0.429 [-2.432, 0.435], loss: 5.037165, mean_absolute_error: 26.991264, mean_q: 55.204460\n",
      " 17521/50000: episode: 267, duration: 0.242s, episode steps: 126, steps per second: 520, episode reward: 126.000, mean reward: 1.000 [1.000, 1.000], mean action: 0.452 [0.000, 1.000], mean observation: -0.476 [-2.411, 0.481], loss: 7.198987, mean_absolute_error: 26.924891, mean_q: 54.977406\n",
      " 17676/50000: episode: 268, duration: 0.275s, episode steps: 155, steps per second: 563, episode reward: 155.000, mean reward: 1.000 [1.000, 1.000], mean action: 0.458 [0.000, 1.000], mean observation: -0.401 [-2.433, 0.384], loss: 6.500492, mean_absolute_error: 26.899220, mean_q: 55.049477\n",
      " 17813/50000: episode: 269, duration: 0.239s, episode steps: 137, steps per second: 574, episode reward: 137.000, mean reward: 1.000 [1.000, 1.000], mean action: 0.453 [0.000, 1.000], mean observation: -0.450 [-2.578, 0.416], loss: 4.977282, mean_absolute_error: 27.157814, mean_q: 55.661339\n",
      " 17969/50000: episode: 270, duration: 0.272s, episode steps: 156, steps per second: 574, episode reward: 156.000, mean reward: 1.000 [1.000, 1.000], mean action: 0.455 [0.000, 1.000], mean observation: -0.381 [-2.555, 0.452], loss: 7.617345, mean_absolute_error: 27.376078, mean_q: 55.877941\n",
      " 18106/50000: episode: 271, duration: 0.240s, episode steps: 137, steps per second: 572, episode reward: 137.000, mean reward: 1.000 [1.000, 1.000], mean action: 0.453 [0.000, 1.000], mean observation: -0.437 [-2.404, 0.374], loss: 5.859746, mean_absolute_error: 27.467150, mean_q: 56.158966\n",
      " 18258/50000: episode: 272, duration: 0.263s, episode steps: 152, steps per second: 577, episode reward: 152.000, mean reward: 1.000 [1.000, 1.000], mean action: 0.454 [0.000, 1.000], mean observation: -0.403 [-2.530, 0.460], loss: 6.200373, mean_absolute_error: 27.500797, mean_q: 56.155262\n",
      " 18412/50000: episode: 273, duration: 0.270s, episode steps: 154, steps per second: 569, episode reward: 154.000, mean reward: 1.000 [1.000, 1.000], mean action: 0.455 [0.000, 1.000], mean observation: -0.398 [-2.591, 0.698], loss: 8.190324, mean_absolute_error: 27.630644, mean_q: 56.424854\n",
      " 18553/50000: episode: 274, duration: 0.247s, episode steps: 141, steps per second: 571, episode reward: 141.000, mean reward: 1.000 [1.000, 1.000], mean action: 0.454 [0.000, 1.000], mean observation: -0.435 [-2.424, 0.499], loss: 6.378458, mean_absolute_error: 27.732185, mean_q: 56.641464\n",
      " 18736/50000: episode: 275, duration: 0.323s, episode steps: 183, steps per second: 567, episode reward: 183.000, mean reward: 1.000 [1.000, 1.000], mean action: 0.464 [0.000, 1.000], mean observation: -0.337 [-2.528, 0.610], loss: 6.654407, mean_absolute_error: 27.799816, mean_q: 56.816170\n",
      " 18895/50000: episode: 276, duration: 0.289s, episode steps: 159, steps per second: 551, episode reward: 159.000, mean reward: 1.000 [1.000, 1.000], mean action: 0.459 [0.000, 1.000], mean observation: -0.389 [-2.408, 0.471], loss: 7.494704, mean_absolute_error: 28.091963, mean_q: 57.363846\n",
      " 19073/50000: episode: 277, duration: 0.311s, episode steps: 178, steps per second: 572, episode reward: 178.000, mean reward: 1.000 [1.000, 1.000], mean action: 0.466 [0.000, 1.000], mean observation: -0.349 [-2.439, 0.425], loss: 6.243364, mean_absolute_error: 28.067272, mean_q: 57.364243\n"
     ]
    },
    {
     "name": "stdout",
     "output_type": "stream",
     "text": [
      " 19244/50000: episode: 278, duration: 0.308s, episode steps: 171, steps per second: 555, episode reward: 171.000, mean reward: 1.000 [1.000, 1.000], mean action: 0.462 [0.000, 1.000], mean observation: -0.359 [-2.418, 0.433], loss: 6.987628, mean_absolute_error: 27.997816, mean_q: 57.145035\n",
      " 19427/50000: episode: 279, duration: 0.319s, episode steps: 183, steps per second: 574, episode reward: 183.000, mean reward: 1.000 [1.000, 1.000], mean action: 0.470 [0.000, 1.000], mean observation: -0.297 [-2.127, 0.569], loss: 5.891976, mean_absolute_error: 28.357197, mean_q: 57.964230\n",
      " 19593/50000: episode: 280, duration: 0.290s, episode steps: 166, steps per second: 572, episode reward: 166.000, mean reward: 1.000 [1.000, 1.000], mean action: 0.464 [0.000, 1.000], mean observation: -0.369 [-2.409, 0.649], loss: 6.690246, mean_absolute_error: 28.659645, mean_q: 58.518566\n",
      " 19729/50000: episode: 281, duration: 0.251s, episode steps: 136, steps per second: 543, episode reward: 136.000, mean reward: 1.000 [1.000, 1.000], mean action: 0.449 [0.000, 1.000], mean observation: -0.451 [-2.504, 0.521], loss: 7.186635, mean_absolute_error: 28.466558, mean_q: 57.999462\n",
      " 19880/50000: episode: 282, duration: 0.262s, episode steps: 151, steps per second: 575, episode reward: 151.000, mean reward: 1.000 [1.000, 1.000], mean action: 0.464 [0.000, 1.000], mean observation: -0.368 [-2.146, 0.538], loss: 6.207765, mean_absolute_error: 28.594402, mean_q: 58.435871\n",
      " 20040/50000: episode: 283, duration: 0.279s, episode steps: 160, steps per second: 574, episode reward: 160.000, mean reward: 1.000 [1.000, 1.000], mean action: 0.469 [0.000, 1.000], mean observation: -0.389 [-2.426, 0.343], loss: 5.379370, mean_absolute_error: 28.554749, mean_q: 58.374371\n",
      " 20185/50000: episode: 284, duration: 0.266s, episode steps: 145, steps per second: 544, episode reward: 145.000, mean reward: 1.000 [1.000, 1.000], mean action: 0.455 [0.000, 1.000], mean observation: -0.424 [-2.415, 0.378], loss: 8.487450, mean_absolute_error: 28.763840, mean_q: 58.669571\n",
      " 20333/50000: episode: 285, duration: 0.265s, episode steps: 148, steps per second: 559, episode reward: 148.000, mean reward: 1.000 [1.000, 1.000], mean action: 0.453 [0.000, 1.000], mean observation: -0.418 [-2.540, 0.372], loss: 5.802409, mean_absolute_error: 28.824888, mean_q: 58.873573\n",
      " 20503/50000: episode: 286, duration: 0.307s, episode steps: 170, steps per second: 555, episode reward: 170.000, mean reward: 1.000 [1.000, 1.000], mean action: 0.465 [0.000, 1.000], mean observation: -0.364 [-2.419, 0.544], loss: 8.502661, mean_absolute_error: 28.843985, mean_q: 58.758087\n",
      " 20650/50000: episode: 287, duration: 0.281s, episode steps: 147, steps per second: 523, episode reward: 147.000, mean reward: 1.000 [1.000, 1.000], mean action: 0.456 [0.000, 1.000], mean observation: -0.418 [-2.437, 0.546], loss: 6.991040, mean_absolute_error: 28.887014, mean_q: 58.898708\n",
      " 20800/50000: episode: 288, duration: 0.272s, episode steps: 150, steps per second: 552, episode reward: 150.000, mean reward: 1.000 [1.000, 1.000], mean action: 0.460 [0.000, 1.000], mean observation: -0.413 [-2.439, 0.453], loss: 7.172181, mean_absolute_error: 29.516237, mean_q: 60.206505\n",
      " 20978/50000: episode: 289, duration: 0.313s, episode steps: 178, steps per second: 569, episode reward: 178.000, mean reward: 1.000 [1.000, 1.000], mean action: 0.461 [0.000, 1.000], mean observation: -0.349 [-2.522, 0.542], loss: 6.161798, mean_absolute_error: 29.179338, mean_q: 59.628532\n",
      " 21145/50000: episode: 290, duration: 0.293s, episode steps: 167, steps per second: 570, episode reward: 167.000, mean reward: 1.000 [1.000, 1.000], mean action: 0.461 [0.000, 1.000], mean observation: -0.384 [-2.441, 0.455], loss: 5.756012, mean_absolute_error: 29.394087, mean_q: 60.134743\n",
      " 21316/50000: episode: 291, duration: 0.310s, episode steps: 171, steps per second: 552, episode reward: 171.000, mean reward: 1.000 [1.000, 1.000], mean action: 0.462 [0.000, 1.000], mean observation: -0.350 [-2.319, 0.525], loss: 7.104601, mean_absolute_error: 29.560604, mean_q: 60.398335\n",
      " 21451/50000: episode: 292, duration: 0.252s, episode steps: 135, steps per second: 535, episode reward: 135.000, mean reward: 1.000 [1.000, 1.000], mean action: 0.452 [0.000, 1.000], mean observation: -0.455 [-2.437, 0.569], loss: 6.802833, mean_absolute_error: 29.576847, mean_q: 60.360107\n",
      " 21602/50000: episode: 293, duration: 0.272s, episode steps: 151, steps per second: 555, episode reward: 151.000, mean reward: 1.000 [1.000, 1.000], mean action: 0.457 [0.000, 1.000], mean observation: -0.351 [-2.339, 0.379], loss: 7.296471, mean_absolute_error: 29.673903, mean_q: 60.501545\n",
      " 21756/50000: episode: 294, duration: 0.275s, episode steps: 154, steps per second: 561, episode reward: 154.000, mean reward: 1.000 [1.000, 1.000], mean action: 0.455 [0.000, 1.000], mean observation: -0.394 [-2.575, 0.370], loss: 5.906495, mean_absolute_error: 29.714197, mean_q: 60.650661\n",
      " 21886/50000: episode: 295, duration: 0.228s, episode steps: 130, steps per second: 570, episode reward: 130.000, mean reward: 1.000 [1.000, 1.000], mean action: 0.454 [0.000, 1.000], mean observation: -0.429 [-2.237, 0.358], loss: 7.374172, mean_absolute_error: 29.780107, mean_q: 60.741379\n",
      " 22026/50000: episode: 296, duration: 0.252s, episode steps: 140, steps per second: 557, episode reward: 140.000, mean reward: 1.000 [1.000, 1.000], mean action: 0.457 [0.000, 1.000], mean observation: -0.430 [-2.403, 0.395], loss: 5.973996, mean_absolute_error: 29.850531, mean_q: 60.830273\n",
      " 22194/50000: episode: 297, duration: 0.292s, episode steps: 168, steps per second: 575, episode reward: 168.000, mean reward: 1.000 [1.000, 1.000], mean action: 0.464 [0.000, 1.000], mean observation: -0.372 [-2.436, 0.381], loss: 6.046224, mean_absolute_error: 29.641306, mean_q: 60.442581\n",
      " 22351/50000: episode: 298, duration: 0.277s, episode steps: 157, steps per second: 567, episode reward: 157.000, mean reward: 1.000 [1.000, 1.000], mean action: 0.459 [0.000, 1.000], mean observation: -0.392 [-2.436, 0.490], loss: 6.344485, mean_absolute_error: 29.791214, mean_q: 60.679806\n",
      " 22498/50000: episode: 299, duration: 0.262s, episode steps: 147, steps per second: 562, episode reward: 147.000, mean reward: 1.000 [1.000, 1.000], mean action: 0.456 [0.000, 1.000], mean observation: -0.413 [-2.515, 0.714], loss: 6.900886, mean_absolute_error: 30.109316, mean_q: 61.408733\n",
      " 22654/50000: episode: 300, duration: 0.305s, episode steps: 156, steps per second: 512, episode reward: 156.000, mean reward: 1.000 [1.000, 1.000], mean action: 0.455 [0.000, 1.000], mean observation: -0.390 [-2.512, 0.567], loss: 4.650852, mean_absolute_error: 30.099056, mean_q: 61.415466\n",
      " 22815/50000: episode: 301, duration: 0.330s, episode steps: 161, steps per second: 488, episode reward: 161.000, mean reward: 1.000 [1.000, 1.000], mean action: 0.453 [0.000, 1.000], mean observation: -0.387 [-2.689, 0.896], loss: 5.923826, mean_absolute_error: 30.072218, mean_q: 61.286011\n",
      " 22962/50000: episode: 302, duration: 0.311s, episode steps: 147, steps per second: 473, episode reward: 147.000, mean reward: 1.000 [1.000, 1.000], mean action: 0.456 [0.000, 1.000], mean observation: -0.415 [-2.411, 0.508], loss: 4.053031, mean_absolute_error: 30.453491, mean_q: 62.230934\n",
      " 23090/50000: episode: 303, duration: 0.263s, episode steps: 128, steps per second: 486, episode reward: 128.000, mean reward: 1.000 [1.000, 1.000], mean action: 0.445 [0.000, 1.000], mean observation: -0.470 [-2.794, 0.536], loss: 7.907216, mean_absolute_error: 30.291370, mean_q: 61.545303\n",
      " 23241/50000: episode: 304, duration: 0.283s, episode steps: 151, steps per second: 534, episode reward: 151.000, mean reward: 1.000 [1.000, 1.000], mean action: 0.457 [0.000, 1.000], mean observation: -0.404 [-2.420, 0.459], loss: 8.837210, mean_absolute_error: 30.589886, mean_q: 62.097202\n",
      " 23401/50000: episode: 305, duration: 0.312s, episode steps: 160, steps per second: 513, episode reward: 160.000, mean reward: 1.000 [1.000, 1.000], mean action: 0.463 [0.000, 1.000], mean observation: -0.385 [-2.424, 0.456], loss: 8.340320, mean_absolute_error: 30.132959, mean_q: 61.173431\n",
      " 23566/50000: episode: 306, duration: 0.330s, episode steps: 165, steps per second: 499, episode reward: 165.000, mean reward: 1.000 [1.000, 1.000], mean action: 0.461 [0.000, 1.000], mean observation: -0.375 [-2.436, 0.426], loss: 5.316083, mean_absolute_error: 30.425962, mean_q: 61.922421\n"
     ]
    },
    {
     "name": "stdout",
     "output_type": "stream",
     "text": [
      " 23744/50000: episode: 307, duration: 0.351s, episode steps: 178, steps per second: 507, episode reward: 178.000, mean reward: 1.000 [1.000, 1.000], mean action: 0.466 [0.000, 1.000], mean observation: -0.340 [-2.422, 0.505], loss: 7.768727, mean_absolute_error: 30.563114, mean_q: 61.983025\n",
      " 23896/50000: episode: 308, duration: 0.292s, episode steps: 152, steps per second: 520, episode reward: 152.000, mean reward: 1.000 [1.000, 1.000], mean action: 0.454 [0.000, 1.000], mean observation: -0.409 [-2.571, 0.465], loss: 7.838018, mean_absolute_error: 30.197214, mean_q: 61.249897\n",
      " 24084/50000: episode: 309, duration: 0.354s, episode steps: 188, steps per second: 531, episode reward: 188.000, mean reward: 1.000 [1.000, 1.000], mean action: 0.463 [0.000, 1.000], mean observation: -0.321 [-2.522, 0.465], loss: 6.626745, mean_absolute_error: 30.336670, mean_q: 61.721077\n",
      " 24218/50000: episode: 310, duration: 0.256s, episode steps: 134, steps per second: 523, episode reward: 134.000, mean reward: 1.000 [1.000, 1.000], mean action: 0.448 [0.000, 1.000], mean observation: -0.450 [-2.560, 0.482], loss: 5.256411, mean_absolute_error: 30.360365, mean_q: 61.625626\n",
      " 24376/50000: episode: 311, duration: 0.302s, episode steps: 158, steps per second: 524, episode reward: 158.000, mean reward: 1.000 [1.000, 1.000], mean action: 0.462 [0.000, 1.000], mean observation: -0.386 [-2.406, 0.447], loss: 6.116926, mean_absolute_error: 30.147350, mean_q: 61.299309\n",
      " 24522/50000: episode: 312, duration: 0.260s, episode steps: 146, steps per second: 561, episode reward: 146.000, mean reward: 1.000 [1.000, 1.000], mean action: 0.452 [0.000, 1.000], mean observation: -0.421 [-2.504, 0.466], loss: 7.152791, mean_absolute_error: 30.619913, mean_q: 62.238148\n",
      " 24671/50000: episode: 313, duration: 0.271s, episode steps: 149, steps per second: 551, episode reward: 149.000, mean reward: 1.000 [1.000, 1.000], mean action: 0.456 [0.000, 1.000], mean observation: -0.409 [-2.410, 0.468], loss: 7.254919, mean_absolute_error: 30.235241, mean_q: 61.346031\n",
      " 24814/50000: episode: 314, duration: 0.256s, episode steps: 143, steps per second: 558, episode reward: 143.000, mean reward: 1.000 [1.000, 1.000], mean action: 0.455 [0.000, 1.000], mean observation: -0.422 [-2.517, 0.426], loss: 6.064302, mean_absolute_error: 30.544010, mean_q: 61.904541\n",
      " 24977/50000: episode: 315, duration: 0.300s, episode steps: 163, steps per second: 543, episode reward: 163.000, mean reward: 1.000 [1.000, 1.000], mean action: 0.460 [0.000, 1.000], mean observation: -0.377 [-2.521, 0.419], loss: 7.771858, mean_absolute_error: 30.596308, mean_q: 61.924030\n",
      " 25133/50000: episode: 316, duration: 0.315s, episode steps: 156, steps per second: 496, episode reward: 156.000, mean reward: 1.000 [1.000, 1.000], mean action: 0.462 [0.000, 1.000], mean observation: -0.335 [-2.331, 0.441], loss: 6.140806, mean_absolute_error: 30.737154, mean_q: 62.350510\n",
      " 25255/50000: episode: 317, duration: 0.237s, episode steps: 122, steps per second: 515, episode reward: 122.000, mean reward: 1.000 [1.000, 1.000], mean action: 0.451 [0.000, 1.000], mean observation: -0.458 [-2.249, 0.506], loss: 6.796112, mean_absolute_error: 30.465185, mean_q: 61.583126\n",
      " 25414/50000: episode: 318, duration: 0.347s, episode steps: 159, steps per second: 459, episode reward: 159.000, mean reward: 1.000 [1.000, 1.000], mean action: 0.459 [0.000, 1.000], mean observation: -0.346 [-2.361, 0.457], loss: 5.209505, mean_absolute_error: 30.615671, mean_q: 62.179787\n",
      " 25573/50000: episode: 319, duration: 0.295s, episode steps: 159, steps per second: 538, episode reward: 159.000, mean reward: 1.000 [1.000, 1.000], mean action: 0.459 [0.000, 1.000], mean observation: -0.389 [-2.439, 0.488], loss: 5.853933, mean_absolute_error: 30.704611, mean_q: 62.339340\n",
      " 25704/50000: episode: 320, duration: 0.252s, episode steps: 131, steps per second: 520, episode reward: 131.000, mean reward: 1.000 [1.000, 1.000], mean action: 0.450 [0.000, 1.000], mean observation: -0.444 [-2.361, 0.490], loss: 6.975852, mean_absolute_error: 31.155821, mean_q: 63.294327\n",
      " 25873/50000: episode: 321, duration: 0.333s, episode steps: 169, steps per second: 508, episode reward: 169.000, mean reward: 1.000 [1.000, 1.000], mean action: 0.456 [0.000, 1.000], mean observation: -0.364 [-2.698, 0.558], loss: 5.553684, mean_absolute_error: 30.944313, mean_q: 62.793259\n",
      " 26014/50000: episode: 322, duration: 0.256s, episode steps: 141, steps per second: 550, episode reward: 141.000, mean reward: 1.000 [1.000, 1.000], mean action: 0.454 [0.000, 1.000], mean observation: -0.410 [-2.327, 0.652], loss: 4.905600, mean_absolute_error: 30.997150, mean_q: 62.961491\n",
      " 26159/50000: episode: 323, duration: 0.286s, episode steps: 145, steps per second: 506, episode reward: 145.000, mean reward: 1.000 [1.000, 1.000], mean action: 0.455 [0.000, 1.000], mean observation: -0.415 [-2.736, 0.499], loss: 5.554497, mean_absolute_error: 31.026970, mean_q: 62.869350\n",
      " 26297/50000: episode: 324, duration: 0.267s, episode steps: 138, steps per second: 516, episode reward: 138.000, mean reward: 1.000 [1.000, 1.000], mean action: 0.457 [0.000, 1.000], mean observation: -0.371 [-2.233, 0.798], loss: 7.175496, mean_absolute_error: 30.902514, mean_q: 62.446049\n",
      " 26463/50000: episode: 325, duration: 0.303s, episode steps: 166, steps per second: 548, episode reward: 166.000, mean reward: 1.000 [1.000, 1.000], mean action: 0.464 [0.000, 1.000], mean observation: -0.367 [-2.411, 0.673], loss: 5.651731, mean_absolute_error: 31.112669, mean_q: 63.023872\n",
      " 26594/50000: episode: 326, duration: 0.238s, episode steps: 131, steps per second: 549, episode reward: 131.000, mean reward: 1.000 [1.000, 1.000], mean action: 0.450 [0.000, 1.000], mean observation: -0.398 [-2.319, 0.795], loss: 7.879735, mean_absolute_error: 30.980211, mean_q: 62.836861\n",
      " 26763/50000: episode: 327, duration: 0.310s, episode steps: 169, steps per second: 545, episode reward: 169.000, mean reward: 1.000 [1.000, 1.000], mean action: 0.456 [0.000, 1.000], mean observation: -0.358 [-2.708, 0.609], loss: 6.574237, mean_absolute_error: 31.300690, mean_q: 63.365383\n",
      " 26912/50000: episode: 328, duration: 0.279s, episode steps: 149, steps per second: 534, episode reward: 149.000, mean reward: 1.000 [1.000, 1.000], mean action: 0.456 [0.000, 1.000], mean observation: -0.408 [-2.557, 0.401], loss: 7.080037, mean_absolute_error: 31.146780, mean_q: 62.976116\n",
      " 27066/50000: episode: 329, duration: 0.376s, episode steps: 154, steps per second: 409, episode reward: 154.000, mean reward: 1.000 [1.000, 1.000], mean action: 0.455 [0.000, 1.000], mean observation: -0.398 [-2.542, 0.467], loss: 7.957272, mean_absolute_error: 31.209171, mean_q: 63.117962\n",
      " 27218/50000: episode: 330, duration: 0.269s, episode steps: 152, steps per second: 565, episode reward: 152.000, mean reward: 1.000 [1.000, 1.000], mean action: 0.454 [0.000, 1.000], mean observation: -0.407 [-2.596, 0.462], loss: 6.390952, mean_absolute_error: 31.307199, mean_q: 63.453419\n",
      " 27383/50000: episode: 331, duration: 0.320s, episode steps: 165, steps per second: 516, episode reward: 165.000, mean reward: 1.000 [1.000, 1.000], mean action: 0.461 [0.000, 1.000], mean observation: -0.374 [-2.424, 0.573], loss: 5.901475, mean_absolute_error: 31.235275, mean_q: 63.235985\n",
      " 27530/50000: episode: 332, duration: 0.295s, episode steps: 147, steps per second: 498, episode reward: 147.000, mean reward: 1.000 [1.000, 1.000], mean action: 0.456 [0.000, 1.000], mean observation: -0.415 [-2.576, 0.453], loss: 6.027821, mean_absolute_error: 31.033722, mean_q: 62.850094\n",
      " 27678/50000: episode: 333, duration: 0.313s, episode steps: 148, steps per second: 473, episode reward: 148.000, mean reward: 1.000 [1.000, 1.000], mean action: 0.453 [0.000, 1.000], mean observation: -0.415 [-2.557, 0.296], loss: 7.243386, mean_absolute_error: 31.563753, mean_q: 63.679108\n",
      " 27808/50000: episode: 334, duration: 0.226s, episode steps: 130, steps per second: 574, episode reward: 130.000, mean reward: 1.000 [1.000, 1.000], mean action: 0.446 [0.000, 1.000], mean observation: -0.467 [-2.582, 0.408], loss: 5.832251, mean_absolute_error: 31.432812, mean_q: 63.538403\n",
      " 27947/50000: episode: 335, duration: 0.257s, episode steps: 139, steps per second: 540, episode reward: 139.000, mean reward: 1.000 [1.000, 1.000], mean action: 0.453 [0.000, 1.000], mean observation: -0.435 [-2.544, 0.359], loss: 5.163989, mean_absolute_error: 31.454401, mean_q: 63.635742\n"
     ]
    },
    {
     "name": "stdout",
     "output_type": "stream",
     "text": [
      " 28099/50000: episode: 336, duration: 0.356s, episode steps: 152, steps per second: 427, episode reward: 152.000, mean reward: 1.000 [1.000, 1.000], mean action: 0.454 [0.000, 1.000], mean observation: -0.404 [-2.596, 0.363], loss: 5.856310, mean_absolute_error: 31.501432, mean_q: 63.736149\n",
      " 28263/50000: episode: 337, duration: 0.318s, episode steps: 164, steps per second: 515, episode reward: 164.000, mean reward: 1.000 [1.000, 1.000], mean action: 0.463 [0.000, 1.000], mean observation: -0.345 [-2.353, 0.576], loss: 9.216780, mean_absolute_error: 31.393921, mean_q: 63.357075\n",
      " 28444/50000: episode: 338, duration: 0.376s, episode steps: 181, steps per second: 481, episode reward: 181.000, mean reward: 1.000 [1.000, 1.000], mean action: 0.464 [0.000, 1.000], mean observation: -0.335 [-2.405, 0.458], loss: 6.239495, mean_absolute_error: 31.405087, mean_q: 63.380257\n",
      " 28592/50000: episode: 339, duration: 0.260s, episode steps: 148, steps per second: 569, episode reward: 148.000, mean reward: 1.000 [1.000, 1.000], mean action: 0.453 [0.000, 1.000], mean observation: -0.408 [-2.550, 0.396], loss: 4.196799, mean_absolute_error: 31.774342, mean_q: 64.341431\n",
      " 28773/50000: episode: 340, duration: 0.346s, episode steps: 181, steps per second: 523, episode reward: 181.000, mean reward: 1.000 [1.000, 1.000], mean action: 0.464 [0.000, 1.000], mean observation: -0.338 [-2.512, 0.894], loss: 6.162735, mean_absolute_error: 31.441536, mean_q: 63.437561\n",
      " 28926/50000: episode: 341, duration: 0.306s, episode steps: 153, steps per second: 499, episode reward: 153.000, mean reward: 1.000 [1.000, 1.000], mean action: 0.458 [0.000, 1.000], mean observation: -0.400 [-2.545, 0.408], loss: 5.368484, mean_absolute_error: 31.829268, mean_q: 64.168083\n",
      " 29083/50000: episode: 342, duration: 0.302s, episode steps: 157, steps per second: 520, episode reward: 157.000, mean reward: 1.000 [1.000, 1.000], mean action: 0.459 [0.000, 1.000], mean observation: -0.385 [-2.566, 0.559], loss: 6.818601, mean_absolute_error: 31.534323, mean_q: 63.465466\n",
      " 29228/50000: episode: 343, duration: 0.273s, episode steps: 145, steps per second: 531, episode reward: 145.000, mean reward: 1.000 [1.000, 1.000], mean action: 0.455 [0.000, 1.000], mean observation: -0.415 [-2.582, 0.390], loss: 5.993388, mean_absolute_error: 31.823868, mean_q: 64.263657\n",
      " 29374/50000: episode: 344, duration: 0.269s, episode steps: 146, steps per second: 543, episode reward: 146.000, mean reward: 1.000 [1.000, 1.000], mean action: 0.459 [0.000, 1.000], mean observation: -0.417 [-2.405, 0.761], loss: 7.659847, mean_absolute_error: 31.656799, mean_q: 63.739273\n",
      " 29551/50000: episode: 345, duration: 0.319s, episode steps: 177, steps per second: 555, episode reward: 177.000, mean reward: 1.000 [1.000, 1.000], mean action: 0.463 [0.000, 1.000], mean observation: -0.345 [-2.538, 0.468], loss: 6.651705, mean_absolute_error: 31.726067, mean_q: 64.067688\n",
      " 29709/50000: episode: 346, duration: 0.303s, episode steps: 158, steps per second: 521, episode reward: 158.000, mean reward: 1.000 [1.000, 1.000], mean action: 0.456 [0.000, 1.000], mean observation: -0.387 [-2.510, 0.410], loss: 6.057719, mean_absolute_error: 31.407906, mean_q: 63.601254\n",
      " 29900/50000: episode: 347, duration: 0.394s, episode steps: 191, steps per second: 485, episode reward: 191.000, mean reward: 1.000 [1.000, 1.000], mean action: 0.466 [0.000, 1.000], mean observation: -0.315 [-2.352, 0.622], loss: 7.225156, mean_absolute_error: 31.763071, mean_q: 64.334435\n",
      " 30057/50000: episode: 348, duration: 0.287s, episode steps: 157, steps per second: 547, episode reward: 157.000, mean reward: 1.000 [1.000, 1.000], mean action: 0.459 [0.000, 1.000], mean observation: -0.385 [-2.502, 0.499], loss: 6.799368, mean_absolute_error: 31.585533, mean_q: 63.759182\n",
      " 30217/50000: episode: 349, duration: 0.291s, episode steps: 160, steps per second: 549, episode reward: 160.000, mean reward: 1.000 [1.000, 1.000], mean action: 0.456 [0.000, 1.000], mean observation: -0.356 [-2.515, 0.541], loss: 5.850504, mean_absolute_error: 31.272726, mean_q: 63.078850\n",
      " 30357/50000: episode: 350, duration: 0.274s, episode steps: 140, steps per second: 510, episode reward: 140.000, mean reward: 1.000 [1.000, 1.000], mean action: 0.457 [0.000, 1.000], mean observation: -0.367 [-2.224, 0.715], loss: 6.843763, mean_absolute_error: 32.373764, mean_q: 65.440056\n",
      " 30533/50000: episode: 351, duration: 0.315s, episode steps: 176, steps per second: 559, episode reward: 176.000, mean reward: 1.000 [1.000, 1.000], mean action: 0.460 [0.000, 1.000], mean observation: -0.353 [-2.562, 0.701], loss: 7.105504, mean_absolute_error: 31.671429, mean_q: 64.089462\n",
      " 30676/50000: episode: 352, duration: 0.266s, episode steps: 143, steps per second: 537, episode reward: 143.000, mean reward: 1.000 [1.000, 1.000], mean action: 0.462 [0.000, 1.000], mean observation: -0.377 [-2.193, 0.362], loss: 3.701390, mean_absolute_error: 31.955156, mean_q: 64.732559\n",
      " 30859/50000: episode: 353, duration: 0.342s, episode steps: 183, steps per second: 535, episode reward: 183.000, mean reward: 1.000 [1.000, 1.000], mean action: 0.470 [0.000, 1.000], mean observation: -0.289 [-2.038, 0.552], loss: 6.353498, mean_absolute_error: 31.761633, mean_q: 64.262489\n",
      " 31031/50000: episode: 354, duration: 0.441s, episode steps: 172, steps per second: 390, episode reward: 172.000, mean reward: 1.000 [1.000, 1.000], mean action: 0.459 [0.000, 1.000], mean observation: -0.355 [-2.506, 0.531], loss: 6.053462, mean_absolute_error: 31.981306, mean_q: 64.469070\n",
      " 31177/50000: episode: 355, duration: 0.320s, episode steps: 146, steps per second: 457, episode reward: 146.000, mean reward: 1.000 [1.000, 1.000], mean action: 0.452 [0.000, 1.000], mean observation: -0.420 [-2.765, 0.469], loss: 4.344196, mean_absolute_error: 32.203354, mean_q: 65.222054\n",
      " 31308/50000: episode: 356, duration: 0.244s, episode steps: 131, steps per second: 538, episode reward: 131.000, mean reward: 1.000 [1.000, 1.000], mean action: 0.458 [0.000, 1.000], mean observation: -0.393 [-2.176, 0.574], loss: 7.481548, mean_absolute_error: 32.277916, mean_q: 65.309799\n",
      " 31452/50000: episode: 357, duration: 0.253s, episode steps: 144, steps per second: 568, episode reward: 144.000, mean reward: 1.000 [1.000, 1.000], mean action: 0.451 [0.000, 1.000], mean observation: -0.389 [-2.507, 0.542], loss: 6.774572, mean_absolute_error: 31.970921, mean_q: 64.533287\n",
      " 31580/50000: episode: 358, duration: 0.234s, episode steps: 128, steps per second: 546, episode reward: 128.000, mean reward: 1.000 [1.000, 1.000], mean action: 0.453 [0.000, 1.000], mean observation: -0.397 [-2.218, 0.470], loss: 6.864163, mean_absolute_error: 31.806690, mean_q: 64.399300\n",
      " 31739/50000: episode: 359, duration: 0.285s, episode steps: 159, steps per second: 558, episode reward: 159.000, mean reward: 1.000 [1.000, 1.000], mean action: 0.459 [0.000, 1.000], mean observation: -0.386 [-2.524, 0.578], loss: 6.272020, mean_absolute_error: 31.853621, mean_q: 64.484970\n",
      " 31883/50000: episode: 360, duration: 0.286s, episode steps: 144, steps per second: 503, episode reward: 144.000, mean reward: 1.000 [1.000, 1.000], mean action: 0.451 [0.000, 1.000], mean observation: -0.419 [-2.700, 0.538], loss: 7.035924, mean_absolute_error: 31.821682, mean_q: 64.194687\n",
      " 32036/50000: episode: 361, duration: 0.305s, episode steps: 153, steps per second: 501, episode reward: 153.000, mean reward: 1.000 [1.000, 1.000], mean action: 0.458 [0.000, 1.000], mean observation: -0.398 [-2.580, 0.378], loss: 6.155829, mean_absolute_error: 32.300732, mean_q: 65.274437\n",
      " 32173/50000: episode: 362, duration: 0.263s, episode steps: 137, steps per second: 521, episode reward: 137.000, mean reward: 1.000 [1.000, 1.000], mean action: 0.453 [0.000, 1.000], mean observation: -0.442 [-2.416, 0.423], loss: 7.275731, mean_absolute_error: 31.726965, mean_q: 64.117264\n",
      " 32355/50000: episode: 363, duration: 0.334s, episode steps: 182, steps per second: 545, episode reward: 182.000, mean reward: 1.000 [1.000, 1.000], mean action: 0.462 [0.000, 1.000], mean observation: -0.341 [-2.577, 0.475], loss: 6.162814, mean_absolute_error: 31.885141, mean_q: 64.376511\n",
      " 32502/50000: episode: 364, duration: 0.257s, episode steps: 147, steps per second: 573, episode reward: 147.000, mean reward: 1.000 [1.000, 1.000], mean action: 0.456 [0.000, 1.000], mean observation: -0.356 [-2.325, 0.505], loss: 4.751419, mean_absolute_error: 32.366726, mean_q: 65.405045\n"
     ]
    },
    {
     "name": "stdout",
     "output_type": "stream",
     "text": [
      " 32661/50000: episode: 365, duration: 0.312s, episode steps: 159, steps per second: 509, episode reward: 159.000, mean reward: 1.000 [1.000, 1.000], mean action: 0.459 [0.000, 1.000], mean observation: -0.387 [-2.508, 0.396], loss: 6.134260, mean_absolute_error: 32.085850, mean_q: 64.649902\n",
      " 32808/50000: episode: 366, duration: 0.263s, episode steps: 147, steps per second: 560, episode reward: 147.000, mean reward: 1.000 [1.000, 1.000], mean action: 0.463 [0.000, 1.000], mean observation: -0.384 [-2.359, 0.415], loss: 5.454414, mean_absolute_error: 31.821579, mean_q: 64.154449\n",
      " 32981/50000: episode: 367, duration: 0.331s, episode steps: 173, steps per second: 523, episode reward: 173.000, mean reward: 1.000 [1.000, 1.000], mean action: 0.457 [0.000, 1.000], mean observation: -0.352 [-2.697, 0.440], loss: 6.197710, mean_absolute_error: 32.293144, mean_q: 65.286903\n",
      " 33131/50000: episode: 368, duration: 0.262s, episode steps: 150, steps per second: 573, episode reward: 150.000, mean reward: 1.000 [1.000, 1.000], mean action: 0.460 [0.000, 1.000], mean observation: -0.390 [-2.370, 0.680], loss: 6.509579, mean_absolute_error: 32.090313, mean_q: 64.805641\n",
      " 33304/50000: episode: 369, duration: 0.329s, episode steps: 173, steps per second: 526, episode reward: 173.000, mean reward: 1.000 [1.000, 1.000], mean action: 0.457 [0.000, 1.000], mean observation: -0.353 [-2.707, 0.845], loss: 7.500500, mean_absolute_error: 32.055676, mean_q: 64.628929\n",
      " 33458/50000: episode: 370, duration: 0.304s, episode steps: 154, steps per second: 506, episode reward: 154.000, mean reward: 1.000 [1.000, 1.000], mean action: 0.461 [0.000, 1.000], mean observation: -0.345 [-2.221, 0.357], loss: 6.516199, mean_absolute_error: 31.888786, mean_q: 64.056084\n",
      " 33608/50000: episode: 371, duration: 0.287s, episode steps: 150, steps per second: 523, episode reward: 150.000, mean reward: 1.000 [1.000, 1.000], mean action: 0.453 [0.000, 1.000], mean observation: -0.406 [-2.540, 0.663], loss: 5.367725, mean_absolute_error: 31.929482, mean_q: 64.354469\n",
      " 33752/50000: episode: 372, duration: 0.288s, episode steps: 144, steps per second: 500, episode reward: 144.000, mean reward: 1.000 [1.000, 1.000], mean action: 0.458 [0.000, 1.000], mean observation: -0.359 [-2.200, 0.446], loss: 3.294906, mean_absolute_error: 31.954000, mean_q: 64.672363\n",
      " 33907/50000: episode: 373, duration: 0.316s, episode steps: 155, steps per second: 491, episode reward: 155.000, mean reward: 1.000 [1.000, 1.000], mean action: 0.458 [0.000, 1.000], mean observation: -0.358 [-2.351, 0.606], loss: 5.799029, mean_absolute_error: 32.434406, mean_q: 65.455772\n",
      " 34061/50000: episode: 374, duration: 0.311s, episode steps: 154, steps per second: 496, episode reward: 154.000, mean reward: 1.000 [1.000, 1.000], mean action: 0.455 [0.000, 1.000], mean observation: -0.393 [-2.542, 0.401], loss: 7.469871, mean_absolute_error: 32.288033, mean_q: 65.071861\n",
      " 34227/50000: episode: 375, duration: 0.315s, episode steps: 166, steps per second: 526, episode reward: 166.000, mean reward: 1.000 [1.000, 1.000], mean action: 0.458 [0.000, 1.000], mean observation: -0.342 [-2.516, 0.463], loss: 5.093970, mean_absolute_error: 32.231689, mean_q: 65.128868\n",
      " 34375/50000: episode: 376, duration: 0.292s, episode steps: 148, steps per second: 507, episode reward: 148.000, mean reward: 1.000 [1.000, 1.000], mean action: 0.453 [0.000, 1.000], mean observation: -0.377 [-2.601, 0.449], loss: 4.317027, mean_absolute_error: 31.943169, mean_q: 64.556618\n",
      " 34534/50000: episode: 377, duration: 0.325s, episode steps: 159, steps per second: 489, episode reward: 159.000, mean reward: 1.000 [1.000, 1.000], mean action: 0.465 [0.000, 1.000], mean observation: -0.308 [-2.228, 0.571], loss: 5.921381, mean_absolute_error: 31.998600, mean_q: 64.567879\n",
      " 34727/50000: episode: 378, duration: 0.388s, episode steps: 193, steps per second: 498, episode reward: 193.000, mean reward: 1.000 [1.000, 1.000], mean action: 0.466 [0.000, 1.000], mean observation: -0.318 [-2.561, 0.608], loss: 4.811359, mean_absolute_error: 32.468189, mean_q: 65.405449\n",
      " 34877/50000: episode: 379, duration: 0.291s, episode steps: 150, steps per second: 516, episode reward: 150.000, mean reward: 1.000 [1.000, 1.000], mean action: 0.453 [0.000, 1.000], mean observation: -0.407 [-2.734, 0.334], loss: 4.876459, mean_absolute_error: 32.463085, mean_q: 65.736366\n",
      " 35058/50000: episode: 380, duration: 0.348s, episode steps: 181, steps per second: 520, episode reward: 181.000, mean reward: 1.000 [1.000, 1.000], mean action: 0.459 [0.000, 1.000], mean observation: -0.339 [-2.739, 0.441], loss: 4.599784, mean_absolute_error: 32.065083, mean_q: 64.692543\n",
      " 35204/50000: episode: 381, duration: 0.310s, episode steps: 146, steps per second: 471, episode reward: 146.000, mean reward: 1.000 [1.000, 1.000], mean action: 0.459 [0.000, 1.000], mean observation: -0.350 [-2.239, 0.760], loss: 5.927637, mean_absolute_error: 32.164730, mean_q: 65.146210\n",
      " 35338/50000: episode: 382, duration: 0.234s, episode steps: 134, steps per second: 571, episode reward: 134.000, mean reward: 1.000 [1.000, 1.000], mean action: 0.455 [0.000, 1.000], mean observation: -0.371 [-2.207, 0.487], loss: 5.392059, mean_absolute_error: 32.292030, mean_q: 65.175697\n",
      " 35471/50000: episode: 383, duration: 0.234s, episode steps: 133, steps per second: 569, episode reward: 133.000, mean reward: 1.000 [1.000, 1.000], mean action: 0.451 [0.000, 1.000], mean observation: -0.454 [-2.559, 0.411], loss: 4.455660, mean_absolute_error: 31.979067, mean_q: 64.717491\n",
      " 35622/50000: episode: 384, duration: 0.273s, episode steps: 151, steps per second: 554, episode reward: 151.000, mean reward: 1.000 [1.000, 1.000], mean action: 0.457 [0.000, 1.000], mean observation: -0.403 [-2.607, 0.404], loss: 4.406134, mean_absolute_error: 32.704704, mean_q: 66.101295\n",
      " 35770/50000: episode: 385, duration: 0.260s, episode steps: 148, steps per second: 569, episode reward: 148.000, mean reward: 1.000 [1.000, 1.000], mean action: 0.453 [0.000, 1.000], mean observation: -0.415 [-2.553, 0.354], loss: 4.994118, mean_absolute_error: 32.766041, mean_q: 66.172585\n",
      " 35925/50000: episode: 386, duration: 0.285s, episode steps: 155, steps per second: 544, episode reward: 155.000, mean reward: 1.000 [1.000, 1.000], mean action: 0.465 [0.000, 1.000], mean observation: -0.306 [-1.969, 0.626], loss: 5.928545, mean_absolute_error: 32.176830, mean_q: 65.201309\n",
      " 36089/50000: episode: 387, duration: 0.323s, episode steps: 164, steps per second: 508, episode reward: 164.000, mean reward: 1.000 [1.000, 1.000], mean action: 0.457 [0.000, 1.000], mean observation: -0.374 [-2.740, 0.580], loss: 3.769976, mean_absolute_error: 32.515785, mean_q: 65.910439\n",
      " 36276/50000: episode: 388, duration: 0.341s, episode steps: 187, steps per second: 549, episode reward: 187.000, mean reward: 1.000 [1.000, 1.000], mean action: 0.465 [0.000, 1.000], mean observation: -0.337 [-2.444, 0.510], loss: 4.268034, mean_absolute_error: 32.139114, mean_q: 65.056206\n",
      " 36415/50000: episode: 389, duration: 0.248s, episode steps: 139, steps per second: 561, episode reward: 139.000, mean reward: 1.000 [1.000, 1.000], mean action: 0.453 [0.000, 1.000], mean observation: -0.434 [-2.574, 0.430], loss: 5.315245, mean_absolute_error: 32.394356, mean_q: 65.587631\n",
      " 36562/50000: episode: 390, duration: 0.264s, episode steps: 147, steps per second: 557, episode reward: 147.000, mean reward: 1.000 [1.000, 1.000], mean action: 0.456 [0.000, 1.000], mean observation: -0.417 [-2.588, 0.551], loss: 5.567241, mean_absolute_error: 32.293453, mean_q: 65.476311\n",
      " 36724/50000: episode: 391, duration: 0.284s, episode steps: 162, steps per second: 571, episode reward: 162.000, mean reward: 1.000 [1.000, 1.000], mean action: 0.457 [0.000, 1.000], mean observation: -0.377 [-2.531, 0.314], loss: 6.677528, mean_absolute_error: 32.248367, mean_q: 65.126205\n",
      " 36892/50000: episode: 392, duration: 0.308s, episode steps: 168, steps per second: 546, episode reward: 168.000, mean reward: 1.000 [1.000, 1.000], mean action: 0.458 [0.000, 1.000], mean observation: -0.367 [-2.704, 0.568], loss: 4.805779, mean_absolute_error: 32.438652, mean_q: 65.497597\n",
      " 37062/50000: episode: 393, duration: 0.305s, episode steps: 170, steps per second: 558, episode reward: 170.000, mean reward: 1.000 [1.000, 1.000], mean action: 0.476 [0.000, 1.000], mean observation: -0.196 [-1.451, 0.484], loss: 4.750384, mean_absolute_error: 32.193722, mean_q: 65.277931\n"
     ]
    },
    {
     "name": "stdout",
     "output_type": "stream",
     "text": [
      " 37215/50000: episode: 394, duration: 0.314s, episode steps: 153, steps per second: 487, episode reward: 153.000, mean reward: 1.000 [1.000, 1.000], mean action: 0.477 [0.000, 1.000], mean observation: -0.263 [-1.679, 0.475], loss: 7.262548, mean_absolute_error: 32.268951, mean_q: 65.275116\n",
      " 37380/50000: episode: 395, duration: 0.301s, episode steps: 165, steps per second: 548, episode reward: 165.000, mean reward: 1.000 [1.000, 1.000], mean action: 0.461 [0.000, 1.000], mean observation: -0.377 [-2.413, 0.477], loss: 4.169618, mean_absolute_error: 32.418903, mean_q: 65.790161\n",
      " 37580/50000: episode: 396, duration: 0.354s, episode steps: 200, steps per second: 564, episode reward: 200.000, mean reward: 1.000 [1.000, 1.000], mean action: 0.475 [0.000, 1.000], mean observation: -0.203 [-1.840, 0.465], loss: 5.825756, mean_absolute_error: 32.332832, mean_q: 65.333031\n",
      " 37736/50000: episode: 397, duration: 0.302s, episode steps: 156, steps per second: 517, episode reward: 156.000, mean reward: 1.000 [1.000, 1.000], mean action: 0.455 [0.000, 1.000], mean observation: -0.362 [-2.515, 0.593], loss: 6.101309, mean_absolute_error: 32.222462, mean_q: 65.056404\n",
      " 37922/50000: episode: 398, duration: 0.341s, episode steps: 186, steps per second: 546, episode reward: 186.000, mean reward: 1.000 [1.000, 1.000], mean action: 0.462 [0.000, 1.000], mean observation: -0.340 [-2.723, 1.012], loss: 5.642933, mean_absolute_error: 32.295258, mean_q: 65.384254\n",
      " 38108/50000: episode: 399, duration: 0.345s, episode steps: 186, steps per second: 539, episode reward: 186.000, mean reward: 1.000 [1.000, 1.000], mean action: 0.468 [0.000, 1.000], mean observation: -0.310 [-2.408, 0.457], loss: 4.116902, mean_absolute_error: 32.588715, mean_q: 66.036087\n",
      " 38285/50000: episode: 400, duration: 0.318s, episode steps: 177, steps per second: 556, episode reward: 177.000, mean reward: 1.000 [1.000, 1.000], mean action: 0.463 [0.000, 1.000], mean observation: -0.354 [-2.731, 0.469], loss: 6.434701, mean_absolute_error: 32.317028, mean_q: 65.437210\n",
      " 38450/50000: episode: 401, duration: 0.288s, episode steps: 165, steps per second: 572, episode reward: 165.000, mean reward: 1.000 [1.000, 1.000], mean action: 0.467 [0.000, 1.000], mean observation: -0.317 [-2.239, 0.379], loss: 3.546328, mean_absolute_error: 32.437653, mean_q: 65.657021\n",
      " 38607/50000: episode: 402, duration: 0.284s, episode steps: 157, steps per second: 552, episode reward: 157.000, mean reward: 1.000 [1.000, 1.000], mean action: 0.459 [0.000, 1.000], mean observation: -0.362 [-2.403, 0.709], loss: 4.787667, mean_absolute_error: 32.494576, mean_q: 65.786926\n",
      " 38750/50000: episode: 403, duration: 0.255s, episode steps: 143, steps per second: 562, episode reward: 143.000, mean reward: 1.000 [1.000, 1.000], mean action: 0.462 [0.000, 1.000], mean observation: -0.279 [-1.995, 0.536], loss: 3.658962, mean_absolute_error: 32.388058, mean_q: 65.609772\n",
      " 38892/50000: episode: 404, duration: 0.297s, episode steps: 142, steps per second: 478, episode reward: 142.000, mean reward: 1.000 [1.000, 1.000], mean action: 0.465 [0.000, 1.000], mean observation: -0.333 [-2.033, 0.915], loss: 4.648011, mean_absolute_error: 32.624100, mean_q: 65.984032\n",
      " 39046/50000: episode: 405, duration: 0.279s, episode steps: 154, steps per second: 552, episode reward: 154.000, mean reward: 1.000 [1.000, 1.000], mean action: 0.455 [0.000, 1.000], mean observation: -0.380 [-2.535, 0.490], loss: 6.558821, mean_absolute_error: 32.294170, mean_q: 65.419693\n",
      " 39190/50000: episode: 406, duration: 0.258s, episode steps: 144, steps per second: 558, episode reward: 144.000, mean reward: 1.000 [1.000, 1.000], mean action: 0.451 [0.000, 1.000], mean observation: -0.425 [-2.553, 0.776], loss: 4.880229, mean_absolute_error: 32.145859, mean_q: 64.889000\n",
      " 39338/50000: episode: 407, duration: 0.272s, episode steps: 148, steps per second: 544, episode reward: 148.000, mean reward: 1.000 [1.000, 1.000], mean action: 0.453 [0.000, 1.000], mean observation: -0.419 [-2.777, 0.339], loss: 3.721308, mean_absolute_error: 32.193970, mean_q: 65.078339\n",
      " 39481/50000: episode: 408, duration: 0.264s, episode steps: 143, steps per second: 541, episode reward: 143.000, mean reward: 1.000 [1.000, 1.000], mean action: 0.462 [0.000, 1.000], mean observation: -0.332 [-2.021, 0.495], loss: 3.933414, mean_absolute_error: 31.875444, mean_q: 64.387100\n",
      " 39650/50000: episode: 409, duration: 0.360s, episode steps: 169, steps per second: 469, episode reward: 169.000, mean reward: 1.000 [1.000, 1.000], mean action: 0.462 [0.000, 1.000], mean observation: -0.365 [-2.579, 0.475], loss: 4.855081, mean_absolute_error: 32.401550, mean_q: 65.616539\n",
      " 39795/50000: episode: 410, duration: 0.410s, episode steps: 145, steps per second: 354, episode reward: 145.000, mean reward: 1.000 [1.000, 1.000], mean action: 0.455 [0.000, 1.000], mean observation: -0.408 [-2.400, 0.295], loss: 5.598665, mean_absolute_error: 32.429413, mean_q: 65.671799\n",
      " 39946/50000: episode: 411, duration: 0.380s, episode steps: 151, steps per second: 398, episode reward: 151.000, mean reward: 1.000 [1.000, 1.000], mean action: 0.450 [0.000, 1.000], mean observation: -0.410 [-2.690, 0.551], loss: 4.874006, mean_absolute_error: 32.168377, mean_q: 65.055046\n",
      " 40116/50000: episode: 412, duration: 0.323s, episode steps: 170, steps per second: 527, episode reward: 170.000, mean reward: 1.000 [1.000, 1.000], mean action: 0.471 [0.000, 1.000], mean observation: -0.310 [-2.163, 0.580], loss: 3.765787, mean_absolute_error: 32.382713, mean_q: 65.487793\n",
      " 40316/50000: episode: 413, duration: 0.388s, episode steps: 200, steps per second: 516, episode reward: 200.000, mean reward: 1.000 [1.000, 1.000], mean action: 0.470 [0.000, 1.000], mean observation: -0.257 [-2.162, 0.543], loss: 6.833272, mean_absolute_error: 32.244144, mean_q: 65.083626\n",
      " 40516/50000: episode: 414, duration: 0.360s, episode steps: 200, steps per second: 556, episode reward: 200.000, mean reward: 1.000 [1.000, 1.000], mean action: 0.480 [0.000, 1.000], mean observation: -0.127 [-1.424, 0.471], loss: 5.189914, mean_absolute_error: 32.122879, mean_q: 64.912399\n",
      " 40664/50000: episode: 415, duration: 0.265s, episode steps: 148, steps per second: 559, episode reward: 148.000, mean reward: 1.000 [1.000, 1.000], mean action: 0.466 [0.000, 1.000], mean observation: -0.320 [-2.017, 0.573], loss: 4.921251, mean_absolute_error: 32.442947, mean_q: 65.719818\n",
      " 40814/50000: episode: 416, duration: 0.279s, episode steps: 150, steps per second: 538, episode reward: 150.000, mean reward: 1.000 [1.000, 1.000], mean action: 0.460 [0.000, 1.000], mean observation: -0.346 [-2.175, 0.396], loss: 3.651612, mean_absolute_error: 32.118099, mean_q: 65.016052\n",
      " 41014/50000: episode: 417, duration: 0.368s, episode steps: 200, steps per second: 544, episode reward: 200.000, mean reward: 1.000 [1.000, 1.000], mean action: 0.485 [0.000, 1.000], mean observation: -0.131 [-1.258, 0.618], loss: 5.000548, mean_absolute_error: 32.134453, mean_q: 64.890213\n",
      " 41210/50000: episode: 418, duration: 0.351s, episode steps: 196, steps per second: 559, episode reward: 196.000, mean reward: 1.000 [1.000, 1.000], mean action: 0.480 [0.000, 1.000], mean observation: -0.223 [-1.809, 0.603], loss: 3.834402, mean_absolute_error: 32.409901, mean_q: 65.621979\n",
      " 41410/50000: episode: 419, duration: 0.350s, episode steps: 200, steps per second: 572, episode reward: 200.000, mean reward: 1.000 [1.000, 1.000], mean action: 0.475 [0.000, 1.000], mean observation: -0.212 [-1.775, 0.442], loss: 5.249656, mean_absolute_error: 32.552628, mean_q: 65.927895\n",
      " 41579/50000: episode: 420, duration: 0.295s, episode steps: 169, steps per second: 573, episode reward: 169.000, mean reward: 1.000 [1.000, 1.000], mean action: 0.462 [0.000, 1.000], mean observation: -0.352 [-2.401, 0.389], loss: 5.025426, mean_absolute_error: 32.210487, mean_q: 65.159164\n",
      " 41779/50000: episode: 421, duration: 0.380s, episode steps: 200, steps per second: 526, episode reward: 200.000, mean reward: 1.000 [1.000, 1.000], mean action: 0.475 [0.000, 1.000], mean observation: -0.191 [-1.790, 0.549], loss: 6.208992, mean_absolute_error: 32.269638, mean_q: 65.317917\n",
      " 41979/50000: episode: 422, duration: 0.359s, episode steps: 200, steps per second: 558, episode reward: 200.000, mean reward: 1.000 [1.000, 1.000], mean action: 0.470 [0.000, 1.000], mean observation: -0.259 [-2.146, 0.628], loss: 4.606901, mean_absolute_error: 32.239227, mean_q: 65.342812\n"
     ]
    },
    {
     "name": "stdout",
     "output_type": "stream",
     "text": [
      " 42123/50000: episode: 423, duration: 0.336s, episode steps: 144, steps per second: 428, episode reward: 144.000, mean reward: 1.000 [1.000, 1.000], mean action: 0.458 [0.000, 1.000], mean observation: -0.365 [-2.191, 0.731], loss: 4.692348, mean_absolute_error: 32.346493, mean_q: 65.653893\n",
      " 42296/50000: episode: 424, duration: 0.381s, episode steps: 173, steps per second: 454, episode reward: 173.000, mean reward: 1.000 [1.000, 1.000], mean action: 0.468 [0.000, 1.000], mean observation: -0.268 [-2.004, 0.532], loss: 4.668477, mean_absolute_error: 32.470051, mean_q: 65.878265\n",
      " 42428/50000: episode: 425, duration: 0.245s, episode steps: 132, steps per second: 539, episode reward: 132.000, mean reward: 1.000 [1.000, 1.000], mean action: 0.462 [0.000, 1.000], mean observation: -0.352 [-1.836, 0.318], loss: 5.759565, mean_absolute_error: 32.387623, mean_q: 65.692978\n",
      " 42575/50000: episode: 426, duration: 0.259s, episode steps: 147, steps per second: 567, episode reward: 147.000, mean reward: 1.000 [1.000, 1.000], mean action: 0.456 [0.000, 1.000], mean observation: -0.406 [-2.388, 0.383], loss: 6.466087, mean_absolute_error: 32.330006, mean_q: 65.705650\n",
      " 42745/50000: episode: 427, duration: 0.311s, episode steps: 170, steps per second: 547, episode reward: 170.000, mean reward: 1.000 [1.000, 1.000], mean action: 0.465 [0.000, 1.000], mean observation: -0.312 [-2.159, 0.514], loss: 4.475642, mean_absolute_error: 32.872673, mean_q: 66.684380\n",
      " 42945/50000: episode: 428, duration: 0.362s, episode steps: 200, steps per second: 553, episode reward: 200.000, mean reward: 1.000 [1.000, 1.000], mean action: 0.485 [0.000, 1.000], mean observation: -0.079 [-1.097, 0.553], loss: 3.540519, mean_absolute_error: 32.812744, mean_q: 66.744354\n",
      " 43145/50000: episode: 429, duration: 0.455s, episode steps: 200, steps per second: 440, episode reward: 200.000, mean reward: 1.000 [1.000, 1.000], mean action: 0.475 [0.000, 1.000], mean observation: -0.173 [-1.819, 0.636], loss: 4.044421, mean_absolute_error: 32.518211, mean_q: 65.924202\n",
      " 43287/50000: episode: 430, duration: 0.346s, episode steps: 142, steps per second: 410, episode reward: 142.000, mean reward: 1.000 [1.000, 1.000], mean action: 0.458 [0.000, 1.000], mean observation: -0.380 [-2.192, 0.486], loss: 5.706647, mean_absolute_error: 32.053276, mean_q: 65.063423\n",
      " 43464/50000: episode: 431, duration: 0.379s, episode steps: 177, steps per second: 468, episode reward: 177.000, mean reward: 1.000 [1.000, 1.000], mean action: 0.463 [0.000, 1.000], mean observation: -0.327 [-2.376, 0.422], loss: 4.213993, mean_absolute_error: 32.364269, mean_q: 65.747002\n",
      " 43646/50000: episode: 432, duration: 0.321s, episode steps: 182, steps per second: 566, episode reward: 182.000, mean reward: 1.000 [1.000, 1.000], mean action: 0.467 [0.000, 1.000], mean observation: -0.293 [-2.142, 0.431], loss: 4.410958, mean_absolute_error: 32.689484, mean_q: 66.587608\n",
      " 43813/50000: episode: 433, duration: 0.296s, episode steps: 167, steps per second: 564, episode reward: 167.000, mean reward: 1.000 [1.000, 1.000], mean action: 0.473 [0.000, 1.000], mean observation: -0.253 [-1.663, 0.500], loss: 4.532033, mean_absolute_error: 32.774632, mean_q: 66.623535\n",
      " 43958/50000: episode: 434, duration: 0.288s, episode steps: 145, steps per second: 504, episode reward: 145.000, mean reward: 1.000 [1.000, 1.000], mean action: 0.462 [0.000, 1.000], mean observation: -0.333 [-2.031, 0.577], loss: 4.252801, mean_absolute_error: 32.439384, mean_q: 66.085518\n",
      " 44158/50000: episode: 435, duration: 0.365s, episode steps: 200, steps per second: 548, episode reward: 200.000, mean reward: 1.000 [1.000, 1.000], mean action: 0.475 [0.000, 1.000], mean observation: -0.186 [-1.787, 0.461], loss: 3.869589, mean_absolute_error: 32.690311, mean_q: 66.646843\n",
      " 44302/50000: episode: 436, duration: 0.254s, episode steps: 144, steps per second: 566, episode reward: 144.000, mean reward: 1.000 [1.000, 1.000], mean action: 0.458 [0.000, 1.000], mean observation: -0.386 [-2.179, 0.421], loss: 4.127262, mean_absolute_error: 32.453503, mean_q: 66.032959\n",
      " 44461/50000: episode: 437, duration: 0.286s, episode steps: 159, steps per second: 556, episode reward: 159.000, mean reward: 1.000 [1.000, 1.000], mean action: 0.465 [0.000, 1.000], mean observation: -0.347 [-2.181, 0.495], loss: 4.736096, mean_absolute_error: 32.880871, mean_q: 66.811775\n",
      " 44640/50000: episode: 438, duration: 0.315s, episode steps: 179, steps per second: 568, episode reward: 179.000, mean reward: 1.000 [1.000, 1.000], mean action: 0.469 [0.000, 1.000], mean observation: -0.302 [-2.040, 0.546], loss: 4.103351, mean_absolute_error: 32.802128, mean_q: 66.596840\n",
      " 44795/50000: episode: 439, duration: 0.281s, episode steps: 155, steps per second: 551, episode reward: 155.000, mean reward: 1.000 [1.000, 1.000], mean action: 0.465 [0.000, 1.000], mean observation: -0.347 [-2.037, 0.518], loss: 5.970250, mean_absolute_error: 32.715813, mean_q: 66.501549\n",
      " 44942/50000: episode: 440, duration: 0.259s, episode steps: 147, steps per second: 567, episode reward: 147.000, mean reward: 1.000 [1.000, 1.000], mean action: 0.463 [0.000, 1.000], mean observation: -0.337 [-2.019, 0.494], loss: 3.610414, mean_absolute_error: 32.372707, mean_q: 65.787865\n",
      " 45142/50000: episode: 441, duration: 0.350s, episode steps: 200, steps per second: 571, episode reward: 200.000, mean reward: 1.000 [1.000, 1.000], mean action: 0.470 [0.000, 1.000], mean observation: -0.282 [-2.148, 0.450], loss: 3.441078, mean_absolute_error: 32.702648, mean_q: 66.410934\n",
      " 45299/50000: episode: 442, duration: 0.300s, episode steps: 157, steps per second: 523, episode reward: 157.000, mean reward: 1.000 [1.000, 1.000], mean action: 0.471 [0.000, 1.000], mean observation: -0.315 [-1.877, 0.459], loss: 3.922425, mean_absolute_error: 32.963562, mean_q: 67.059540\n",
      " 45449/50000: episode: 443, duration: 0.277s, episode steps: 150, steps per second: 541, episode reward: 150.000, mean reward: 1.000 [1.000, 1.000], mean action: 0.460 [0.000, 1.000], mean observation: -0.368 [-2.189, 0.516], loss: 3.131426, mean_absolute_error: 32.984371, mean_q: 67.194176\n",
      " 45615/50000: episode: 444, duration: 0.308s, episode steps: 166, steps per second: 538, episode reward: 166.000, mean reward: 1.000 [1.000, 1.000], mean action: 0.464 [0.000, 1.000], mean observation: -0.326 [-2.155, 0.532], loss: 3.449906, mean_absolute_error: 32.547371, mean_q: 66.197563\n",
      " 45815/50000: episode: 445, duration: 0.364s, episode steps: 200, steps per second: 550, episode reward: 200.000, mean reward: 1.000 [1.000, 1.000], mean action: 0.480 [0.000, 1.000], mean observation: -0.198 [-1.663, 0.525], loss: 6.849992, mean_absolute_error: 32.824257, mean_q: 66.746071\n",
      " 45974/50000: episode: 446, duration: 0.290s, episode steps: 159, steps per second: 548, episode reward: 159.000, mean reward: 1.000 [1.000, 1.000], mean action: 0.459 [0.000, 1.000], mean observation: -0.370 [-2.331, 0.435], loss: 5.144136, mean_absolute_error: 32.440254, mean_q: 66.051796\n",
      " 46123/50000: episode: 447, duration: 0.306s, episode steps: 149, steps per second: 486, episode reward: 149.000, mean reward: 1.000 [1.000, 1.000], mean action: 0.456 [0.000, 1.000], mean observation: -0.380 [-2.356, 0.450], loss: 3.992756, mean_absolute_error: 33.042988, mean_q: 67.227280\n",
      " 46291/50000: episode: 448, duration: 0.304s, episode steps: 168, steps per second: 552, episode reward: 168.000, mean reward: 1.000 [1.000, 1.000], mean action: 0.464 [0.000, 1.000], mean observation: -0.344 [-2.211, 0.396], loss: 3.548787, mean_absolute_error: 32.787346, mean_q: 66.688538\n",
      " 46485/50000: episode: 449, duration: 0.348s, episode steps: 194, steps per second: 558, episode reward: 194.000, mean reward: 1.000 [1.000, 1.000], mean action: 0.469 [0.000, 1.000], mean observation: -0.267 [-2.142, 0.591], loss: 5.417616, mean_absolute_error: 33.242599, mean_q: 67.662552\n",
      " 46677/50000: episode: 450, duration: 0.353s, episode steps: 192, steps per second: 544, episode reward: 192.000, mean reward: 1.000 [1.000, 1.000], mean action: 0.469 [0.000, 1.000], mean observation: -0.288 [-2.167, 0.507], loss: 3.288498, mean_absolute_error: 33.081009, mean_q: 67.447609\n",
      " 46837/50000: episode: 451, duration: 0.286s, episode steps: 160, steps per second: 560, episode reward: 160.000, mean reward: 1.000 [1.000, 1.000], mean action: 0.463 [0.000, 1.000], mean observation: -0.354 [-2.171, 0.368], loss: 3.162366, mean_absolute_error: 33.088619, mean_q: 67.415627\n"
     ]
    },
    {
     "name": "stdout",
     "output_type": "stream",
     "text": [
      " 47027/50000: episode: 452, duration: 0.336s, episode steps: 190, steps per second: 566, episode reward: 190.000, mean reward: 1.000 [1.000, 1.000], mean action: 0.474 [0.000, 1.000], mean observation: -0.309 [-2.214, 0.742], loss: 5.018560, mean_absolute_error: 33.289719, mean_q: 67.728096\n",
      " 47227/50000: episode: 453, duration: 0.368s, episode steps: 200, steps per second: 544, episode reward: 200.000, mean reward: 1.000 [1.000, 1.000], mean action: 0.470 [0.000, 1.000], mean observation: -0.267 [-2.154, 0.737], loss: 3.970732, mean_absolute_error: 32.746159, mean_q: 66.661438\n",
      " 47397/50000: episode: 454, duration: 0.317s, episode steps: 170, steps per second: 537, episode reward: 170.000, mean reward: 1.000 [1.000, 1.000], mean action: 0.465 [0.000, 1.000], mean observation: -0.326 [-2.226, 0.536], loss: 2.642750, mean_absolute_error: 32.936569, mean_q: 67.055870\n",
      " 47597/50000: episode: 455, duration: 0.363s, episode steps: 200, steps per second: 551, episode reward: 200.000, mean reward: 1.000 [1.000, 1.000], mean action: 0.480 [0.000, 1.000], mean observation: -0.195 [-1.642, 0.577], loss: 4.731345, mean_absolute_error: 33.073238, mean_q: 67.359802\n",
      " 47781/50000: episode: 456, duration: 0.335s, episode steps: 184, steps per second: 549, episode reward: 184.000, mean reward: 1.000 [1.000, 1.000], mean action: 0.467 [0.000, 1.000], mean observation: -0.309 [-2.199, 0.590], loss: 5.393124, mean_absolute_error: 32.976913, mean_q: 67.043823\n",
      " 47961/50000: episode: 457, duration: 0.335s, episode steps: 180, steps per second: 538, episode reward: 180.000, mean reward: 1.000 [1.000, 1.000], mean action: 0.472 [0.000, 1.000], mean observation: -0.286 [-1.958, 0.738], loss: 3.841950, mean_absolute_error: 33.166039, mean_q: 67.425804\n",
      " 48135/50000: episode: 458, duration: 0.320s, episode steps: 174, steps per second: 544, episode reward: 174.000, mean reward: 1.000 [1.000, 1.000], mean action: 0.466 [0.000, 1.000], mean observation: -0.317 [-2.222, 0.567], loss: 5.324329, mean_absolute_error: 32.716393, mean_q: 66.612083\n",
      " 48284/50000: episode: 459, duration: 0.291s, episode steps: 149, steps per second: 511, episode reward: 149.000, mean reward: 1.000 [1.000, 1.000], mean action: 0.463 [0.000, 1.000], mean observation: -0.388 [-2.243, 0.683], loss: 6.266045, mean_absolute_error: 33.195705, mean_q: 67.539444\n",
      " 48440/50000: episode: 460, duration: 0.280s, episode steps: 156, steps per second: 557, episode reward: 156.000, mean reward: 1.000 [1.000, 1.000], mean action: 0.462 [0.000, 1.000], mean observation: -0.345 [-2.221, 0.507], loss: 4.925284, mean_absolute_error: 33.374649, mean_q: 67.864212\n",
      " 48579/50000: episode: 461, duration: 0.257s, episode steps: 139, steps per second: 542, episode reward: 139.000, mean reward: 1.000 [1.000, 1.000], mean action: 0.460 [0.000, 1.000], mean observation: -0.409 [-2.207, 0.505], loss: 2.673047, mean_absolute_error: 32.792484, mean_q: 66.777275\n",
      " 48779/50000: episode: 462, duration: 0.385s, episode steps: 200, steps per second: 520, episode reward: 200.000, mean reward: 1.000 [1.000, 1.000], mean action: 0.475 [0.000, 1.000], mean observation: -0.207 [-1.811, 0.522], loss: 4.020885, mean_absolute_error: 32.914932, mean_q: 67.141281\n",
      " 48941/50000: episode: 463, duration: 0.290s, episode steps: 162, steps per second: 558, episode reward: 162.000, mean reward: 1.000 [1.000, 1.000], mean action: 0.463 [0.000, 1.000], mean observation: -0.343 [-2.211, 0.571], loss: 3.758713, mean_absolute_error: 33.042389, mean_q: 67.365356\n",
      " 49128/50000: episode: 464, duration: 0.345s, episode steps: 187, steps per second: 542, episode reward: 187.000, mean reward: 1.000 [1.000, 1.000], mean action: 0.465 [0.000, 1.000], mean observation: -0.340 [-2.700, 0.515], loss: 4.231011, mean_absolute_error: 32.927898, mean_q: 67.097092\n",
      " 49304/50000: episode: 465, duration: 0.326s, episode steps: 176, steps per second: 540, episode reward: 176.000, mean reward: 1.000 [1.000, 1.000], mean action: 0.466 [0.000, 1.000], mean observation: -0.323 [-2.158, 0.578], loss: 5.594482, mean_absolute_error: 33.050003, mean_q: 67.239052\n",
      " 49451/50000: episode: 466, duration: 0.264s, episode steps: 147, steps per second: 558, episode reward: 147.000, mean reward: 1.000 [1.000, 1.000], mean action: 0.456 [0.000, 1.000], mean observation: -0.405 [-2.340, 0.615], loss: 4.512340, mean_absolute_error: 32.713402, mean_q: 66.597443\n",
      " 49637/50000: episode: 467, duration: 0.351s, episode steps: 186, steps per second: 530, episode reward: 186.000, mean reward: 1.000 [1.000, 1.000], mean action: 0.468 [0.000, 1.000], mean observation: -0.294 [-2.148, 0.529], loss: 2.926078, mean_absolute_error: 33.240643, mean_q: 67.842293\n",
      " 49792/50000: episode: 468, duration: 0.315s, episode steps: 155, steps per second: 492, episode reward: 155.000, mean reward: 1.000 [1.000, 1.000], mean action: 0.465 [0.000, 1.000], mean observation: -0.326 [-1.986, 0.593], loss: 4.904675, mean_absolute_error: 32.895901, mean_q: 67.046822\n",
      " 49992/50000: episode: 469, duration: 0.362s, episode steps: 200, steps per second: 552, episode reward: 200.000, mean reward: 1.000 [1.000, 1.000], mean action: 0.475 [0.000, 1.000], mean observation: -0.255 [-1.989, 0.699], loss: 2.604985, mean_absolute_error: 32.929131, mean_q: 67.186058\n",
      "done, took 96.693 seconds\n"
     ]
    },
    {
     "data": {
      "text/plain": [
       "<keras.callbacks.History at 0x128b09f98>"
      ]
     },
     "execution_count": 6,
     "metadata": {},
     "output_type": "execute_result"
    }
   ],
   "source": [
    "policy = EpsGreedyQPolicy()\n",
    "memory = SequentialMemory(limit=50000, window_length=1)\n",
    "dqn = DQNAgent(model=model, nb_actions=nb_actions, memory=memory, nb_steps_warmup=10, target_model_update=1e-2, \n",
    "               policy=policy)\n",
    "dqn.compile(Adam(lr=1e-3), metrics=['mae'])\n",
    "\n",
    "# Okay, now it's time to learn something! We visualize the training here for show, but this slows down training quite a lot. \n",
    "#dqn.fit(env, nb_steps=50000, visualize=True, verbose=2)\n",
    "dqn.fit(env, nb_steps=50000, visualize=False, verbose=2)"
   ]
  },
  {
   "cell_type": "code",
   "execution_count": 7,
   "metadata": {},
   "outputs": [
    {
     "name": "stdout",
     "output_type": "stream",
     "text": [
      "Testing for 5 episodes ...\n",
      "Episode 1: reward: 200.000, steps: 200\n",
      "Episode 2: reward: 187.000, steps: 187\n",
      "Episode 3: reward: 180.000, steps: 180\n",
      "Episode 4: reward: 200.000, steps: 200\n",
      "Episode 5: reward: 190.000, steps: 190\n"
     ]
    },
    {
     "data": {
      "text/plain": [
       "<keras.callbacks.History at 0x128716828>"
      ]
     },
     "execution_count": 7,
     "metadata": {},
     "output_type": "execute_result"
    }
   ],
   "source": [
    "dqn.test(env, nb_episodes=5, visualize=True)"
   ]
  },
  {
   "cell_type": "code",
   "execution_count": null,
   "metadata": {},
   "outputs": [],
   "source": []
  }
 ],
 "metadata": {
  "kernelspec": {
   "display_name": "Python 3",
   "language": "python",
   "name": "python3"
  },
  "language_info": {
   "codemirror_mode": {
    "name": "ipython",
    "version": 3
   },
   "file_extension": ".py",
   "mimetype": "text/x-python",
   "name": "python",
   "nbconvert_exporter": "python",
   "pygments_lexer": "ipython3",
   "version": "3.7.3"
  }
 },
 "nbformat": 4,
 "nbformat_minor": 2
}
