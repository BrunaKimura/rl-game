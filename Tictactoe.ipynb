{
 "cells": [
  {
   "cell_type": "code",
   "execution_count": 1,
   "metadata": {},
   "outputs": [
    {
     "name": "stderr",
     "output_type": "stream",
     "text": [
      "Using TensorFlow backend.\n"
     ]
    }
   ],
   "source": [
    "import numpy as np\n",
    "import matplotlib.pyplot as plt\n",
    "\n",
    "import gym\n",
    "from gym.spaces import Discrete, Box\n",
    "\n",
    "from keras.models import Sequential\n",
    "from keras.layers import Dense, Activation, Flatten\n",
    "from keras.optimizers import Adam\n",
    "\n",
    "from rl.agents.dqn import DQNAgent\n",
    "from rl.policy import BoltzmannQPolicy\n",
    "from rl.memory import SequentialMemory\n",
    "from rl.callbacks import Callback\n",
    "from spinup import ppo\n",
    "import tensorflow as tf"
   ]
  },
  {
   "cell_type": "markdown",
   "metadata": {},
   "source": [
    "# Reinforcement Learning com Jogo da Velha e TensorFlow"
   ]
  },
  {
   "cell_type": "markdown",
   "metadata": {},
   "source": [
    "#### Por Bruna Kimura, Elisa Malzoni e Raphael Costa"
   ]
  },
  {
   "cell_type": "markdown",
   "metadata": {},
   "source": [
    "## Intro"
   ]
  },
  {
   "cell_type": "markdown",
   "metadata": {},
   "source": [
    "Essa aula tem como objetivo discorrer e mostrar dois métodos de Reinforcement Learning: o Proximal Policy Optimization (PPO) e o Deep Q-Learning.\n",
    "\n",
    "Para tal, utilizaremos um ambiente simulado de um jogo da velha. No jogo da velha, dois jogadores duelam e, quem conseguir 3 Círculos (jogador 1) ou 3 X's (Jogador 2) em sequência em uma linha, coluna ou diagonal vence. Nosso objetivo nesta aula é construir um Bot que aprenda a jogar o jogo da velha, e, mais do que isso, ganhe o máximo possível, permitindo-se apenas empatar."
   ]
  },
  {
   "cell_type": "markdown",
   "metadata": {},
   "source": [
    "## Explicações Iniciais"
   ]
  },
  {
   "cell_type": "markdown",
   "metadata": {},
   "source": [
    "![diagrama](img/rl.png)"
   ]
  },
  {
   "cell_type": "markdown",
   "metadata": {},
   "source": [
    "Para um experimento de Reinforcement Learning, precisamos definir 4 conceitos principais: Agente, Estado, Ambiente e Recompensa.\n",
    "\n",
    "O agente é aquele que realiza ações. No nosso caso, queremos programar um agente capaz de jogar o Jogo da Velha (e, é claro, vencer). Este Agente é treinado dentro de um ambiente, na qual o Agente se baseia para tomar suas decisões. No nosso caso, este ambiente será uma matriz de 9 posições, simulando o tabuleiro de jogo da velha. Cada passo que o Agente da dentro do ambiente chamamos de Ação, ou seja, são todas as possibilidades de ação que o Agente tem. Cada Ação leva o Agente para um novo Estado, que corresponde a uma situação concreta e imediata da onde o Agente se encontra. Ainda, cada vez que o Agente faz uma Ação e se encontra em um novo Estado, definimos uma Recompensa dada por aquela Ação. No nosso jogo, a maior recompensa que o Agente terá é 1, dada quando ele consegue uma vitória. Quando perder, sua recompensa será de -1, e, por último, a recompensa por um empate é 0 (Nula)."
   ]
  },
  {
   "cell_type": "markdown",
   "metadata": {},
   "source": [
    "## O ambiente"
   ]
  },
  {
   "cell_type": "markdown",
   "metadata": {},
   "source": [
    "![tabuleiro](img/tabuleiro.png)"
   ]
  },
  {
   "cell_type": "markdown",
   "metadata": {},
   "source": [
    "Para construir o ambiente, utilizaremos duas classes: TicTacToe e TicTacToeEnv.\n",
    "\n",
    "Na <code>TicTacToe</code> definiremos o que é o jogo da velha, é a classe que descreve as regras do jogo em si. Assim, ela simulará uma matriz de 9 posições, que podem assumir 3 diferentes valores: 0, 1 e 2, onde 0 é uma posição vazia, 1 é o jogador círculo e 2 é o jogador X. Ainda, é ela quem confere se há um ganhador após determinada jogada.\n",
    "\n",
    "Ja a <code>TicTacToeEnv</code> é a classe responsável por efetivamente ser o ambiente de Reinforcement Learning do nosso bot. Ela baseia-se na classe TicTacToe para efetuar movimentos, treinar o bot, etc."
   ]
  },
  {
   "cell_type": "markdown",
   "metadata": {},
   "source": [
    "Para codificarmos um ambiente de Reinforcement Learning precisamos basicamente de duas funções: reset e step.\n",
    "\n",
    "A função <code>reset</code>, como o próprio nome diz, tem o papel de iniciar o ambiente a cada iteração. Assim, ela iniciará a matriz com todas as 9 posições zeradas e efetuará a primeira jogada do jogador 1. As jogadas do jogador 1, aquele contra o qual nosso bot está jogando, serão efetuadas aleatoriamente.\n",
    "\n",
    "A função <code>step</code> é responsável por indicar, no ambiente, qual foi a jogada que o nosso bot realizou. Ainda, ela também é responsável por dizer se o jogo acabou. Portanto, seu retorno é o estado do tabuleiro após a jogada do bot, a recompensa do agente para aquela ação tomada e se o jogo terminou.  \n",
    "\n",
    "Para este projeto, o design das funções do TicTacToeEnv foi baseado nos enviroments especificados na biblioteca do Keras, já que esta possui a implementação do algoritmo de Deep Q-Learning e, a biblioteca que possui a implementação do PPO, a OpenAI Spinning Up, é baseada na biblioteca do Keras para simular seus ambientes."
   ]
  },
  {
   "cell_type": "markdown",
   "metadata": {},
   "source": [
    "### TicTacToe"
   ]
  },
  {
   "cell_type": "code",
   "execution_count": 34,
   "metadata": {},
   "outputs": [],
   "source": [
    "class TicTacToe:\n",
    "\n",
    "    def __init__(self):\n",
    "        self.board_state = None\n",
    "    \n",
    "    def set_state(self, new_state):\n",
    "        \"\"\" 2d array of cell positions of the board. 0 = cell not occupied,\n",
    "            1 = cross occupies cell, 2 = nought occupies cell.\n",
    "            Example: [\n",
    "                [0, 0, 1],\n",
    "                [0, 0, 2],\n",
    "                [0, 0, 0]\n",
    "            ] \"\"\"\n",
    "\n",
    "        new_state = np.array(new_state)\n",
    "\n",
    "        assert new_state.shape == (len(new_state), len(new_state))\n",
    "\n",
    "        self.board_state = new_state\n",
    "\n",
    "        return self.board_state\n",
    "\n",
    "    def is_finished(self):\n",
    "        \"\"\" 0 = not finished, 1 = cross win, 2 = nought win, 3 = tie \"\"\"\n",
    "\n",
    "        # Are we tied?\n",
    "        if self.board_state.flatten().tolist().count(0) == 0:\n",
    "            return 3\n",
    "\n",
    "        # Stolen: https://codereview.stackexchange.com/a/24775\n",
    "        positions_groups = (\n",
    "            [[(x, y) for y in range(self.get_board_size())] for x in range(self.get_board_size())] +  # horizontals\n",
    "            [[(x, y) for x in range(self.get_board_size())] for y in range(self.get_board_size())] +  # verticals\n",
    "            [[(d, d) for d in range(self.get_board_size())]] +  # diagonal from top-left to bottom-right\n",
    "            [[(2-d, d) for d in range(self.get_board_size())]]  # diagonal from top-right to bottom-left\n",
    "        )\n",
    "        for positions in positions_groups:\n",
    "            values = [self.board_state[x][y] for (x, y) in positions]\n",
    "            if len(set(values)) == 1 and values[0]:\n",
    "                return values[0]\n",
    "\n",
    "        # Game isn't finished\n",
    "        return 0\n",
    "\n",
    "    def get_board_size(self):\n",
    "        return len(self.board_state)\n",
    "\n",
    "    def get_turn(self):\n",
    "        \"\"\" Returns 1 for crosses turn, 2 for noughts turn \"\"\"\n",
    "\n",
    "        flattened_list = self.board_state.flatten().tolist()\n",
    "\n",
    "        if flattened_list.count(1) > flattened_list.count(2):\n",
    "            return 2\n",
    "        else:\n",
    "            return 1\n",
    "\n",
    "    def make_move(self, x, y):\n",
    "        \"\"\" Updates the state with the requested new occupied cell \"\"\"\n",
    "        x = int(x)\n",
    "        y = int(y)\n",
    "        \n",
    "        # Sanity check\n",
    "        assert x < self.get_board_size() and y < self.get_board_size()\n",
    "        assert self.board_state[y][x] == 0\n",
    "        assert self.is_finished() == 0\n",
    "\n",
    "        new_state = self.board_state.copy()\n",
    "        new_state[y][x] = self.get_turn()\n",
    "\n",
    "        return self.set_state(new_state)\n",
    "\n",
    "    @staticmethod\n",
    "    def translate_position_to_xy(position, board_size=3):\n",
    "        \"\"\" Takes a single number and maps it to x, y coordinates.\n",
    "            Example: 8 = 2, 2 for a board_size of 3 \"\"\"\n",
    "\n",
    "        x = position % board_size\n",
    "        y = position / board_size\n",
    "\n",
    "        return x, y### TicTacToe"
   ]
  },
  {
   "cell_type": "markdown",
   "metadata": {},
   "source": [
    "### TicTacToeEnv"
   ]
  },
  {
   "cell_type": "code",
   "execution_count": 35,
   "metadata": {},
   "outputs": [],
   "source": [
    "### TicTacToeclass TicTacToeEnv:\n",
    "class TicTacToeEnv:\n",
    "    action_space = Discrete(3**2)\n",
    "\n",
    "    def __init__(self, board_size=3, predict_for=None):\n",
    "        self.board_size = board_size\n",
    "        self.predict_for = predict_for\n",
    "\n",
    "        self.observation_space = Box(\n",
    "            low=np.array([0 for cell in range(self.board_size ** 2)]),\n",
    "            high=np.array([2 for cell in range(self.board_size ** 2)])\n",
    "        )\n",
    "        self.tictactoe = None\n",
    "        \n",
    "    def render(self):\n",
    "        if self.tictactoe is not None and self.tictactoe.board_state is not None:\n",
    "            print(self.tictactoe.board_state)\n",
    "                    \n",
    "    def reset(self):\n",
    "        if self.predict_for is not None:\n",
    "            self.tictactoe = TicTacToe()\n",
    "            self.tictactoe.set_state(self.predict_for)\n",
    "            return self.tictactoe.board_state.flatten()\n",
    "\n",
    "        self.tictactoe = TicTacToe()\n",
    "        self.tictactoe.set_state([\n",
    "            [0, 0, 0],\n",
    "            [0, 0, 0],\n",
    "            [0, 0, 0]\n",
    "        ])\n",
    "        move = self._get_random_move()\n",
    "\n",
    "        self.tictactoe.make_move(move[0], move[1])\n",
    "\n",
    "        return self.tictactoe.board_state.flatten()\n",
    "    \n",
    "    def resetX1(self):\n",
    "        self.tictactoe = TicTacToe()\n",
    "        self.tictactoe.set_state([\n",
    "            [0, 0, 0],\n",
    "            [0, 0, 0],\n",
    "            [0, 0, 0]\n",
    "        ])\n",
    "\n",
    "        return self.tictactoe.board_state.flatten()\n",
    "    \n",
    "    def stepX1(self, action):\n",
    "        translated_action = TicTacToe.translate_position_to_xy(action)\n",
    "        \n",
    "        try:\n",
    "            self.tictactoe.make_move(translated_action[0], translated_action[1])\n",
    "\n",
    "        except AssertionError:\n",
    "            return self.tictactoe.board_state.flatten(), -1, True, {}\n",
    "        \n",
    "        winner = self.tictactoe.is_finished()\n",
    "        #winner == 0: nao acabou\n",
    "        #winner == 1: ganhou o 1\n",
    "        #winner == 2: ganhou o 2\n",
    "        #winner == 3: empate\n",
    "        return self.tictactoe.board_state.flatten(), winner \n",
    "    \n",
    "        \n",
    "\n",
    "    def step(self, action):\n",
    "        if self.predict_for is not None:\n",
    "            return self.tictactoe.board_state.flatten(), 0, True, {}\n",
    "\n",
    "        translated_action = TicTacToe.translate_position_to_xy(action)\n",
    "        \n",
    "\n",
    "        try:\n",
    "            self.tictactoe.make_move(translated_action[0], translated_action[1])\n",
    "\n",
    "        except AssertionError:\n",
    "            return self.tictactoe.board_state.flatten(), -1, True, {}\n",
    "\n",
    "        reward = 0\n",
    "        done = False\n",
    "        winner = self.tictactoe.is_finished()\n",
    "        if winner == 0:\n",
    "            move = self._get_random_move()\n",
    "            self.tictactoe.make_move(move[0], move[1])\n",
    "\n",
    "            next_winner = self.tictactoe.is_finished()\n",
    "            if next_winner == 1:\n",
    "                reward = -1\n",
    "                done = True\n",
    "            elif next_winner == 3:\n",
    "                reward = 0\n",
    "                done = True\n",
    "\n",
    "        elif winner == 2:\n",
    "            reward = 1\n",
    "            done = True\n",
    "\n",
    "        elif winner == 3:\n",
    "            reward = 0\n",
    "            done = True\n",
    "\n",
    "        return self.tictactoe.board_state.flatten(), reward, done, {}\n",
    "\n",
    "    def _get_random_move(self):\n",
    "        assert self.tictactoe.is_finished() == 0\n",
    "\n",
    "        positions = []\n",
    "        for x in range(self.board_size):\n",
    "            for y in range(self.board_size):\n",
    "                if self.tictactoe.board_state[y][x] == 0:\n",
    "                    positions.append((x, y))\n",
    "\n",
    "        return positions[np.random.choice(len(positions), 1)[0]]"
   ]
  },
  {
   "cell_type": "markdown",
   "metadata": {},
   "source": [
    "### TicTacToe com o PPO\n"
   ]
  },
  {
   "cell_type": "markdown",
   "metadata": {},
   "source": [
    "Para o Proximal Policy Optimization, como dito anteriormente, utilizaremos a implementação do OpenAI Spinning Up. Inicialmente, definimos uma váriavel que aponta para o ambiente que queremos utilizar, a <code>env_fn</code>.\n",
    "\n",
    "Ainda, a biblioteca define um Logger, a váriavel <code>logger_kwargs</code> que é a classe que printa o andamento do treinamento (como pode ser visto ao rodar as células seguintes) e salva os pesos e histórico do experimento em arquivos. Neste caso, salvaremos tais dados na pasta que este Notebook se encontra. "
   ]
  },
  {
   "cell_type": "markdown",
   "metadata": {},
   "source": [
    "Por fim, chamamos efetivamente a função <code>ppo</code>, passando, basicamente, 5 argumentos obrigatórios:\n",
    "- <code>env_fn</code>: váriavel do ambiente\n",
    "- <code>ac_kwargs</code>: váriavel que define a rede neural que será utilizada no experimento.\n",
    "- <code>steps_per_epoch</code>: Quantos passos por epóca o ambiente pode dar\n",
    "- <code>epochs</code>: número de épocas que serão realizadas no treinamento\n",
    "- <code>logger_kwargs</code>: váriavel do logger"
   ]
  },
  {
   "cell_type": "code",
   "execution_count": 36,
   "metadata": {},
   "outputs": [],
   "source": [
    "env_fn = lambda : TicTacToeEnv()"
   ]
  },
  {
   "cell_type": "markdown",
   "metadata": {},
   "source": [
    "### Atenção!!! O treinamento demora, não execute-a se você não deseja sobrepor o treinamento que ja fizemos."
   ]
  },
  {
   "cell_type": "code",
   "execution_count": null,
   "metadata": {
    "scrolled": true
   },
   "outputs": [],
   "source": [
    "ac_kwargs = dict(hidden_sizes=[64,64], activation=tf.nn.relu)\n",
    "\n",
    "logger_kwargs = dict(output_dir='spinupPpo', exp_name='experiment')\n",
    "\n",
    "ppo(env_fn=env_fn, ac_kwargs=ac_kwargs, steps_per_epoch=5000, epochs=50, logger_kwargs=logger_kwargs)"
   ]
  },
  {
   "cell_type": "markdown",
   "metadata": {},
   "source": [
    "### Pontos a se observar"
   ]
  },
  {
   "cell_type": "markdown",
   "metadata": {},
   "source": [
    "\n",
    "No logger do treinamento feito acima, é importante se atentar a alguns valores de retorno. Para uma Epóca N, podemos analisar o <code>AverageEpRet</code>, que indica o valor médio de retorno dos episódios. Para a época 9, por exemplo, temos uma média de -0.152, sendo que o máximo de retorno é 1 (quando o bot ganha) e o mínimo é -1, que é quando o bot perde o jogo. Uma média de -0.152 indica que o bot ainda está perdendo mais vezes do que ganhando, o que nos leva a conclusão de que é necessário mais épocas de treinamento, já que, idealmente queremos, no máximo, empatar e, se possível, nunca perder.\n",
    "\n",
    "Ainda, podemos analisar o EpLen, que indica uma média da duração do episódio, ou seja, quantas vezes o nosso bot jogou, em média, cada jogo. Considerando que ele joga em segundo, o bot pode jogar no máximo 4 vezes, preenchendo os 9 campos, resultando em um empate, e, no mínimo, 2 vezes, considerando que ele não evitou a primeira chance do outro player ganhar. Interessante analisar que o EpLen, no ínicio, vai crescendo junto com o AverageEpRet, o que indica que o bot aprende primeiro a evitar as derrotas.\n"
   ]
  },
  {
   "cell_type": "markdown",
   "metadata": {},
   "source": [
    "Ao final das 50 épocas de treinamento, o AverageEpRet encontra-se em 0.714, o que corresponde a uma média boa e próxima de 1. "
   ]
  },
  {
   "cell_type": "markdown",
   "metadata": {},
   "source": [
    "### Testando nosso bot "
   ]
  },
  {
   "cell_type": "markdown",
   "metadata": {},
   "source": [
    "Para testar nosso bot treinado com o PPO, utilizamos a função <code>load_policy</code>, que carrega os pesos e váriaveis salvos no treinamento nos arquivos locais. Vamos carregar nosso modelo para obter a função <code>get_action</code>, que é a função que, ao passarmos um tabuleiro, retorna outro tabuleiro com a jogada que o bot tomou a partir daquele estado"
   ]
  },
  {
   "cell_type": "code",
   "execution_count": 37,
   "metadata": {
    "scrolled": true
   },
   "outputs": [
    {
     "name": "stdout",
     "output_type": "stream",
     "text": [
      "INFO:tensorflow:Restoring parameters from ./spinupPpo/simple_save/variables/variables\n",
      "Using default action op.\n"
     ]
    }
   ],
   "source": [
    "from spinup.utils.test_policy import load_policy, run_policy\n",
    "_, get_action = load_policy('./spinupPpo')\n",
    "env = env_fn()\n",
    "#run_policy(env, get_action, render=False)"
   ]
  },
  {
   "cell_type": "markdown",
   "metadata": {},
   "source": [
    "Apesar de podermos testar nosso bot com a função <code>run_policy</code> da biblioteca do OpenAI, iremos fazer nossa própria função de teste para fins didáticos."
   ]
  },
  {
   "cell_type": "markdown",
   "metadata": {},
   "source": [
    "Na função play, passaremos o argumento n, que representa apenas quantas jogos serão feitos. Para cada jogo, iniciamos chamando a função <code>reset</code> do ambiente, para iniciarmos a matriz e fazer a primeira jogada do jogador 1. \n",
    "\n",
    "Assim, iniciamos a váriavel d, que indica se o jogo terminou ou não. Enquanto o jogo não terminar, efetuamos jogadas com a função <code>get_action</code>. Após a <code>get_action</code>, indicamos ao ambiente a jogada feita pelo bot com a função <code>step</code>, que atualiza o estado do tabuleiro e verifica se há um ganhador, e, se não houver, realiza a jogada do jogador 1. Esta função retorna 3 principais valores: \n",
    "- <code>o</code>, que representa o estado do tabuleiro;\n",
    "- <code>r</code>, que representa a recompensa do Agente para aquela ação tomada;\n",
    "- <code>d</code>, que inidica se o jogo terminou;"
   ]
  },
  {
   "cell_type": "code",
   "execution_count": 38,
   "metadata": {},
   "outputs": [],
   "source": [
    "def play(n=1):\n",
    "    for i in range(n):\n",
    "        o = env.reset()\n",
    "        env.render()\n",
    "        d = False\n",
    "        while not d:\n",
    "            a = get_action(o)\n",
    "            o, r, d, _ = env.step(a)\n",
    "            env.render()\n",
    "        if(r == 0):\n",
    "            print(\"Deu velha\")\n",
    "        elif(r == 1):\n",
    "            print(\"Bot ganhou\")\n",
    "        elif(r == -1):\n",
    "            print(\"Bot Perdeu\")\n",
    "        print(\"-------------------\")\n",
    "            "
   ]
  },
  {
   "cell_type": "code",
   "execution_count": 40,
   "metadata": {
    "scrolled": true
   },
   "outputs": [
    {
     "name": "stdout",
     "output_type": "stream",
     "text": [
      "[[0 0 0]\n",
      " [0 1 0]\n",
      " [0 0 0]]\n",
      "[[0 0 0]\n",
      " [0 1 1]\n",
      " [0 0 2]]\n",
      "[[0 0 1]\n",
      " [0 1 1]\n",
      " [2 0 2]]\n",
      "[[0 0 1]\n",
      " [0 1 1]\n",
      " [2 2 2]]\n",
      "Bot ganhou\n",
      "-------------------\n",
      "[[1 0 0]\n",
      " [0 0 0]\n",
      " [0 0 0]]\n",
      "[[1 0 1]\n",
      " [0 0 0]\n",
      " [2 0 0]]\n",
      "[[1 0 1]\n",
      " [0 0 0]\n",
      " [2 1 2]]\n",
      "[[1 0 1]\n",
      " [0 2 1]\n",
      " [2 1 2]]\n",
      "[[1 1 1]\n",
      " [2 2 1]\n",
      " [2 1 2]]\n",
      "Deu velha\n",
      "-------------------\n"
     ]
    }
   ],
   "source": [
    "play(2)"
   ]
  },
  {
   "cell_type": "markdown",
   "metadata": {},
   "source": [
    "### TicTacToe com Deep Q-Learning"
   ]
  },
  {
   "cell_type": "markdown",
   "metadata": {},
   "source": [
    "Para a o Deep Q-Learning utilizaremos a biblioteca do keras-rl. Como dito anteriormente, nosso ambiente foi feito com base na biblioteca do keras, portanto, não devemos ter muito problema para utilizar sua implementação. "
   ]
  },
  {
   "cell_type": "markdown",
   "metadata": {},
   "source": [
    "A classe <code>ModelIntervalCheckpoint</code>, como o próprio nome sugere, é responsável por salvar certos pontos de checkpoint durante o treinamento e, também é ela quem salva localmente os arquivos com os pesos encontrados para a rede neural em cada episódio, o que também tinhamos na execução do PPO."
   ]
  },
  {
   "cell_type": "code",
   "execution_count": 41,
   "metadata": {},
   "outputs": [],
   "source": [
    "class ModelIntervalCheckpoint(Callback):\n",
    "    def __init__(self, interval, verbose=0):\n",
    "        super(ModelIntervalCheckpoint, self).__init__()\n",
    "        self.interval = interval\n",
    "        self.step = 0\n",
    "\n",
    "        self.rewards = []\n",
    "        self.last_max = -1\n",
    "\n",
    "    def reset(self):\n",
    "        self.rewards = []\n",
    "\n",
    "    def on_step_begin(self, step, logs):\n",
    "        if self.step % self.interval == 0:\n",
    "            if len(self.rewards) > 0:\n",
    "                mean_reward = np.nanmean(self.rewards, axis=0)\n",
    "                if mean_reward > self.last_max:\n",
    "                    filename = 'saved-weights/%s.h5f' % mean_reward\n",
    "                    print(\"\\nSaving model checkpoint with mean reward %s to %s\" % (mean_reward, filename))\n",
    "\n",
    "                    self.model.save_weights(filename, overwrite=True)\n",
    "\n",
    "                    self.last_max = mean_reward\n",
    "\n",
    "            self.reset()\n",
    "\n",
    "    def on_step_end(self, step, logs={}):\n",
    "\n",
    "        self.rewards.append(logs['reward'])\n",
    "        self.step += 1"
   ]
  },
  {
   "cell_type": "markdown",
   "metadata": {},
   "source": [
    "Novamente criamos uma váriavel <code>env</code> em referência ao nosso ambiente, o <code>TicTacToeEnv</code>. A váriavel <code>model</code> será responsável por indicar o formato da Rede Neural que utilizaremos durante o experimento. \n",
    "\n",
    "Um conceito, que não há no PPO, é o de guardar os estados que o Agente ja passou, evitando que ele esqueça totalmente onde ja passou em passos anteriores. Para isso, criamos a váriavel <code>memory</code>. Ainda, criamos a <code>policy</code>, que diz respeito a policy utilizada pelo Agente."
   ]
  },
  {
   "cell_type": "markdown",
   "metadata": {},
   "source": [
    "Por fim, criamos um objeto do da classe <code>DQNAgent</code>, que recebe 7 argumentos obrigatórios:\n",
    "- <code>model</code>: modelo de rede neural que utilizaremos no experimento.\n",
    "- <code>nb_actions</code>: número de ações possíveis para o Agente (no nosso caso, 9, pois existem 9 posições possíveis para ele jogar)\n",
    "- <code>memory</code>: memória das jogadas anteriores\n",
    "- <code>target_model_update</code>: hiperparâmetro do modelo, que inidica a frequência com que atualizaremos os valores na rede neural. Para casos em que a váriavel está entre 0 e 1, estamos em Soft Update, e para casos em que a váriavel é maior que 1, estamos em Hard Update. No soft update, atualizamos os valores da rede neural por partes, enquanto que no hard update atualizamos a rede neural como um todo a cada <code>target_model_update</code> passos.\n",
    "- <code>policy</code>: policy utilizada pelo Agente.\n"
   ]
  },
  {
   "cell_type": "markdown",
   "metadata": {},
   "source": [
    "Para efetivamente treinarmos o modelo, precisamos chamar 2 funções da biblioteca:\n",
    "\n",
    "1) <code>Compile</code>: compila o Agente que será utilizado, determina um Optmizer para ser utilizado no treinamento e recebe a métrica sobre o qual queremos analisar o desempenho. No nosso caso, utilizaremos o mae, mean absolut error.\n",
    "\n",
    "2) <code>fit</code>: Treina o Agente sobre o ambiente. "
   ]
  },
  {
   "cell_type": "code",
   "execution_count": 42,
   "metadata": {},
   "outputs": [],
   "source": [
    "def build_dqn(env):\n",
    "    nb_actions = env.action_space.n\n",
    "\n",
    "    model = Sequential()\n",
    "    model.add(Flatten(input_shape=(1,) + env.observation_space.shape))\n",
    "    model.add(Dense(128))\n",
    "    model.add(Activation('relu'))\n",
    "    model.add(Dense(64))\n",
    "    model.add(Activation('relu'))\n",
    "    model.add(Dense(32))\n",
    "    model.add(Activation('relu'))\n",
    "    model.add(Dense(nb_actions, activation='linear'))\n",
    "\n",
    "    memory = SequentialMemory(limit=5000000, window_length=1)\n",
    "    policy = BoltzmannQPolicy()\n",
    "    log_interval = 10000\n",
    "\n",
    "    dqn = DQNAgent(\n",
    "        model=model,\n",
    "        nb_actions=nb_actions,\n",
    "        memory=memory,\n",
    "        target_model_update=1e-2,\n",
    "        policy=policy\n",
    "    )\n",
    "\n",
    "    dqn.compile(Adam(lr=1e-5), metrics=['accuracy', 'mae'])\n",
    "\n",
    "    return dqn\n",
    "\n",
    "def predict(board_state, model_path):\n",
    "    env = TicTacToeEnv(predict_for=board_state)\n",
    "\n",
    "    dqn = build_dqn(env)\n",
    "\n",
    "    dqn.load_weights(model_path)\n",
    "\n",
    "    dqn.test(env, nb_episodes=1, visualize=False, verbose=0)\n",
    "\n",
    "    return dqn.recent_action"
   ]
  },
  {
   "cell_type": "code",
   "execution_count": 43,
   "metadata": {},
   "outputs": [],
   "source": [
    "env = TicTacToeEnv()\n",
    "\n",
    "dqn = build_dqn(env)"
   ]
  },
  {
   "cell_type": "markdown",
   "metadata": {},
   "source": [
    "### Atenção!!! O treinamento demora, não execute-a se você não deseja sobrepor o treinamento que ja fizemos."
   ]
  },
  {
   "cell_type": "code",
   "execution_count": 12,
   "metadata": {
    "scrolled": false
   },
   "outputs": [
    {
     "name": "stdout",
     "output_type": "stream",
     "text": [
      "WARNING:tensorflow:From /usr/local/lib/python3.7/site-packages/tensorflow/python/framework/op_def_library.py:263: colocate_with (from tensorflow.python.framework.ops) is deprecated and will be removed in a future version.\n",
      "Instructions for updating:\n",
      "Colocations handled automatically by placer.\n"
     ]
    }
   ],
   "source": [
    "dqn.fit(env, nb_steps=50000, visualize=False, verbose=1,\n",
    "    callbacks=[ModelIntervalCheckpoint(interval=log_interval)],\n",
    "    log_interval=log_interval\n",
    ")"
   ]
  },
  {
   "cell_type": "markdown",
   "metadata": {},
   "source": [
    "Para testar, basta escolher o arquivo de pesos gerado com a maior média de retorno, que corresponde ao <code>AverageEpRet</code> no ambito do PPO. Portanto, a principio queremos um valor maior que 0, que inidicaria, novamente, que o Agente ganhou mais partidas do que perdeu. Porém, quando colocamos este Agente para treinar com um nb_steps=5000000, conseguimos com que esta média fosse de -0.141, o que pode indicar que, utilizando PPO, conseguimos um melhor resultado mais rápido, ja que, para treinar o PPO, precisamos de apenas 50 épocas para chegar em uma média de 0.751."
   ]
  },
  {
   "cell_type": "code",
   "execution_count": 44,
   "metadata": {},
   "outputs": [],
   "source": [
    "def playDql(n=1):\n",
    "    for i in range(n):\n",
    "        o = env.reset()\n",
    "        env.render()\n",
    "        d = False\n",
    "        while not d:\n",
    "            board_state = np.array([\n",
    "                o[0:3],\n",
    "                o[3:6],\n",
    "                o[6:]\n",
    "            ])\n",
    "            a = predict(board_state, 'saved-weights/-0.141.h5f')\n",
    "            o, r, d, _ = env.step(a)\n",
    "            env.render()\n",
    "        if(r == 0):\n",
    "            print(\"Deu velha\")\n",
    "        elif(r == 1):\n",
    "            print(\"Bot ganhou\")\n",
    "        elif(r == -1):\n",
    "            print(\"Bot Perdeu\")\n",
    "        print(\"-------------------\")\n",
    "            "
   ]
  },
  {
   "cell_type": "code",
   "execution_count": 45,
   "metadata": {
    "scrolled": true
   },
   "outputs": [
    {
     "name": "stdout",
     "output_type": "stream",
     "text": [
      "[[0 0 0]\n",
      " [1 0 0]\n",
      " [0 0 0]]\n",
      "[[1 0 0]\n",
      " [1 2 0]\n",
      " [0 0 0]]\n",
      "[[1 0 1]\n",
      " [1 2 0]\n",
      " [2 0 0]]\n",
      "[[1 0 1]\n",
      " [1 2 0]\n",
      " [2 2 1]]\n",
      "[[1 2 1]\n",
      " [1 2 0]\n",
      " [2 2 1]]\n",
      "Bot ganhou\n",
      "-------------------\n",
      "[[1 0 0]\n",
      " [0 0 0]\n",
      " [0 0 0]]\n",
      "[[1 0 0]\n",
      " [0 2 0]\n",
      " [0 1 0]]\n",
      "[[1 0 0]\n",
      " [1 2 0]\n",
      " [2 1 0]]\n",
      "[[1 0 2]\n",
      " [1 2 0]\n",
      " [2 1 0]]\n",
      "Bot ganhou\n",
      "-------------------\n"
     ]
    }
   ],
   "source": [
    "playDql(2)"
   ]
  },
  {
   "cell_type": "markdown",
   "metadata": {},
   "source": [
    "# PPO x DQN"
   ]
  },
  {
   "cell_type": "markdown",
   "metadata": {},
   "source": [
    "O nosso teste final, é claro, colocar o nosso Agente PPO treinado para jogar contra o Agente do DQN. Façam suas apostas.\n",
    "\n",
    "Para jogar, utilizaremos a função <code>stepX1</code>, feita no <code>TicTacToeEnv</code>. Esta função difere da <code>step</code> utilizada anteriormente, pois não faremos um movimento aleatório para o jogador 1, apenas colocará 1 ou 2, dependendo da vez de quem for, em uma posição do tabuleiro. \n",
    "\n",
    "Portanto, nossa função <code>stepX1</code> funciona da seguinte forma:\n",
    "\n",
    "- Recebe uma posição da matriz que deve ser jogada;\n",
    "\n",
    "- Transforma essa posição em uma coordenada relativa x,y;\n",
    "\n",
    "- Escreve na matriz 1 ou 2 na posição recebida;\n",
    "\n",
    "- Verifica se há um ganhador. A função de verificar um ganhador pode retornar 4 valores diferentes:\n",
    "    - 0, se a partida ainda não acabou;\n",
    "    - 1, se o jogador 1 ganhou;\n",
    "    - 2, se o jogador 2 ganhou;\n",
    "    - 3, se a partida empatou\n",
    "    \n",
    "- Por fim, a função retorna o tabuleiro atual após a jogada feita e o resultado da chamada da função winner.\n",
    "\n",
    "Desta forma, faremos 2 testes diferentes: \n",
    "\n",
    "- Colocaremos, primeiro, o PPO como jogador número 1 e o DQN como jogador número 2.\n",
    "- Depois, faremos o inverso, colocaremos o DQN como jogador número 1 e o PPO como jogador número 2.\n",
    "\n",
    "Desta forma, veremos se, em algum dos agentes treinados, faz diferença ele começar jogando ou não. Esperamos que não ja que, no treinamento de ambos, os bots sempre jogavam em segundo.\n",
    "\n",
    "Ainda, para jogar com o PPO, utilizamos a função <code>get_action</code> e, para jogar com o DQN utilizamos a função <code>predict</code>."
   ]
  },
  {
   "cell_type": "code",
   "execution_count": 63,
   "metadata": {},
   "outputs": [],
   "source": [
    "\n",
    "def ppoxdqn(train=False, visualize=False):\n",
    "    turn = 1\n",
    "    \n",
    "    o = env.resetX1()\n",
    "    if(visualize):\n",
    "        env.render()\n",
    "        print(\"PPO: 1\")\n",
    "        print(\"DQN: 2\")\n",
    "        print(\"-------------------\")\n",
    "        \n",
    "    w = 0\n",
    "    while w == 0:\n",
    "        if(turn == 1):\n",
    "            print(\"PPO turn\")\n",
    "            a = get_action(o)\n",
    "            o, w = env.stepX1(a)\n",
    "            turn = 2\n",
    "\n",
    "        elif(turn == 2):\n",
    "            print(\"DQN turn\")\n",
    "            board_state = np.array([\n",
    "                o[0:3],\n",
    "                o[3:6],\n",
    "                o[6:]\n",
    "            ])\n",
    "\n",
    "            a = predict(board_state, 'saved-weights/-0.141.h5f')\n",
    "            o, w = env.stepX1(a)\n",
    "            turn = 1\n",
    "\n",
    "        if(visualize):\n",
    "            env.render()\n",
    "            print(\"-------------------\")\n",
    "            \n",
    "    if(visualize):\n",
    "        if(w == 1):\n",
    "            print(\"PPO ganhou\")\n",
    "        elif(w == 2):\n",
    "            print(\"DQN ganhou\")\n",
    "        elif(w == 3):\n",
    "            print(\"Deu velha\")\n",
    "        \n",
    "        print(\"-------------------\")\n",
    "        \n",
    "    return w\n",
    "            "
   ]
  },
  {
   "cell_type": "code",
   "execution_count": 64,
   "metadata": {},
   "outputs": [
    {
     "name": "stdout",
     "output_type": "stream",
     "text": [
      "[[0 0 0]\n",
      " [0 0 0]\n",
      " [0 0 0]]\n",
      "PPO: 1\n",
      "DQN: 2\n",
      "-------------------\n",
      "PPO turn\n",
      "[[0 0 0]\n",
      " [0 0 0]\n",
      " [0 0 1]]\n",
      "-------------------\n",
      "DQN turn\n",
      "[[0 0 0]\n",
      " [0 2 0]\n",
      " [0 0 1]]\n",
      "-------------------\n",
      "PPO turn\n",
      "[[0 0 0]\n",
      " [0 2 0]\n",
      " [1 0 1]]\n",
      "-------------------\n",
      "DQN turn\n",
      "[[0 0 0]\n",
      " [0 2 0]\n",
      " [1 2 1]]\n",
      "-------------------\n",
      "PPO turn\n",
      "[[1 0 0]\n",
      " [0 2 0]\n",
      " [1 2 1]]\n",
      "-------------------\n",
      "DQN turn\n",
      "[[1 2 0]\n",
      " [0 2 0]\n",
      " [1 2 1]]\n",
      "-------------------\n",
      "DQN ganhou\n",
      "-------------------\n"
     ]
    },
    {
     "data": {
      "text/plain": [
       "2"
      ]
     },
     "execution_count": 64,
     "metadata": {},
     "output_type": "execute_result"
    }
   ],
   "source": [
    "ppoxdqn(visualize=True)"
   ]
  },
  {
   "cell_type": "code",
   "execution_count": 20,
   "metadata": {
    "scrolled": false
   },
   "outputs": [
    {
     "name": "stdout",
     "output_type": "stream",
     "text": [
      "3 3 2 3 1 3 3 3 3 1 "
     ]
    },
    {
     "ename": "AttributeError",
     "evalue": "'list' object has no attribute 'plot'",
     "output_type": "error",
     "traceback": [
      "\u001b[0;31m---------------------------------------------------------------------------\u001b[0m",
      "\u001b[0;31mAttributeError\u001b[0m                            Traceback (most recent call last)",
      "\u001b[0;32m<ipython-input-20-c3bd78150920>\u001b[0m in \u001b[0;36m<module>\u001b[0;34m\u001b[0m\n\u001b[1;32m      5\u001b[0m     \u001b[0mprint\u001b[0m\u001b[0;34m(\u001b[0m\u001b[0mw\u001b[0m\u001b[0;34m,\u001b[0m \u001b[0mend\u001b[0m \u001b[0;34m=\u001b[0m \u001b[0;34m' '\u001b[0m\u001b[0;34m)\u001b[0m\u001b[0;34m\u001b[0m\u001b[0;34m\u001b[0m\u001b[0m\n\u001b[1;32m      6\u001b[0m \u001b[0;34m\u001b[0m\u001b[0m\n\u001b[0;32m----> 7\u001b[0;31m \u001b[0mwinners\u001b[0m\u001b[0;34m.\u001b[0m\u001b[0mplot\u001b[0m\u001b[0;34m(\u001b[0m\u001b[0;34m)\u001b[0m\u001b[0;34m\u001b[0m\u001b[0;34m\u001b[0m\u001b[0m\n\u001b[0m",
      "\u001b[0;31mAttributeError\u001b[0m: 'list' object has no attribute 'plot'"
     ]
    }
   ],
   "source": [
    "winners = []\n",
    "for i in range(50):\n",
    "    w = ppoxdqn(train=True)\n",
    "    winners.append(w)\n",
    "    print(w, end = ' ')"
   ]
  },
  {
   "cell_type": "code",
   "execution_count": 65,
   "metadata": {},
   "outputs": [],
   "source": [
    "def dqnxppo(train=False, visualize=False):\n",
    "    turn = 1\n",
    "    \n",
    "    o = env.resetX1()\n",
    "    if(visualize):\n",
    "        env.render()\n",
    "        print(\"DQN: 1\")\n",
    "        print(\"PPO: 2\")\n",
    "        print(\"-------------------\")\n",
    "        \n",
    "    w = 0\n",
    "    while w == 0:\n",
    "        if(turn == 2):\n",
    "            print(\"PPO turn\")\n",
    "            a = get_action(o)\n",
    "            o, w = env.stepX1(a)\n",
    "            turn = 1\n",
    "\n",
    "        elif(turn == 1):\n",
    "            print(\"DQN turn\")\n",
    "            board_state = np.array([\n",
    "                o[0:3],\n",
    "                o[3:6],\n",
    "                o[6:]\n",
    "            ])\n",
    "\n",
    "            a = predict(board_state, 'saved-weights/-0.141.h5f')\n",
    "            o, w = env.stepX1(a)\n",
    "            turn = 2\n",
    "\n",
    "        if(visualize):\n",
    "            env.render()\n",
    "            print(\"-------------------\")\n",
    "            \n",
    "    if(visualize):\n",
    "        if(w == 1):\n",
    "            print(\"DQN ganhou\")\n",
    "        elif(w == 2):\n",
    "            print(\"PPO ganhou\")\n",
    "        elif(w == 3):\n",
    "            print(\"Deu velha\")\n",
    "        \n",
    "        print(\"-------------------\")\n",
    "        \n",
    "    return w\n",
    "            "
   ]
  },
  {
   "cell_type": "code",
   "execution_count": 66,
   "metadata": {},
   "outputs": [
    {
     "name": "stdout",
     "output_type": "stream",
     "text": [
      "[[0 0 0]\n",
      " [0 0 0]\n",
      " [0 0 0]]\n",
      "DQN: 1\n",
      "PPO: 2\n",
      "-------------------\n",
      "DQN turn\n",
      "[[0 1 0]\n",
      " [0 0 0]\n",
      " [0 0 0]]\n",
      "-------------------\n",
      "PPO turn\n",
      "[[0 1 0]\n",
      " [0 2 0]\n",
      " [0 0 0]]\n",
      "-------------------\n",
      "DQN turn\n",
      "[[1 1 0]\n",
      " [0 2 0]\n",
      " [0 0 0]]\n",
      "-------------------\n",
      "PPO turn\n",
      "[[1 1 0]\n",
      " [0 2 0]\n",
      " [2 0 0]]\n",
      "-------------------\n",
      "DQN turn\n",
      "[[1 1 1]\n",
      " [0 2 0]\n",
      " [2 0 0]]\n",
      "-------------------\n",
      "DQN ganhou\n",
      "-------------------\n"
     ]
    },
    {
     "data": {
      "text/plain": [
       "1"
      ]
     },
     "execution_count": 66,
     "metadata": {},
     "output_type": "execute_result"
    }
   ],
   "source": [
    "dqnxppo(visualize=True)"
   ]
  },
  {
   "cell_type": "code",
   "execution_count": null,
   "metadata": {},
   "outputs": [],
   "source": [
    "winners = []\n",
    "for i in range(50):\n",
    "    w = dqnxppo(train=True)\n",
    "    winners.append(w)\n",
    "    print(w, end = ' ')"
   ]
  },
  {
   "cell_type": "markdown",
   "metadata": {},
   "source": [
    "# Jogue contra os bots"
   ]
  },
  {
   "cell_type": "code",
   "execution_count": null,
   "metadata": {},
   "outputs": [],
   "source": [
    "def humanxbot(bot, play_first):\n",
    "    print(f\"Bem vindo ao duelo, você duelará com {bot})\n",
    "    if(play_first):\n",
    "        print(\"Voce escolheu jogar primeiro\")\n",
    "    else:\n",
    "        print(\"Voce escolheu jogar em segundo\") \n",
    "          \n",
    "    o = env.resetX1()\n",
    "    \n",
    "\n",
    "    if(visualize):\n",
    "        env.render()\n",
    "        print(\"DQN: 1\")\n",
    "        print(\"PPO: 2\")\n",
    "        print(\"-------------------\")\n",
    "        \n",
    "    w = 0\n",
    "    while w == 0:\n",
    "        if(turn == 2):\n",
    "            print(\"PPO turn\")\n",
    "            a = get_action(o)\n",
    "            o, w = env.stepX1(a)\n",
    "            turn = 1\n",
    "\n",
    "        elif(turn == 1):\n",
    "            print(\"DQN turn\")\n",
    "            board_state = np.array([\n",
    "                o[0:3],\n",
    "                o[3:6],\n",
    "                o[6:]\n",
    "            ])\n",
    "\n",
    "            a = predict(board_state, 'saved-weights/-0.141.h5f')\n",
    "            o, w = env.stepX1(a)\n",
    "            turn = 2\n",
    "\n",
    "        if(visualize):\n",
    "            env.render()\n",
    "            print(\"-------------------\")\n",
    "            \n",
    "    if(visualize):\n",
    "        if(w == 1):\n",
    "            print(\"DQN ganhou\")\n",
    "        elif(w == 2):\n",
    "            print(\"PPO ganhou\")\n",
    "        elif(w == 3):\n",
    "            print(\"Deu velha\")\n",
    "        \n",
    "        print(\"-------------------\")\n",
    "        \n",
    "    return w\n",
    "            "
   ]
  }
 ],
 "metadata": {
  "kernelspec": {
   "display_name": "Python 3",
   "language": "python",
   "name": "python3"
  },
  "language_info": {
   "codemirror_mode": {
    "name": "ipython",
    "version": 3
   },
   "file_extension": ".py",
   "mimetype": "text/x-python",
   "name": "python",
   "nbconvert_exporter": "python",
   "pygments_lexer": "ipython3",
   "version": "3.7.3"
  }
 },
 "nbformat": 4,
 "nbformat_minor": 2
}
